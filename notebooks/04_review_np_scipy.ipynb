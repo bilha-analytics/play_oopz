{
 "cells": [
  {
   "cell_type": "raw",
   "metadata": {},
   "source": [
    "<script>\n",
    "code_show=true; \n",
    "function code_toggle() {\n",
    " if (code_show){\n",
    " $('div.input').hide();\n",
    " } else {\n",
    " $('div.input').show();\n",
    " }\n",
    " code_show = !code_show\n",
    "} \n",
    "$( document ).ready(code_toggle);\n",
    "</script>\n",
    "<a href=\"javascript:code_toggle()\">Show/Hide Code</a>."
   ]
  },
  {
   "cell_type": "code",
   "execution_count": 651,
   "metadata": {},
   "outputs": [],
   "source": [
    "import pandas as pd\n",
    "import numpy as np\n",
    "from scipy import stats\n",
    "\n",
    "import seaborn as sns\n",
    "from matplotlib import pyplot as plt\n",
    "\n",
    "%matplotlib inline\n",
    "\n",
    "\n",
    "from IPython.core.interactiveshell import InteractiveShell\n",
    "InteractiveShell.ast_node_interactivity = \"all\""
   ]
  },
  {
   "cell_type": "code",
   "execution_count": 427,
   "metadata": {},
   "outputs": [
    {
     "name": "stdout",
     "output_type": "stream",
     "text": [
      "Shape of m is \t(1, 1, 4)\t3\t|S1\t<class 'numpy.ndarray'>\t[b'1' b'2' b'3' b'4']\n",
      "Shape of m2 is \t(1, 1, 4)\t3\t|S1\t<class 'numpy.ndarray'>\t[b'1' b'2' b'3' b'4']\n",
      "Shape of a is \t(100, 1)\t2\tfloat64\t<class 'numpy.ndarray'>\tNone\n",
      "Shape of X is \t(100, 3)\t2\tint64\t<class 'numpy.ndarray'>\tNone\n",
      "Shape of e is \t(100, 1)\t2\tfloat64\t<class 'numpy.ndarray'>\tNone\n",
      "Shape of y is \t(100, 3)\t2\tfloat64\t<class 'numpy.ndarray'>\tNone\n"
     ]
    }
   ],
   "source": [
    "## generate data \n",
    "# y = aX + e\n",
    "m = np.array([1,2,3,4], ndmin=3, dtype='S')\n",
    "m2 = m.view()\n",
    "n = 100 \n",
    "a = np.random.randn(n, 1) + 2\n",
    "e = np.random.randn(n, 1)\n",
    "X = np.random.randint([0, 20, 30], size=(n, 3), high=[[40]])\n",
    "\n",
    "y =  (a*X) + e #element wise \n",
    "y =  (X.T @ a.flatten() ) + e # dot product \n",
    "\n",
    "for x, i in zip((m, m2, a, X, e, y), ('m','m2','a', 'X', 'e', 'y') ):\n",
    "    print( f\"Shape of {i} is \\t{x.shape}\\t{x.ndim}\\t{x.dtype}\\t{type(x)}\\t{x.base}\")\n",
    "    "
   ]
  },
  {
   "cell_type": "code",
   "execution_count": 78,
   "metadata": {},
   "outputs": [
    {
     "data": {
      "text/plain": [
       "array([25.46035914, 26.44488928, 33.33660022])"
      ]
     },
     "execution_count": 78,
     "metadata": {},
     "output_type": "execute_result"
    },
    {
     "data": {
      "text/plain": [
       "array([3938.31496349, 6024.42063199, 7092.15771902])"
      ]
     },
     "execution_count": 78,
     "metadata": {},
     "output_type": "execute_result"
    },
    {
     "data": {
      "text/plain": [
       "array([3938.31496349, 6024.42063199, 7092.15771902])"
      ]
     },
     "execution_count": 78,
     "metadata": {},
     "output_type": "execute_result"
    },
    {
     "data": {
      "text/plain": [
       "array([3938.31496349, 6024.42063199, 7092.15771902])"
      ]
     },
     "execution_count": 78,
     "metadata": {},
     "output_type": "execute_result"
    }
   ],
   "source": [
    "y =  (a*X) + e #element wise\n",
    "y[0]\n",
    "y =  (X.T @ a.flatten() ) + e # dot product \n",
    "y[0]\n",
    "y =  (a.T @ X ) + e # dot product \n",
    "y[0]\n",
    "y =  (a.flatten() @ X ) + e # dot product \n",
    "y[0]"
   ]
  },
  {
   "cell_type": "code",
   "execution_count": 44,
   "metadata": {},
   "outputs": [],
   "source": [
    "### astype returns a copy\n",
    "# m\n",
    "# m.astype('i4')\n",
    "# m2 = m.astype(bool)\n",
    "# m2[:,:,2] = False\n",
    "# m\n",
    "# m2\n",
    "# m2.astype(int)\n",
    "# m3 = m.copy()\n",
    "# m3[:,:,2] = 'c'\n",
    "# m\n",
    "# m3\n",
    "# m4 = m.view()\n",
    "# m4\n",
    "# m\n",
    "# m4[:,:,2]='CC'\n",
    "# m4\n",
    "# m"
   ]
  },
  {
   "cell_type": "code",
   "execution_count": 110,
   "metadata": {},
   "outputs": [],
   "source": [
    "### Reshaping, whiich returns a view and not copy \n",
    "# m.shape\n",
    "# ## reshape(-1) = flatten = 1-D\n",
    "# m.flatten().shape\n",
    "# m.reshshape(-1, m2.shape[2]//2)\n",
    "# z.shape\n",
    "# z[0]\n",
    "# e.shape\n",
    "# e.flatten().shape\n",
    "# e.flatten()[0]\n",
    "# e.reshape((50,2))[0]\n",
    "# e.reshape((-1,2))[0]  ##ape(-1).shape\n",
    "# z = m2.re auto calc the -1 dim"
   ]
  },
  {
   "cell_type": "code",
   "execution_count": 112,
   "metadata": {},
   "outputs": [],
   "source": [
    "# ### iterate nditer\n",
    "# m\n",
    "\n",
    "# for x in np.nditer(m, flags=['buffered'], op_dtypes=['S']):\n",
    "#     print(x)\n",
    "\n",
    "# for i, x in np.ndenumerate(m):\n",
    "#     print( f\"{i}\\t{x}\")\n",
    "\n",
    "# for i, x in np.ndenumerate(z):\n",
    "#     print( f\"{i}\\t{x}\")\n",
    "\n",
    "# for i, x in np.ndenumerate(m.flatten()):\n",
    "#     print( f\"{i}\\t{x}\")"
   ]
  },
  {
   "cell_type": "code",
   "execution_count": 150,
   "metadata": {},
   "outputs": [],
   "source": [
    "# m.shape\n",
    "# z.shape\n",
    "# m2 = m2.astype(int)\n",
    "# m2.shape\n",
    "# z2 = m2.reshape(-1, 2)*10\n",
    "# z, z.shape\n",
    "# z2, z2.shape\n",
    "# print(\"---\")\n",
    "# np.concatenate( (z, z2), axis=0 ).shape\n",
    "# np.concatenate( (z, z2), axis=1 ).shape\n",
    "# np.stack( (z, z2)  , axis=1).shape\n",
    "# np.dstack( (z, z2)  ).shape\n",
    "# print(\"---\")\n",
    "# np.hstack( (z, z2)  )\n",
    "# np.vstack( (z, z2)  )"
   ]
  },
  {
   "cell_type": "code",
   "execution_count": 190,
   "metadata": {},
   "outputs": [],
   "source": [
    "# m\n",
    "# np.array_split(m.flatten(), 3)\n",
    "# np.array_split(m, 2, axis=2)\n",
    "## np.vsplit(m, 2)"
   ]
  },
  {
   "cell_type": "code",
   "execution_count": 209,
   "metadata": {},
   "outputs": [],
   "source": [
    "# m2, z2\n",
    "# np.where( m2.flatten()%10==0 )\n",
    "# np.where( z2.flatten()%10==0 )\n",
    "# z2.flatten()[np.where( z2.flatten()%20==0 )]\n",
    "# z3 = z2.flatten()\n",
    "# z3\n",
    "# np.searchsorted( z3, [37,43]) ##binary search on a sorted array side=left|right\n"
   ]
  },
  {
   "cell_type": "code",
   "execution_count": 227,
   "metadata": {},
   "outputs": [],
   "source": [
    "## np.sort returns a copy \n",
    "### filter using boolean indexing as seen previously\n",
    "# q = a[0:6]\n",
    "# q2 = q.reshape(3, -1)\n",
    "# q2\n",
    "# np.sort(q, axis=0)\n",
    "# np.sort(q.flatten())\n",
    "# np.sort(q2, axis=0)\n",
    "# np.sort(q.reshape(2,-1))"
   ]
  },
  {
   "cell_type": "code",
   "execution_count": 235,
   "metadata": {},
   "outputs": [],
   "source": [
    "# \"__\".join( [ str(np.random.choice( m.flatten(), size=(2,3)) )  for i in range(10) ] )"
   ]
  },
  {
   "cell_type": "code",
   "execution_count": 284,
   "metadata": {},
   "outputs": [
    {
     "data": {
      "image/png": "[encoded data removed]",
      "text/plain": [
       "<Figure size 432x288 with 1 Axes>"
      ]
     },
     "metadata": {
      "needs_background": "light"
     },
     "output_type": "display_data"
    }
   ],
   "source": [
    "## Permutations:: np.shuffle alters current array in place, np.permutation returns new array \n",
    "\n",
    "### dists\n",
    "sns.distplot(e, label='norm-errorr');\n",
    "sns.distplot(a, label='b-coeff');\n",
    "sns.distplot( np.random.normal(loc=12, scale=2, size=(n*n,1)), label='gauss'); \n",
    "sns.distplot( np.random.binomial(n=n, p=0.2, size=(n*n,1)), label='binom');\n",
    "sns.distplot( np.random.poisson(lam=n*.4,size=(n*n,1)), label='poiss');\n",
    "\n",
    "plt.legend = True\n",
    "plt.show();"
   ]
  },
  {
   "cell_type": "code",
   "execution_count": 306,
   "metadata": {},
   "outputs": [
    {
     "data": {
      "image/png": "[encoded data removed]",
      "text/plain": [
       "<Figure size 432x288 with 1 Axes>"
      ]
     },
     "metadata": {
      "needs_background": "light"
     },
     "output_type": "display_data"
    }
   ],
   "source": [
    "sns.distplot( np.random.binomial(n=n, p=0.4, size=(n,1)), label='binom');\n",
    "sns.distplot( np.random.poisson(lam=n*.4,size=(n,1)), label='poiss');\n",
    "sns.distplot( np.random.uniform(low=20, high=60, size=(n,1)), label='uni');\n",
    "# sns.distplot( np.random.multinomial(n=4, pvals=[0.4,0.3,0.2,0.1], size=(n,1)), label='multinom');\n",
    "## logistic distribution - describe growth \n",
    "sns.distplot( np.random.logistic(loc=100, scale=5, size=(n,1)), label='logistic');"
   ]
  },
  {
   "cell_type": "code",
   "execution_count": 314,
   "metadata": {},
   "outputs": [
    {
     "data": {
      "image/png": "[encoded data removed]",
      "text/plain": [
       "<Figure size 432x288 with 1 Axes>"
      ]
     },
     "metadata": {
      "needs_background": "light"
     },
     "output_type": "display_data"
    }
   ],
   "source": [
    "sns.distplot( np.random.normal(loc=100, scale=5, size=(n,1)), label='norm');\n",
    "sns.distplot( np.random.logistic(loc=100, scale=5, size=(n,1)), label='logistic');\n",
    "sns.distplot( np.random.exponential(scale=10, size=(n,1)), label='expo');"
   ]
  },
  {
   "cell_type": "code",
   "execution_count": 315,
   "metadata": {},
   "outputs": [],
   "source": [
    "# sns.distplot( np.random.multinomial(n=4, pvals=[0.4,0.3,0.2,0.1], size=(n*n,1)), label='multinom');"
   ]
  },
  {
   "cell_type": "code",
   "execution_count": 351,
   "metadata": {},
   "outputs": [],
   "source": [
    "### ufuncs\n",
    "#type(np.log)==np.ufunc\n",
    "# type(np.arcsin) \n",
    "# z2, m2\n",
    "# np.unique(z2)\n",
    "# np.union1d(z2, m2)\n",
    "# np.intersect1d(z2, m2, assume_unique=True)\n",
    "# np.setdiff1d(z2, m2, assume_unique=True)\n",
    "# np.setxor1d(z2.reshape(-1), m2.flatten(), assume_unique=True)"
   ]
  },
  {
   "cell_type": "code",
   "execution_count": 355,
   "metadata": {},
   "outputs": [
    {
     "data": {
      "text/plain": [
       "<function __main__.f.<locals>.<lambda>(c)>"
      ]
     },
     "execution_count": 355,
     "metadata": {},
     "output_type": "execute_result"
    },
    {
     "data": {
      "text/plain": [
       "[0, 2, 4, 6, 8, 10, 12, 14, 16, 18]"
      ]
     },
     "execution_count": 355,
     "metadata": {},
     "output_type": "execute_result"
    },
    {
     "data": {
      "text/plain": [
       "[0, 1000, 2000, 3000, 4000, 5000, 6000, 7000, 8000, 9000]"
      ]
     },
     "execution_count": 355,
     "metadata": {},
     "output_type": "execute_result"
    },
    {
     "data": {
      "text/plain": [
       "['s', 'o', 'm', 'e', 't', 'h', 'i', 'n', 'g']"
      ]
     },
     "execution_count": 355,
     "metadata": {},
     "output_type": "execute_result"
    },
    {
     "data": {
      "text/plain": [
       "['1^2 = 1',\n",
       " '2^2 = 4',\n",
       " '3^2 = 9',\n",
       " '4^2 = 16',\n",
       " '5^2 = 25',\n",
       " '6^2 = 36',\n",
       " '7^2 = 49',\n",
       " '8^2 = 64',\n",
       " '9^2 = 81',\n",
       " '10^2 = 100',\n",
       " '11^2 = 121',\n",
       " '12^2 = 144',\n",
       " '13^2 = 169',\n",
       " '14^2 = 196',\n",
       " '15^2 = 225',\n",
       " '16^2 = 256',\n",
       " '17^2 = 289',\n",
       " '18^2 = 324',\n",
       " '19^2 = 361',\n",
       " '20^2 = 400']"
      ]
     },
     "execution_count": 355,
     "metadata": {},
     "output_type": "execute_result"
    }
   ],
   "source": [
    "def f(x):\n",
    "    return lambda c: c * x\n",
    "\n",
    "f(2)\n",
    "[f(2)(i) for i in range(10)]\n",
    "[f(10**3)(i) for i in range(10)]\n",
    "\n",
    "[c for c in \"something\"]\n",
    "\n",
    "class MonIter():\n",
    "    def __iter__(self):\n",
    "        self.x = 1;\n",
    "        return self\n",
    "    def __next__(self):\n",
    "        if self.x >20:\n",
    "            raise StopIteration \n",
    "        x = self.x**2\n",
    "        self.x += 1\n",
    "        return x\n",
    "    \n",
    "[f\"{i+1}^2 = {x}\" for i, x in enumerate(iter(MonIter())) ]"
   ]
  },
  {
   "cell_type": "code",
   "execution_count": 568,
   "metadata": {},
   "outputs": [],
   "source": [
    "# txt = \"The quick brown fox jumped over the lazy dogs!!\"\n",
    "# txt.split(\" \")\n",
    "# txt.replace(\"e\", \"E\")\n",
    "# txt.startswith(\"The\")\n",
    "# txt.endswith(\"The\")\n",
    "# print(\"----\")\n",
    "# import re\n",
    "# re.search(\"the\", txt.lower())\n",
    "# re.findall(\"the\", txt.lower()) \n",
    "# re.split(\"the\", txt.lower() )\n",
    "# re.sub(\"\\st\", \"_\", txt.lower() )"
   ]
  },
  {
   "cell_type": "code",
   "execution_count": 569,
   "metadata": {},
   "outputs": [],
   "source": [
    "# z2\n",
    "# z2.mean(axis=0)\n",
    "# np.median(z2, axis=0)\n",
    "# # np.mode(z2, axis=0)\n",
    "# stats.mode(z2, axis=0)\n",
    "\n",
    "# print(\"--- a ---\")\n",
    "# a.mean()\n",
    "# np.median(a)\n",
    "# a.std()\n",
    "# stats.mode(a)\n",
    "# np.percentile(a, 90)\n"
   ]
  },
  {
   "cell_type": "code",
   "execution_count": 391,
   "metadata": {},
   "outputs": [
    {
     "data": {
      "image/png": "[encoded data removed]",
      "text/plain": [
       "<Figure size 432x288 with 1 Axes>"
      ]
     },
     "metadata": {
      "needs_background": "light"
     },
     "output_type": "display_data"
    }
   ],
   "source": [
    "plt.hist(a);\n",
    "plt.scatter(a, e, marker=\"+\", c=\"r\")\n",
    "plt.boxplot(a, showmeans=True);"
   ]
  },
  {
   "cell_type": "code",
   "execution_count": 408,
   "metadata": {},
   "outputs": [
    {
     "data": {
      "image/png": "[encoded data removed]",
      "text/plain": [
       "<Figure size 432x288 with 1 Axes>"
      ]
     },
     "metadata": {
      "needs_background": "light"
     },
     "output_type": "display_data"
    }
   ],
   "source": [
    "y.shape, X.shape\n",
    "\n",
    "\n",
    "plt.scatter(y[:,2], X[:,0], marker=\"+\", c=\"r\"); \n",
    "plt.scatter(y[:,2], X[:,1], marker=\"o\", c=\"b\"); \n",
    "plt.scatter(y[:,2], X[:,2], marker=\"*\", c=\"g\"); "
   ]
  },
  {
   "cell_type": "code",
   "execution_count": 429,
   "metadata": {},
   "outputs": [
    {
     "data": {
      "image/png": "[encoded data removed]",
      "text/plain": [
       "<Figure size 432x288 with 1 Axes>"
      ]
     },
     "metadata": {
      "needs_background": "light"
     },
     "output_type": "display_data"
    }
   ],
   "source": [
    "md = stats.linregress( a.flatten(), e.flatten() )\n",
    "md\n",
    "\n",
    "\n",
    "plt.scatter(a, e)\n",
    "plt.plot(e, list(map(lambda x: x*md.slope + md.intercept, a) )); "
   ]
  },
  {
   "cell_type": "code",
   "execution_count": 558,
   "metadata": {
    "scrolled": false
   },
   "outputs": [
    {
     "name": "stdout",
     "output_type": "stream",
     "text": [
      "Shape of a is \t(3, 1)\t2\tfloat64\t<class 'numpy.ndarray'>\tNone\n",
      "Shape of X is \t(100, 3)\t2\tint64\t<class 'numpy.ndarray'>\tNone\n",
      "Shape of e is \t(100, 1)\t2\tfloat64\t<class 'numpy.ndarray'>\tNone\n",
      "Shape of y is \t(100,)\t1\tfloat64\t<class 'numpy.ndarray'>\tNone\n"
     ]
    },
    {
     "data": {
      "image/png": "[encoded data removed]",
      "text/plain": [
       "<Figure size 432x288 with 1 Axes>"
      ]
     },
     "metadata": {
      "needs_background": "light"
     },
     "output_type": "display_data"
    }
   ],
   "source": [
    "## a = coeffs\n",
    "## e = error terms normally distributed\n",
    "## X = independent variables\n",
    "## y = dependent variable \n",
    "np.random.seed(9099)\n",
    "a = np.random.randn(3, 1)\n",
    "y = (X@a ) + e\n",
    "y = y.flatten()\n",
    "for x, i in zip((a, X, e, y), ('a', 'X', 'e', 'y') ):\n",
    "    print( f\"Shape of {i} is \\t{x.shape}\\t{x.ndim}\\t{x.dtype}\\t{type(x)}\\t{x.base}\")\n",
    "\n",
    "plt.scatter(y, X[:,0], marker=\"+\", c=\"r\"); \n",
    "plt.scatter(y, X[:,1], marker=\"o\", c=\"b\"); \n",
    "plt.scatter(y, X[:,2], marker=\"*\", c=\"g\"); \n",
    "\n",
    "# # plt.scatter(X[:,1],y, label=\"x1\");\n",
    "# # plt.scatter(X[:,0],y, label=\"x0\");\n",
    "\n",
    "# print(\"---\")\n",
    "# md = stats.linregress(X[:,0], y)  \n",
    "# print(md)\n",
    "# print(\"---\")\n",
    "# plt.plot(y, np.array(list(map(lambda x_: x_*md.slope + md.intercept, X[:,0]) )  )  );"
   ]
  },
  {
   "cell_type": "code",
   "execution_count": 556,
   "metadata": {},
   "outputs": [],
   "source": [
    "# np.concatenate(([3], [0]*5, np.arange(-1, 1.002, 2/9.0)))\n",
    "# np.r_[3,[0]*5,-1:1:10j]"
   ]
  },
  {
   "cell_type": "code",
   "execution_count": 535,
   "metadata": {},
   "outputs": [
    {
     "name": "stdout",
     "output_type": "stream",
     "text": [
      "   2\n",
      "1 x + 2 x + 1\n",
      "   4     3     2\n",
      "1 x + 4 x + 6 x + 4 x + 1\n",
      "           12            11             10\n",
      "4.175e-09 x  + 5.01e-08 x  + 2.756e-07 x \n",
      "        3     2\n",
      "0.3333 x + 1 x + 1 x + 10\n",
      " \n",
      "2 x + 2\n",
      "[    121   10201 1002001]\n"
     ]
    },
    {
     "data": {
      "image/png": "[encoded data removed]",
      "text/plain": [
       "<Figure size 432x288 with 1 Axes>"
      ]
     },
     "metadata": {
      "needs_background": "light"
     },
     "output_type": "display_data"
    }
   ],
   "source": [
    "f = np.poly1d([1,2,1])\n",
    "print(f)\n",
    "print(f*f)\n",
    "print( f.integ(m=10))\n",
    "print( f.integ(k=10) )\n",
    "print( f.deriv() )\n",
    "print( f([10, 100, 1000]) )\n",
    "\n",
    "# X2 = np.linspace(1, 6, n)\n",
    "# X2 = np.logspace(1, 6, n)\n",
    "# X2 = np.random.randint(0,high=10, size=(n,))\n",
    "X2 = np.random.normal(loc=0,scale=10, size=(n,))\n",
    "y2 = f(X2)\n",
    "\n",
    "# sns.distplot(y2)\n",
    "# sns.distplot(X2)\n",
    "plt.scatter(X2, y);\n",
    "\n",
    "# sns.distplot( np.select([y2<=-10, y2>=10], [y2, y2] ));"
   ]
  },
  {
   "cell_type": "code",
   "execution_count": 551,
   "metadata": {},
   "outputs": [],
   "source": [
    "from scipy import linalg as scalg\n",
    "from scipy import special as scip"
   ]
  },
  {
   "cell_type": "code",
   "execution_count": 572,
   "metadata": {},
   "outputs": [],
   "source": [
    "# scip.factorial( 4 )\n",
    "# scip.comb( 4, 2 ) # NCk = (n!/k!(n-k)!) << combination\n",
    "# scip.factorial(4)/(scip.factorial(2) * scip.factorial(4-2))\n",
    "\n",
    "# scip.comb( 4, 2 , repetition=True) # NPk = (n!/(n-k)!) << permutation ??? Nope not working by calc\n",
    "# scip.perm(4, 2)\n",
    "# scip.factorial(4)/(scip.factorial(4-2) )"
   ]
  },
  {
   "cell_type": "code",
   "execution_count": 555,
   "metadata": {},
   "outputs": [],
   "source": [
    "# z2\n",
    "# Z2 = np.mat(z2)\n",
    "# Z2\n",
    "# z2.T, Z2.T\n",
    "# scalg.inv(z2), Z2.I\n",
    "# z2*z2, z2@z2"
   ]
  },
  {
   "cell_type": "code",
   "execution_count": 573,
   "metadata": {},
   "outputs": [],
   "source": [
    "### Solving linear systems of equations @ linalg.solve\n",
    "# Bz = np.array([\n",
    "#     [1,2,2],\n",
    "#     [3,5,3],\n",
    "#     [5,1,8]\n",
    "# ]).T\n",
    "\n",
    "# y3 = np.array([10, 8, 3])\n",
    "# bz, y3\n",
    "# scalg.inv(Bz) @ y3\n",
    "\n",
    "# scalg.solve(Bz, y3)\n",
    "\n",
    "# print(\"----\")\n",
    "# scalg.det(Bz)\n",
    "# scalg.norm(Bz)"
   ]
  },
  {
   "cell_type": "code",
   "execution_count": 583,
   "metadata": {},
   "outputs": [],
   "source": [
    "from scipy import stats \n",
    "# #dir(stats)\n",
    "# [d for d in dir(stats) if isinstance(getattr(stats, d), stats.rv_continuous)]\n",
    "# [d for d in dir(stats) if isinstance(getattr(stats, d), stats.rv_discrete)]"
   ]
  },
  {
   "cell_type": "code",
   "execution_count": 623,
   "metadata": {},
   "outputs": [
    {
     "data": {
      "text/plain": [
       "(10.0, 2.0, 4.0, 7.554147265981002e-06)"
      ]
     },
     "execution_count": 623,
     "metadata": {},
     "output_type": "execute_result"
    },
    {
     "name": "stdout",
     "output_type": "stream",
     "text": [
      "--X3--\n"
     ]
    },
    {
     "data": {
      "text/plain": [
       "((100, 3), array([ 8.72223025,  9.80533287, 12.07152744]))"
      ]
     },
     "execution_count": 623,
     "metadata": {},
     "output_type": "execute_result"
    },
    {
     "data": {
      "text/plain": [
       "(10.06131798556908, 2.1599355309659343, 4.7912146525110835, 15.973732617813805)"
      ]
     },
     "execution_count": 623,
     "metadata": {},
     "output_type": "execute_result"
    },
    {
     "data": {
      "text/plain": [
       "DescribeResult(nobs=100, minmax=(array([4.79121465, 4.97216136, 5.70264258]), array([15.97373262, 14.76855424, 15.7977959 ])), mean=array([ 9.94744355,  9.96348703, 10.27302338]), variance=array([4.93612882, 4.13555927, 4.99761195]), skewness=array([ 0.23418823, -0.05563557,  0.05868201]), kurtosis=array([ 0.0029307 , -0.16617161, -0.45821995]))"
      ]
     },
     "execution_count": 623,
     "metadata": {},
     "output_type": "execute_result"
    },
    {
     "name": "stdout",
     "output_type": "stream",
     "text": [
      "--y3--\n"
     ]
    },
    {
     "data": {
      "text/plain": [
       "((100, 3), array([ 94.52176112, 116.7552184 , 170.86482951]))"
      ]
     },
     "execution_count": 623,
     "metadata": {},
     "output_type": "execute_result"
    },
    {
     "data": {
      "text/plain": [
       "<matplotlib.axes._subplots.AxesSubplot at 0x7f73d15455d0>"
      ]
     },
     "execution_count": 623,
     "metadata": {},
     "output_type": "execute_result"
    },
    {
     "data": {
      "text/plain": [
       "<matplotlib.axes._subplots.AxesSubplot at 0x7f73d15455d0>"
      ]
     },
     "execution_count": 623,
     "metadata": {},
     "output_type": "execute_result"
    },
    {
     "data": {
      "image/png": "[encoded data removed]",
      "text/plain": [
       "<Figure size 432x288 with 1 Axes>"
      ]
     },
     "metadata": {
      "needs_background": "light"
     },
     "output_type": "display_data"
    }
   ],
   "source": [
    "# stats.norm.cdf(1.645 )\n",
    "# np.random.seed(9909)\n",
    "# X3 = stats.norm.rvs(size=(n,3), loc=0, scale=1, random_state=9909)\n",
    "x3_norm_dist = stats.norm(loc=10, scale=2)\n",
    "x3_norm_dist.mean(), x3_norm_dist.std(), x3_norm_dist.var(), x3_norm_dist.pdf(0.975)\n",
    "\n",
    "print(\"--X3--\")\n",
    "X3 = x3_norm_dist.rvs((n,3), random_state=9909)\n",
    "X3.shape, X3[0]\n",
    "X3.mean(), X3.std(), X3.min(), X3.max()\n",
    "stats.describe(X3)\n",
    "\n",
    "print(\"--y3--\")\n",
    "y3 = f(X3)\n",
    "y3.shape, y3[0]\n",
    "\n",
    "sns.distplot(X3 )\n",
    "sns.distplot(y3 ) "
   ]
  },
  {
   "cell_type": "code",
   "execution_count": 645,
   "metadata": {},
   "outputs": [
    {
     "name": "stdout",
     "output_type": "stream",
     "text": [
      "-- ttest One sample ---\n"
     ]
    },
    {
     "data": {
      "text/plain": [
       "array([[-0.237, -0.18 ,  1.221],\n",
       "       [ 0.813,  0.858,  0.225]])"
      ]
     },
     "execution_count": 645,
     "metadata": {},
     "output_type": "execute_result"
    },
    {
     "data": {
      "text/plain": [
       "array([[-0.237, 48.994, 23.587],\n",
       "       [ 0.813,  0.   ,  0.   ]])"
      ]
     },
     "execution_count": 645,
     "metadata": {},
     "output_type": "execute_result"
    },
    {
     "data": {
      "text/plain": [
       "array([[22.826, 25.563, 23.895],\n",
       "       [ 0.   ,  0.   ,  0.   ]])"
      ]
     },
     "execution_count": 645,
     "metadata": {},
     "output_type": "execute_result"
    },
    {
     "name": "stdout",
     "output_type": "stream",
     "text": [
      "-- ttest Two sample ---\n"
     ]
    },
    {
     "data": {
      "text/plain": [
       "('X3: means', 9.947443550395114, 9.963487027205753)"
      ]
     },
     "execution_count": 645,
     "metadata": {},
     "output_type": "execute_result"
    },
    {
     "data": {
      "text/plain": [
       "array([-0.053,  0.958])"
      ]
     },
     "execution_count": 645,
     "metadata": {},
     "output_type": "execute_result"
    },
    {
     "data": {
      "text/plain": [
       "('X3Vsy3 means: ', 10.06131798556908, 127.01807707580309)"
      ]
     },
     "execution_count": 645,
     "metadata": {},
     "output_type": "execute_result"
    },
    {
     "data": {
      "text/plain": [
       "array([[-22.814, -25.545, -23.819],\n",
       "       [  0.   ,   0.   ,   0.   ]])"
      ]
     },
     "execution_count": 645,
     "metadata": {},
     "output_type": "execute_result"
    },
    {
     "name": "stdout",
     "output_type": "stream",
     "text": [
      "-- KS @ dist t---\n"
     ]
    },
    {
     "data": {
      "text/plain": [
       "('is t: ', array([1., 0.]))"
      ]
     },
     "execution_count": 645,
     "metadata": {},
     "output_type": "execute_result"
    },
    {
     "data": {
      "text/plain": [
       "('is norm: ', array([1., 0.]))"
      ]
     },
     "execution_count": 645,
     "metadata": {},
     "output_type": "execute_result"
    },
    {
     "data": {
      "text/plain": [
       "('is similar dist: ', array([0.07 , 0.968]))"
      ]
     },
     "execution_count": 645,
     "metadata": {},
     "output_type": "execute_result"
    }
   ],
   "source": [
    "## T-tests, KS-tests, etc\n",
    "print('-- ttest One sample ---')\n",
    "np.round(stats.ttest_1samp(X3, 10 ), decimals=3 )\n",
    "# assume diff pop means for each X_i\n",
    "np.round(stats.ttest_1samp(X3, [10,0, 5] ), decimals=3 )\n",
    "np.round(stats.ttest_1samp(y3, 10 ), decimals=3 )\n",
    "\n",
    "print('-- ttest Two sample ---')\n",
    "\"X3: means\", X3[:,0].mean(), X3[:,1].mean()\n",
    "np.round(stats.ttest_ind(X3[:,0], X3[:,1]), decimals=3 )\n",
    "\"X3Vsy3 means: \", X3.mean(), y3.mean()\n",
    "np.round(stats.ttest_ind(X3, y3), decimals=3 )\n",
    "\n",
    "print('-- KS @ dist t---')\n",
    "\"is t: \", np.round( stats.kstest(X3[:,0], 't' , (n-2,)), decimals=3)\n",
    "\"is norm: \",np.round( stats.kstest(X3[:,0], 'norm') , decimals=3)\n",
    "\"is similar dist: \", np.round( stats.ks_2samp(X3[:,0], X3[:,1] ), decimals=3)"
   ]
  },
  {
   "cell_type": "code",
   "execution_count": 655,
   "metadata": {},
   "outputs": [
    {
     "data": {
      "text/plain": [
       "((100,), (100,))"
      ]
     },
     "execution_count": 655,
     "metadata": {},
     "output_type": "execute_result"
    },
    {
     "data": {
      "text/plain": [
       "<matplotlib.collections.PathCollection at 0x7f73d0406290>"
      ]
     },
     "execution_count": 655,
     "metadata": {},
     "output_type": "execute_result"
    },
    {
     "data": {
      "text/plain": [
       "((100,), (100,))"
      ]
     },
     "execution_count": 655,
     "metadata": {},
     "output_type": "execute_result"
    },
    {
     "data": {
      "text/plain": [
       "<matplotlib.collections.PathCollection at 0x7f73d03e0910>"
      ]
     },
     "execution_count": 655,
     "metadata": {},
     "output_type": "execute_result"
    },
    {
     "data": {
      "image/png": "[encoded data removed]",
      "text/plain": [
       "<Figure size 432x288 with 1 Axes>"
      ]
     },
     "metadata": {
      "needs_background": "light"
     },
     "output_type": "display_data"
    }
   ],
   "source": [
    "X4 = np.linspace(-1, 1, n)\n",
    "y4 = X4 + 0.3*np.random.random(X4.size)\n",
    "X4.shape, y4.shape\n",
    "plt.scatter(X4, y4)\n",
    "\n",
    "unif = np.random.uniform(0, 10, size=n)\n",
    "X5 = unif * np.cos( np.pi * unif )\n",
    "y5 = unif * np.sin( np.pi * unif ) + 0.4*np.random.random(X5.size)\n",
    "X5.shape, y5.shape\n",
    "plt.scatter(X5, y5)"
   ]
  },
  {
   "cell_type": "code",
   "execution_count": 704,
   "metadata": {},
   "outputs": [
    {
     "name": "stdout",
     "output_type": "stream",
     "text": [
      "eigen: l, v\n",
      "svd: U, S, Vh\n",
      "flip up down\n"
     ]
    },
    {
     "data": {
      "image/png": "[encoded data removed]",
      "text/plain": [
       "<Figure size 432x288 with 5 Axes>"
      ]
     },
     "metadata": {
      "needs_background": "light"
     },
     "output_type": "display_data"
    }
   ],
   "source": [
    "#np.shuffle( np.arange(7) )\n",
    "from scipy import misc, ndimage \n",
    "\n",
    "z2\n",
    "scalg.inv(z2)\n",
    "print(\"eigen: l, v\")\n",
    "scalg.eig(z2)\n",
    "print(\"svd: U, S, Vh\")\n",
    "scalg.svd(z2)\n",
    "print(\"flip up down\")\n",
    "np.flipud( z2 )\n",
    "\n",
    "img = e.reshape((-1, 10))\n",
    "nr, nc=2, 3\n",
    "plt.subplot(nr,nc,1)\n",
    "plt.imshow( img  )\n",
    "plt.title('Original')\n",
    "plt.subplot(nr,nc,2)\n",
    "plt.imshow( np.flipud( img ) )\n",
    "plt.title('Flipped')\n",
    "plt.subplot(nr,nc,3)\n",
    "plt.imshow( ndimage.rotate( img , -45) )\n",
    "plt.title('Rotated -45')\n",
    "plt.subplot(nr,nc,4)\n",
    "plt.imshow( ndimage.gaussian_filter( img , sigma=10) )\n",
    "plt.title('Filter - Blur');\n",
    "plt.subplot(nr,nc,5)\n",
    "plt.imshow( ndimage.sobel( ndimage.gaussian_filter( img , sigma=10) ) )\n",
    "plt.title('Filter - Edge');"
   ]
  },
  {
   "cell_type": "code",
   "execution_count": 716,
   "metadata": {},
   "outputs": [
    {
     "data": {
      "text/plain": [
       "array([-0.02153435, -0.19117348, -1.10586363, -0.80366235,  0.67230003,\n",
       "       -1.55714473, -0.91781763, -0.88592559, -1.00741512, -0.70994201])"
      ]
     },
     "execution_count": 716,
     "metadata": {},
     "output_type": "execute_result"
    },
    {
     "data": {
      "text/plain": [
       "('KS: Is it normal: ',\n",
       " KstestResult(statistic=0.39910329089634156, pvalue=0.05992855474499336))"
      ]
     },
     "execution_count": 716,
     "metadata": {},
     "output_type": "execute_result"
    },
    {
     "data": {
      "text/plain": [
       "('KS: Is it t-stud: ',\n",
       " KstestResult(statistic=0.3985205170433427, pvalue=0.060545551530289))"
      ]
     },
     "execution_count": 716,
     "metadata": {},
     "output_type": "execute_result"
    },
    {
     "data": {
      "text/plain": [
       "('Shp: Is it normal: ', (0.9894329905509949, 0.6189365983009338))"
      ]
     },
     "execution_count": 716,
     "metadata": {},
     "output_type": "execute_result"
    },
    {
     "data": {
      "text/plain": [
       "<matplotlib.axes._subplots.AxesSubplot at 0x7f73c2410bd0>"
      ]
     },
     "execution_count": 716,
     "metadata": {},
     "output_type": "execute_result"
    },
    {
     "data": {
      "image/png": "[encoded data removed]",
      "text/plain": [
       "<Figure size 432x288 with 1 Axes>"
      ]
     },
     "metadata": {
      "needs_background": "light"
     },
     "output_type": "display_data"
    }
   ],
   "source": [
    "stats.kurtosis( img )\n",
    "\"KS: Is it normal: \", stats.kstest(img, \"norm\")\n",
    "\"KS: Is it t-stud: \", stats.kstest(img, \"t\", (n-1,))\n",
    "\"Shp: Is it normal: \", stats.shapiro(img)\n",
    "sns.distplot( img , bins=10)"
   ]
  },
  {
   "cell_type": "code",
   "execution_count": 724,
   "metadata": {},
   "outputs": [
    {
     "name": "stdout",
     "output_type": "stream",
     "text": [
      "<class 'pandas.core.frame.DataFrame'>\n",
      "RangeIndex: 100 entries, 0 to 99\n",
      "Data columns (total 4 columns):\n",
      " #   Column  Non-Null Count  Dtype  \n",
      "---  ------  --------------  -----  \n",
      " 0   x1      100 non-null    float64\n",
      " 1   x2      100 non-null    float64\n",
      " 2   y       100 non-null    int64  \n",
      " 3   y_lbl   100 non-null    object \n",
      "dtypes: float64(2), int64(1), object(1)\n",
      "memory usage: 3.2+ KB\n"
     ]
    },
    {
     "data": {
      "text/html": [
       "<div>\n",
       "<style scoped>\n",
       "    .dataframe tbody tr th:only-of-type {\n",
       "        vertical-align: middle;\n",
       "    }\n",
       "\n",
       "    .dataframe tbody tr th {\n",
       "        vertical-align: top;\n",
       "    }\n",
       "\n",
       "    .dataframe thead th {\n",
       "        text-align: right;\n",
       "    }\n",
       "</style>\n",
       "<table border=\"1\" class=\"dataframe\">\n",
       "  <thead>\n",
       "    <tr style=\"text-align: right;\">\n",
       "      <th></th>\n",
       "      <th>x1</th>\n",
       "      <th>x2</th>\n",
       "      <th>y</th>\n",
       "      <th>y_lbl</th>\n",
       "    </tr>\n",
       "  </thead>\n",
       "  <tbody>\n",
       "    <tr>\n",
       "      <th>0</th>\n",
       "      <td>1.000000</td>\n",
       "      <td>10.567731</td>\n",
       "      <td>1</td>\n",
       "      <td>treat</td>\n",
       "    </tr>\n",
       "    <tr>\n",
       "      <th>1</th>\n",
       "      <td>1.040404</td>\n",
       "      <td>8.648867</td>\n",
       "      <td>0</td>\n",
       "      <td>control</td>\n",
       "    </tr>\n",
       "    <tr>\n",
       "      <th>2</th>\n",
       "      <td>1.080808</td>\n",
       "      <td>10.675618</td>\n",
       "      <td>1</td>\n",
       "      <td>treat</td>\n",
       "    </tr>\n",
       "    <tr>\n",
       "      <th>3</th>\n",
       "      <td>1.121212</td>\n",
       "      <td>10.868435</td>\n",
       "      <td>1</td>\n",
       "      <td>treat</td>\n",
       "    </tr>\n",
       "    <tr>\n",
       "      <th>4</th>\n",
       "      <td>1.161616</td>\n",
       "      <td>11.113345</td>\n",
       "      <td>0</td>\n",
       "      <td>control</td>\n",
       "    </tr>\n",
       "  </tbody>\n",
       "</table>\n",
       "</div>"
      ],
      "text/plain": [
       "         x1         x2  y    y_lbl\n",
       "0  1.000000  10.567731  1    treat\n",
       "1  1.040404   8.648867  0  control\n",
       "2  1.080808  10.675618  1    treat\n",
       "3  1.121212  10.868435  1    treat\n",
       "4  1.161616  11.113345  0  control"
      ]
     },
     "execution_count": 724,
     "metadata": {},
     "output_type": "execute_result"
    },
    {
     "data": {
      "text/html": [
       "<div>\n",
       "<style scoped>\n",
       "    .dataframe tbody tr th:only-of-type {\n",
       "        vertical-align: middle;\n",
       "    }\n",
       "\n",
       "    .dataframe tbody tr th {\n",
       "        vertical-align: top;\n",
       "    }\n",
       "\n",
       "    .dataframe thead th {\n",
       "        text-align: right;\n",
       "    }\n",
       "</style>\n",
       "<table border=\"1\" class=\"dataframe\">\n",
       "  <thead>\n",
       "    <tr style=\"text-align: right;\">\n",
       "      <th></th>\n",
       "      <th>x1</th>\n",
       "      <th>x2</th>\n",
       "      <th>y</th>\n",
       "      <th>y_lbl</th>\n",
       "    </tr>\n",
       "  </thead>\n",
       "  <tbody>\n",
       "    <tr>\n",
       "      <th>count</th>\n",
       "      <td>100.000000</td>\n",
       "      <td>100.000000</td>\n",
       "      <td>100.000000</td>\n",
       "      <td>100</td>\n",
       "    </tr>\n",
       "    <tr>\n",
       "      <th>unique</th>\n",
       "      <td>NaN</td>\n",
       "      <td>NaN</td>\n",
       "      <td>NaN</td>\n",
       "      <td>2</td>\n",
       "    </tr>\n",
       "    <tr>\n",
       "      <th>top</th>\n",
       "      <td>NaN</td>\n",
       "      <td>NaN</td>\n",
       "      <td>NaN</td>\n",
       "      <td>treat</td>\n",
       "    </tr>\n",
       "    <tr>\n",
       "      <th>freq</th>\n",
       "      <td>NaN</td>\n",
       "      <td>NaN</td>\n",
       "      <td>NaN</td>\n",
       "      <td>53</td>\n",
       "    </tr>\n",
       "    <tr>\n",
       "      <th>mean</th>\n",
       "      <td>3.000000</td>\n",
       "      <td>9.884501</td>\n",
       "      <td>0.530000</td>\n",
       "      <td>NaN</td>\n",
       "    </tr>\n",
       "    <tr>\n",
       "      <th>std</th>\n",
       "      <td>1.172181</td>\n",
       "      <td>1.060863</td>\n",
       "      <td>0.501614</td>\n",
       "      <td>NaN</td>\n",
       "    </tr>\n",
       "    <tr>\n",
       "      <th>min</th>\n",
       "      <td>1.000000</td>\n",
       "      <td>7.918418</td>\n",
       "      <td>0.000000</td>\n",
       "      <td>NaN</td>\n",
       "    </tr>\n",
       "    <tr>\n",
       "      <th>25%</th>\n",
       "      <td>2.000000</td>\n",
       "      <td>8.981838</td>\n",
       "      <td>0.000000</td>\n",
       "      <td>NaN</td>\n",
       "    </tr>\n",
       "    <tr>\n",
       "      <th>50%</th>\n",
       "      <td>3.000000</td>\n",
       "      <td>9.908989</td>\n",
       "      <td>1.000000</td>\n",
       "      <td>NaN</td>\n",
       "    </tr>\n",
       "    <tr>\n",
       "      <th>75%</th>\n",
       "      <td>4.000000</td>\n",
       "      <td>10.680589</td>\n",
       "      <td>1.000000</td>\n",
       "      <td>NaN</td>\n",
       "    </tr>\n",
       "    <tr>\n",
       "      <th>max</th>\n",
       "      <td>5.000000</td>\n",
       "      <td>12.073381</td>\n",
       "      <td>1.000000</td>\n",
       "      <td>NaN</td>\n",
       "    </tr>\n",
       "  </tbody>\n",
       "</table>\n",
       "</div>"
      ],
      "text/plain": [
       "                x1          x2           y  y_lbl\n",
       "count   100.000000  100.000000  100.000000    100\n",
       "unique         NaN         NaN         NaN      2\n",
       "top            NaN         NaN         NaN  treat\n",
       "freq           NaN         NaN         NaN     53\n",
       "mean      3.000000    9.884501    0.530000    NaN\n",
       "std       1.172181    1.060863    0.501614    NaN\n",
       "min       1.000000    7.918418    0.000000    NaN\n",
       "25%       2.000000    8.981838    0.000000    NaN\n",
       "50%       3.000000    9.908989    1.000000    NaN\n",
       "75%       4.000000   10.680589    1.000000    NaN\n",
       "max       5.000000   12.073381    1.000000    NaN"
      ]
     },
     "execution_count": 724,
     "metadata": {},
     "output_type": "execute_result"
    }
   ],
   "source": [
    "#### ---- PD stuff\n",
    "df = pd.DataFrame({\n",
    "    \"x1\": np.linspace(1,5, n),\n",
    "    \"x2\" : np.random.normal(loc=10, size=n),\n",
    "    \"y\" : np.random.randint(low=0, high=2, size=n)\n",
    "})\n",
    "df['y_lbl'] = np.where( df.y == 0, 'control', 'treat')\n",
    "df.info()\n",
    "df.head()\n",
    "df.describe(include='all')"
   ]
  },
  {
   "cell_type": "code",
   "execution_count": 726,
   "metadata": {},
   "outputs": [
    {
     "name": "stdout",
     "output_type": "stream",
     "text": [
      "<class 'pandas.core.frame.DataFrame'>\n",
      "RangeIndex: 28 entries, 0 to 27\n",
      "Data columns (total 5 columns):\n",
      " #   Column               Non-Null Count  Dtype \n",
      "---  ------               --------------  ----- \n",
      " 0   1st chord            28 non-null     int64 \n",
      " 1   2nd chord            28 non-null     int64 \n",
      " 2   3rd chord            28 non-null     int64 \n",
      " 3   4th chord            28 non-null     int64 \n",
      " 4   Progression Quality  28 non-null     object\n",
      "dtypes: int64(4), object(1)\n",
      "memory usage: 1.2+ KB\n"
     ]
    },
    {
     "data": {
      "text/html": [
       "<div>\n",
       "<style scoped>\n",
       "    .dataframe tbody tr th:only-of-type {\n",
       "        vertical-align: middle;\n",
       "    }\n",
       "\n",
       "    .dataframe tbody tr th {\n",
       "        vertical-align: top;\n",
       "    }\n",
       "\n",
       "    .dataframe thead th {\n",
       "        text-align: right;\n",
       "    }\n",
       "</style>\n",
       "<table border=\"1\" class=\"dataframe\">\n",
       "  <thead>\n",
       "    <tr style=\"text-align: right;\">\n",
       "      <th></th>\n",
       "      <th>1st chord</th>\n",
       "      <th>2nd chord</th>\n",
       "      <th>3rd chord</th>\n",
       "      <th>4th chord</th>\n",
       "      <th>Progression Quality</th>\n",
       "    </tr>\n",
       "  </thead>\n",
       "  <tbody>\n",
       "    <tr>\n",
       "      <th>0</th>\n",
       "      <td>6</td>\n",
       "      <td>4</td>\n",
       "      <td>1</td>\n",
       "      <td>5</td>\n",
       "      <td>Alternative</td>\n",
       "    </tr>\n",
       "    <tr>\n",
       "      <th>1</th>\n",
       "      <td>4</td>\n",
       "      <td>4</td>\n",
       "      <td>1</td>\n",
       "      <td>5</td>\n",
       "      <td>Catchy</td>\n",
       "    </tr>\n",
       "    <tr>\n",
       "      <th>2</th>\n",
       "      <td>1</td>\n",
       "      <td>1</td>\n",
       "      <td>1</td>\n",
       "      <td>1</td>\n",
       "      <td>Didgeridoo</td>\n",
       "    </tr>\n",
       "    <tr>\n",
       "      <th>3</th>\n",
       "      <td>1</td>\n",
       "      <td>6</td>\n",
       "      <td>4</td>\n",
       "      <td>5</td>\n",
       "      <td>Dreadful</td>\n",
       "    </tr>\n",
       "    <tr>\n",
       "      <th>4</th>\n",
       "      <td>1</td>\n",
       "      <td>6</td>\n",
       "      <td>2</td>\n",
       "      <td>5</td>\n",
       "      <td>Dreadful</td>\n",
       "    </tr>\n",
       "  </tbody>\n",
       "</table>\n",
       "</div>"
      ],
      "text/plain": [
       "   1st chord  2nd chord  3rd chord  4th chord Progression Quality\n",
       "0          6          4          1          5         Alternative\n",
       "1          4          4          1          5              Catchy\n",
       "2          1          1          1          1          Didgeridoo\n",
       "3          1          6          4          5            Dreadful\n",
       "4          1          6          2          5            Dreadful"
      ]
     },
     "execution_count": 726,
     "metadata": {},
     "output_type": "execute_result"
    },
    {
     "data": {
      "text/html": [
       "<div>\n",
       "<style scoped>\n",
       "    .dataframe tbody tr th:only-of-type {\n",
       "        vertical-align: middle;\n",
       "    }\n",
       "\n",
       "    .dataframe tbody tr th {\n",
       "        vertical-align: top;\n",
       "    }\n",
       "\n",
       "    .dataframe thead th {\n",
       "        text-align: right;\n",
       "    }\n",
       "</style>\n",
       "<table border=\"1\" class=\"dataframe\">\n",
       "  <thead>\n",
       "    <tr style=\"text-align: right;\">\n",
       "      <th></th>\n",
       "      <th>1st chord</th>\n",
       "      <th>2nd chord</th>\n",
       "      <th>3rd chord</th>\n",
       "      <th>4th chord</th>\n",
       "      <th>Progression Quality</th>\n",
       "    </tr>\n",
       "  </thead>\n",
       "  <tbody>\n",
       "    <tr>\n",
       "      <th>count</th>\n",
       "      <td>28.000000</td>\n",
       "      <td>28.000000</td>\n",
       "      <td>28.000000</td>\n",
       "      <td>28.000000</td>\n",
       "      <td>28</td>\n",
       "    </tr>\n",
       "    <tr>\n",
       "      <th>unique</th>\n",
       "      <td>NaN</td>\n",
       "      <td>NaN</td>\n",
       "      <td>NaN</td>\n",
       "      <td>NaN</td>\n",
       "      <td>20</td>\n",
       "    </tr>\n",
       "    <tr>\n",
       "      <th>top</th>\n",
       "      <td>NaN</td>\n",
       "      <td>NaN</td>\n",
       "      <td>NaN</td>\n",
       "      <td>NaN</td>\n",
       "      <td>Sad</td>\n",
       "    </tr>\n",
       "    <tr>\n",
       "      <th>freq</th>\n",
       "      <td>NaN</td>\n",
       "      <td>NaN</td>\n",
       "      <td>NaN</td>\n",
       "      <td>NaN</td>\n",
       "      <td>3</td>\n",
       "    </tr>\n",
       "    <tr>\n",
       "      <th>mean</th>\n",
       "      <td>2.000000</td>\n",
       "      <td>4.035714</td>\n",
       "      <td>3.142857</td>\n",
       "      <td>4.500000</td>\n",
       "      <td>NaN</td>\n",
       "    </tr>\n",
       "    <tr>\n",
       "      <th>std</th>\n",
       "      <td>1.763834</td>\n",
       "      <td>1.643892</td>\n",
       "      <td>1.938199</td>\n",
       "      <td>1.575272</td>\n",
       "      <td>NaN</td>\n",
       "    </tr>\n",
       "    <tr>\n",
       "      <th>min</th>\n",
       "      <td>1.000000</td>\n",
       "      <td>1.000000</td>\n",
       "      <td>1.000000</td>\n",
       "      <td>1.000000</td>\n",
       "      <td>NaN</td>\n",
       "    </tr>\n",
       "    <tr>\n",
       "      <th>25%</th>\n",
       "      <td>1.000000</td>\n",
       "      <td>4.000000</td>\n",
       "      <td>1.000000</td>\n",
       "      <td>4.000000</td>\n",
       "      <td>NaN</td>\n",
       "    </tr>\n",
       "    <tr>\n",
       "      <th>50%</th>\n",
       "      <td>1.000000</td>\n",
       "      <td>4.000000</td>\n",
       "      <td>3.500000</td>\n",
       "      <td>5.000000</td>\n",
       "      <td>NaN</td>\n",
       "    </tr>\n",
       "    <tr>\n",
       "      <th>75%</th>\n",
       "      <td>2.000000</td>\n",
       "      <td>5.000000</td>\n",
       "      <td>5.000000</td>\n",
       "      <td>5.250000</td>\n",
       "      <td>NaN</td>\n",
       "    </tr>\n",
       "    <tr>\n",
       "      <th>max</th>\n",
       "      <td>6.000000</td>\n",
       "      <td>6.000000</td>\n",
       "      <td>7.000000</td>\n",
       "      <td>7.000000</td>\n",
       "      <td>NaN</td>\n",
       "    </tr>\n",
       "  </tbody>\n",
       "</table>\n",
       "</div>"
      ],
      "text/plain": [
       "        1st chord  2nd chord  3rd chord  4th chord Progression Quality\n",
       "count   28.000000  28.000000  28.000000  28.000000                  28\n",
       "unique        NaN        NaN        NaN        NaN                  20\n",
       "top           NaN        NaN        NaN        NaN                 Sad\n",
       "freq          NaN        NaN        NaN        NaN                   3\n",
       "mean     2.000000   4.035714   3.142857   4.500000                 NaN\n",
       "std      1.763834   1.643892   1.938199   1.575272                 NaN\n",
       "min      1.000000   1.000000   1.000000   1.000000                 NaN\n",
       "25%      1.000000   4.000000   1.000000   4.000000                 NaN\n",
       "50%      1.000000   4.000000   3.500000   5.000000                 NaN\n",
       "75%      2.000000   5.000000   5.000000   5.250000                 NaN\n",
       "max      6.000000   6.000000   7.000000   7.000000                 NaN"
      ]
     },
     "execution_count": 726,
     "metadata": {},
     "output_type": "execute_result"
    }
   ],
   "source": [
    "df2 = pd.read_csv(\"chord-progressions.csv\", index_col=False)\n",
    "df2.info()\n",
    "df2.head()\n",
    "df2.describe(include='all')"
   ]
  },
  {
   "cell_type": "code",
   "execution_count": 936,
   "metadata": {
    "scrolled": false
   },
   "outputs": [
    {
     "name": "stdout",
     "output_type": "stream",
     "text": [
      "---\n",
      "-----\n"
     ]
    },
    {
     "data": {
      "text/plain": [
       "array([ 1. ,  6. , 21.5, 27.5, 33.3, 36. ])"
      ]
     },
     "execution_count": 936,
     "metadata": {},
     "output_type": "execute_result"
    },
    {
     "data": {
      "text/plain": [
       "Int64Index([6, 8], dtype='int64')"
      ]
     },
     "execution_count": 936,
     "metadata": {},
     "output_type": "execute_result"
    },
    {
     "data": {
      "text/plain": [
       "[nan, -5.0, 8.0, -35.0, 0.0, 25.0, -21.0, 18.0, -3.0, -11.0]"
      ]
     },
     "execution_count": 936,
     "metadata": {},
     "output_type": "execute_result"
    },
    {
     "data": {
      "text/plain": [
       "[nan, nan, 13.0, -43.0, 35.0, 25.0, -46.0, 39.0, -21.0, -8.0]"
      ]
     },
     "execution_count": 936,
     "metadata": {},
     "output_type": "execute_result"
    },
    {
     "data": {
      "text/plain": [
       "<matplotlib.axes._subplots.AxesSubplot at 0x7f73b453f790>"
      ]
     },
     "execution_count": 936,
     "metadata": {},
     "output_type": "execute_result"
    },
    {
     "name": "stdout",
     "output_type": "stream",
     "text": [
      "-----\n"
     ]
    },
    {
     "data": {
      "text/plain": [
       "Other    11\n",
       "8         7\n",
       "dtype: int64"
      ]
     },
     "execution_count": 936,
     "metadata": {},
     "output_type": "execute_result"
    },
    {
     "name": "stdout",
     "output_type": "stream",
     "text": [
      "----\n"
     ]
    },
    {
     "data": {
      "text/plain": [
       "0    _*0_*\n",
       "6    _*F_*\n",
       "dtype: object"
      ]
     },
     "execution_count": 936,
     "metadata": {},
     "output_type": "execute_result"
    },
    {
     "name": "stdout",
     "output_type": "stream",
     "text": [
      "----\n"
     ]
    },
    {
     "data": {
      "text/html": [
       "<div>\n",
       "<style scoped>\n",
       "    .dataframe tbody tr th:only-of-type {\n",
       "        vertical-align: middle;\n",
       "    }\n",
       "\n",
       "    .dataframe tbody tr th {\n",
       "        vertical-align: top;\n",
       "    }\n",
       "\n",
       "    .dataframe thead th {\n",
       "        text-align: right;\n",
       "    }\n",
       "</style>\n",
       "<table border=\"1\" class=\"dataframe\">\n",
       "  <thead>\n",
       "    <tr style=\"text-align: right;\">\n",
       "      <th></th>\n",
       "      <th>dated</th>\n",
       "      <th>year</th>\n",
       "      <th>year-month</th>\n",
       "      <th>yr-mon2</th>\n",
       "      <th>month</th>\n",
       "      <th>month_name</th>\n",
       "      <th>day</th>\n",
       "      <th>dofweek</th>\n",
       "      <th>day_name</th>\n",
       "      <th>week</th>\n",
       "    </tr>\n",
       "  </thead>\n",
       "  <tbody>\n",
       "    <tr>\n",
       "      <th>0</th>\n",
       "      <td>2020-05-11</td>\n",
       "      <td>2020</td>\n",
       "      <td>2020-5</td>\n",
       "      <td>2020-05-11</td>\n",
       "      <td>5</td>\n",
       "      <td>May</td>\n",
       "      <td>11</td>\n",
       "      <td>0</td>\n",
       "      <td>Monday</td>\n",
       "      <td>20</td>\n",
       "    </tr>\n",
       "    <tr>\n",
       "      <th>1</th>\n",
       "      <td>2020-09-03</td>\n",
       "      <td>2020</td>\n",
       "      <td>2020-9</td>\n",
       "      <td>2020-09-03</td>\n",
       "      <td>9</td>\n",
       "      <td>September</td>\n",
       "      <td>3</td>\n",
       "      <td>3</td>\n",
       "      <td>Thursday</td>\n",
       "      <td>36</td>\n",
       "    </tr>\n",
       "    <tr>\n",
       "      <th>2</th>\n",
       "      <td>2019-04-26</td>\n",
       "      <td>2019</td>\n",
       "      <td>2019-4</td>\n",
       "      <td>2019-04-26</td>\n",
       "      <td>4</td>\n",
       "      <td>April</td>\n",
       "      <td>26</td>\n",
       "      <td>4</td>\n",
       "      <td>Friday</td>\n",
       "      <td>17</td>\n",
       "    </tr>\n",
       "    <tr>\n",
       "      <th>3</th>\n",
       "      <td>2017-09-13</td>\n",
       "      <td>2017</td>\n",
       "      <td>2017-9</td>\n",
       "      <td>2017-09-13</td>\n",
       "      <td>9</td>\n",
       "      <td>September</td>\n",
       "      <td>13</td>\n",
       "      <td>2</td>\n",
       "      <td>Wednesday</td>\n",
       "      <td>37</td>\n",
       "    </tr>\n",
       "    <tr>\n",
       "      <th>4</th>\n",
       "      <td>2020-11-19</td>\n",
       "      <td>2020</td>\n",
       "      <td>2020-11</td>\n",
       "      <td>2020-11-19</td>\n",
       "      <td>11</td>\n",
       "      <td>November</td>\n",
       "      <td>19</td>\n",
       "      <td>3</td>\n",
       "      <td>Thursday</td>\n",
       "      <td>47</td>\n",
       "    </tr>\n",
       "  </tbody>\n",
       "</table>\n",
       "</div>"
      ],
      "text/plain": [
       "       dated  year year-month    yr-mon2  month month_name  day  dofweek  \\\n",
       "0 2020-05-11  2020     2020-5 2020-05-11      5        May   11        0   \n",
       "1 2020-09-03  2020     2020-9 2020-09-03      9  September    3        3   \n",
       "2 2019-04-26  2019     2019-4 2019-04-26      4      April   26        4   \n",
       "3 2017-09-13  2017     2017-9 2017-09-13      9  September   13        2   \n",
       "4 2020-11-19  2020    2020-11 2020-11-19     11   November   19        3   \n",
       "\n",
       "    day_name  week  \n",
       "0     Monday    20  \n",
       "1   Thursday    36  \n",
       "2     Friday    17  \n",
       "3  Wednesday    37  \n",
       "4   Thursday    47  "
      ]
     },
     "execution_count": 936,
     "metadata": {},
     "output_type": "execute_result"
    },
    {
     "data": {
      "image/png": "[encoded data removed]",
      "text/plain": [
       "<Figure size 432x288 with 1 Axes>"
      ]
     },
     "metadata": {
      "needs_background": "light"
     },
     "output_type": "display_data"
    }
   ],
   "source": [
    "\n",
    "randz = np.random.RandomState(8160)\n",
    "\n",
    "s1 = pd.Series( z2.flatten() )\n",
    "# s1.values\n",
    "# s1.tolist()\n",
    "print(\"---\")\n",
    "s2 = pd.Series(['c', ['d'], ['e', 'f', 'g'], ['a', 'b'], '0' ])\n",
    "s3 = s2.apply(pd.Series).stack()\\\n",
    "    .reset_index(drop=True)\\\n",
    "    .sort_values()\\\n",
    "    .append(pd.Series('9') )\\\n",
    "    .reset_index(drop=True)\\\n",
    "    .sort_values()\n",
    "    \n",
    "idx = list(s3.index) \n",
    "randz.shuffle(idx)\n",
    "s3 = s3.reindex(index=idx )\n",
    "\n",
    "s4 = s3[ ((s3 <= '9') | (s3 >= 'e')) ].append(pd.Series(['z', 'y', '4']*3))\n",
    "\n",
    "# s3.describe(include='all'), s3.min(), s3.max()\n",
    "# s3[~s3.isin(['a', 'b', 'd', '0']) ]\n",
    "\n",
    "# s3[~s3.isin(s4) ].append(s4[~s3.isin(s4) ]).sort_values().unique()\n",
    "# t1 =  pd.Series( np.union1d(s3, s4))\n",
    "# t2 = pd.Series( np.intersect1d(s3, s4))\n",
    "# t1[ ~ t1.isin(t2)].sort_values()\n",
    "\n",
    "# s4.value_counts()\n",
    "\n",
    "print(\"-----\")\n",
    "s5 = pd.Series( randz.randint(0, 40, 10) )\n",
    "# s5.describe()\n",
    "np.percentile(s5, q=np.array([0, 0.25, 0.5, 0.75, 0.9, 1])*100)\n",
    "s5[ s5%5 == 0 ].index\n",
    "s5.diff().tolist()\n",
    "s5.diff().diff().tolist()\n",
    "s5.hist()\n",
    "# np.argwhere( s5 % 5 == 0 )\n",
    "\n",
    "print(\"-----\")\n",
    "tn = 5\n",
    "t3 = pd.Series(np.take( list('qrstuvwxyz876'), randz.randint(12, size=40)) )\n",
    "# t3.value_counts()\n",
    "t3[ ~ t3.isin(t3.value_counts().index[:tn])] = 'Other'\n",
    "t3.value_counts()[:2]\n",
    "\n",
    "## select items at given index\n",
    "# t3.iloc[idx] == t3.take( idx )\n",
    "# pd.Index(s4) #[ pd.Index(s4).get_loc(w, method='pad') for w in s5.unique() ]\n",
    "# s4.index\n",
    "\n",
    "print(\"----\")\n",
    "s4 = s4.apply( lambda x: f\"_{x.upper()}_\" )[:2]\n",
    "s4 = s4.str.replace(\"_\", \"_*\")\n",
    "s4\n",
    "\n",
    "print(\"----\")\n",
    "ts1 = pd.Series(['11-05-2020', '3-09-2020', '26-04-2019', '13-09-2017', '19-11-2020'])\n",
    "ts1 = pd.to_datetime(ts1, format='%d-%m-%Y', errors='coerce', )\n",
    "# ts1\n",
    "def y_m(y, m):\n",
    "    return f\"{y}-{m}\" \n",
    "df_ts = pd.DataFrame( ts1, columns=['dated'])\n",
    "df_ts['year'] = df_ts.dated.dt.year \n",
    "df_ts['year-month'] = np.vectorize(y_m)(df_ts.dated.dt.year, df_ts.dated.dt.month) #f\"{df_ts.dated.dt.year }-{df_ts.dated.dt.month }\"\n",
    "df_ts['yr-mon2'] = pd.to_datetime(ts1, format=\"%Y-%m\", errors='coerce')\n",
    "df_ts['month'] = df_ts.dated.dt.month \n",
    "df_ts['month_name'] = df_ts.dated.dt.month_name()\n",
    "df_ts['day'] = df_ts.dated.dt.day \n",
    "df_ts['dofweek'] = df_ts.dated.dt.dayofweek\n",
    "df_ts['day_name'] = df_ts.dated.dt.day_name() \n",
    "df_ts['week'] = df_ts.dated.dt.week\n",
    "df_ts"
   ]
  },
  {
   "cell_type": "code",
   "execution_count": 988,
   "metadata": {},
   "outputs": [
    {
     "data": {
      "text/plain": [
       "<matplotlib.collections.PathCollection at 0x7f73b4864f50>"
      ]
     },
     "execution_count": 988,
     "metadata": {},
     "output_type": "execute_result"
    },
    {
     "data": {
      "text/plain": [
       "13.674794331177344"
      ]
     },
     "execution_count": 988,
     "metadata": {},
     "output_type": "execute_result"
    },
    {
     "data": {
      "text/html": [
       "<div>\n",
       "<style scoped>\n",
       "    .dataframe tbody tr th:only-of-type {\n",
       "        vertical-align: middle;\n",
       "    }\n",
       "\n",
       "    .dataframe tbody tr th {\n",
       "        vertical-align: top;\n",
       "    }\n",
       "\n",
       "    .dataframe thead th {\n",
       "        text-align: right;\n",
       "    }\n",
       "</style>\n",
       "<table border=\"1\" class=\"dataframe\">\n",
       "  <thead>\n",
       "    <tr style=\"text-align: right;\">\n",
       "      <th></th>\n",
       "      <th>x1</th>\n",
       "      <th>x2</th>\n",
       "      <th>edist</th>\n",
       "      <th>power</th>\n",
       "    </tr>\n",
       "  </thead>\n",
       "  <tbody>\n",
       "    <tr>\n",
       "      <th>0</th>\n",
       "      <td>5</td>\n",
       "      <td>5</td>\n",
       "      <td>7.071068</td>\n",
       "      <td>3125.0</td>\n",
       "    </tr>\n",
       "  </tbody>\n",
       "</table>\n",
       "</div>"
      ],
      "text/plain": [
       "   x1  x2     edist   power\n",
       "0   5   5  7.071068  3125.0"
      ]
     },
     "execution_count": 988,
     "metadata": {},
     "output_type": "execute_result"
    },
    {
     "data": {
      "text/html": [
       "<div>\n",
       "<style scoped>\n",
       "    .dataframe tbody tr th:only-of-type {\n",
       "        vertical-align: middle;\n",
       "    }\n",
       "\n",
       "    .dataframe tbody tr th {\n",
       "        vertical-align: top;\n",
       "    }\n",
       "\n",
       "    .dataframe thead th {\n",
       "        text-align: right;\n",
       "    }\n",
       "</style>\n",
       "<table border=\"1\" class=\"dataframe\">\n",
       "  <thead>\n",
       "    <tr style=\"text-align: right;\">\n",
       "      <th></th>\n",
       "      <th>index</th>\n",
       "      <th>0</th>\n",
       "    </tr>\n",
       "  </thead>\n",
       "  <tbody>\n",
       "    <tr>\n",
       "      <th>0</th>\n",
       "      <td>2</td>\n",
       "      <td>9</td>\n",
       "    </tr>\n",
       "  </tbody>\n",
       "</table>\n",
       "</div>"
      ],
      "text/plain": [
       "   index  0\n",
       "0      2  9"
      ]
     },
     "execution_count": 988,
     "metadata": {},
     "output_type": "execute_result"
    },
    {
     "data": {
      "text/html": [
       "<div>\n",
       "<style scoped>\n",
       "    .dataframe tbody tr th:only-of-type {\n",
       "        vertical-align: middle;\n",
       "    }\n",
       "\n",
       "    .dataframe tbody tr th {\n",
       "        vertical-align: top;\n",
       "    }\n",
       "\n",
       "    .dataframe thead th {\n",
       "        text-align: right;\n",
       "    }\n",
       "</style>\n",
       "<table border=\"1\" class=\"dataframe\">\n",
       "  <thead>\n",
       "    <tr style=\"text-align: right;\">\n",
       "      <th></th>\n",
       "      <th>0</th>\n",
       "      <th>1</th>\n",
       "    </tr>\n",
       "  </thead>\n",
       "  <tbody>\n",
       "    <tr>\n",
       "      <th>0</th>\n",
       "      <td>5</td>\n",
       "      <td>5</td>\n",
       "    </tr>\n",
       "  </tbody>\n",
       "</table>\n",
       "</div>"
      ],
      "text/plain": [
       "   0  1\n",
       "0  5  5"
      ]
     },
     "execution_count": 988,
     "metadata": {},
     "output_type": "execute_result"
    },
    {
     "data": {
      "text/plain": [
       "(9, 2)"
      ]
     },
     "execution_count": 988,
     "metadata": {},
     "output_type": "execute_result"
    },
    {
     "data": {
      "text/html": [
       "<div>\n",
       "<style scoped>\n",
       "    .dataframe tbody tr th:only-of-type {\n",
       "        vertical-align: middle;\n",
       "    }\n",
       "\n",
       "    .dataframe tbody tr th {\n",
       "        vertical-align: top;\n",
       "    }\n",
       "\n",
       "    .dataframe thead th {\n",
       "        text-align: right;\n",
       "    }\n",
       "</style>\n",
       "<table border=\"1\" class=\"dataframe\">\n",
       "  <thead>\n",
       "    <tr style=\"text-align: right;\">\n",
       "      <th></th>\n",
       "      <th>x1</th>\n",
       "      <th>x2</th>\n",
       "      <th>edist</th>\n",
       "      <th>power</th>\n",
       "    </tr>\n",
       "  </thead>\n",
       "  <tbody>\n",
       "    <tr>\n",
       "      <th>0</th>\n",
       "      <td>False</td>\n",
       "      <td>False</td>\n",
       "      <td>True</td>\n",
       "      <td>True</td>\n",
       "    </tr>\n",
       "  </tbody>\n",
       "</table>\n",
       "</div>"
      ],
      "text/plain": [
       "      x1     x2  edist  power\n",
       "0  False  False   True   True"
      ]
     },
     "execution_count": 988,
     "metadata": {},
     "output_type": "execute_result"
    },
    {
     "data": {
      "image/png": "[encoded data removed]",
      "text/plain": [
       "<Figure size 432x288 with 1 Axes>"
      ]
     },
     "metadata": {
      "needs_background": "light"
     },
     "output_type": "display_data"
    }
   ],
   "source": [
    "randz = np.random.RandomState(4543)\n",
    "x5 = pd.Series( randz.randint(0, 10, size=n//10) )\n",
    "x6 = pd.Series( randz.randint(0, 10, size=n//10) )\n",
    "plt.scatter(x5, x6); \n",
    "\n",
    "scalg.norm( x5 - x6 )\n",
    "\n",
    "df3 = pd.DataFrame( dict(x1=x5, x2=x6 ) )\n",
    "df3['edist'] = df3.apply( lambda x: scalg.norm(x) , axis=1) ### TODO: the math \n",
    "df3['power'] = df3.apply( lambda x: x.x1**x.x2 , axis=1) # \n",
    "df3[:1]\n",
    "\n",
    "x5[np.where( np.diff(np.sign(np.diff(x5))) == -2)[0] + 1 ].to_frame().reset_index()[:1]\n",
    "pd.concat([x5, x6], axis=1)[:1]#.reset_index(drop=True)[:3]\n",
    "\n",
    "x5.argmin(), x5.argmax() #=== x5.idxmin(), x5.idxmax()\n",
    "df3.ne(x5, axis=0)[:1]"
   ]
  },
  {
   "cell_type": "code",
   "execution_count": 1128,
   "metadata": {
    "scrolled": false
   },
   "outputs": [
    {
     "name": "stdout",
     "output_type": "stream",
     "text": [
      "---\n",
      "---\n"
     ]
    },
    {
     "data": {
      "text/html": [
       "<div>\n",
       "<style scoped>\n",
       "    .dataframe tbody tr th:only-of-type {\n",
       "        vertical-align: middle;\n",
       "    }\n",
       "\n",
       "    .dataframe tbody tr th {\n",
       "        vertical-align: top;\n",
       "    }\n",
       "\n",
       "    .dataframe thead th {\n",
       "        text-align: right;\n",
       "    }\n",
       "</style>\n",
       "<table border=\"1\" class=\"dataframe\">\n",
       "  <thead>\n",
       "    <tr style=\"text-align: right;\">\n",
       "      <th></th>\n",
       "      <th>score</th>\n",
       "      <th>attempts</th>\n",
       "      <th>name</th>\n",
       "    </tr>\n",
       "  </thead>\n",
       "  <tbody>\n",
       "    <tr>\n",
       "      <th>f</th>\n",
       "      <td>20.0</td>\n",
       "      <td>3</td>\n",
       "      <td>Michael</td>\n",
       "    </tr>\n",
       "    <tr>\n",
       "      <th>j</th>\n",
       "      <td>19.0</td>\n",
       "      <td>1</td>\n",
       "      <td>Jonas</td>\n",
       "    </tr>\n",
       "    <tr>\n",
       "      <th>c</th>\n",
       "      <td>16.5</td>\n",
       "      <td>2</td>\n",
       "      <td>Katherine</td>\n",
       "    </tr>\n",
       "    <tr>\n",
       "      <th>g</th>\n",
       "      <td>14.5</td>\n",
       "      <td>1</td>\n",
       "      <td>Matthew</td>\n",
       "    </tr>\n",
       "    <tr>\n",
       "      <th>a</th>\n",
       "      <td>12.5</td>\n",
       "      <td>1</td>\n",
       "      <td>Anastasia</td>\n",
       "    </tr>\n",
       "    <tr>\n",
       "      <th>e</th>\n",
       "      <td>9.0</td>\n",
       "      <td>2</td>\n",
       "      <td>Emily</td>\n",
       "    </tr>\n",
       "    <tr>\n",
       "      <th>b</th>\n",
       "      <td>9.0</td>\n",
       "      <td>3</td>\n",
       "      <td>Dima</td>\n",
       "    </tr>\n",
       "    <tr>\n",
       "      <th>i</th>\n",
       "      <td>8.0</td>\n",
       "      <td>2</td>\n",
       "      <td>Kevin</td>\n",
       "    </tr>\n",
       "    <tr>\n",
       "      <th>h</th>\n",
       "      <td>NaN</td>\n",
       "      <td>1</td>\n",
       "      <td>Laura</td>\n",
       "    </tr>\n",
       "    <tr>\n",
       "      <th>d</th>\n",
       "      <td>NaN</td>\n",
       "      <td>3</td>\n",
       "      <td>James</td>\n",
       "    </tr>\n",
       "  </tbody>\n",
       "</table>\n",
       "</div>"
      ],
      "text/plain": [
       "   score  attempts  \\\n",
       "f   20.0         3   \n",
       "j   19.0         1   \n",
       "c   16.5         2   \n",
       "g   14.5         1   \n",
       "a   12.5         1   \n",
       "e    9.0         2   \n",
       "b    9.0         3   \n",
       "i    8.0         2   \n",
       "h    NaN         1   \n",
       "d    NaN         3   \n",
       "\n",
       "        name  \n",
       "f    Michael  \n",
       "j      Jonas  \n",
       "c  Katherine  \n",
       "g    Matthew  \n",
       "a  Anastasia  \n",
       "e      Emily  \n",
       "b       Dima  \n",
       "i      Kevin  \n",
       "h      Laura  \n",
       "d      James  "
      ]
     },
     "execution_count": 1128,
     "metadata": {},
     "output_type": "execute_result"
    },
    {
     "data": {
      "text/plain": [
       "a    Anastasia\n",
       "b         Dima\n",
       "c    Katherine\n",
       "d       Suresh\n",
       "e        Emily\n",
       "f      Michael\n",
       "g      Matthew\n",
       "h        Laura\n",
       "i        Kevin\n",
       "j        Jonas\n",
       "Name: name, dtype: object"
      ]
     },
     "execution_count": 1128,
     "metadata": {},
     "output_type": "execute_result"
    },
    {
     "data": {
      "text/html": [
       "<div>\n",
       "<style scoped>\n",
       "    .dataframe tbody tr th:only-of-type {\n",
       "        vertical-align: middle;\n",
       "    }\n",
       "\n",
       "    .dataframe tbody tr th {\n",
       "        vertical-align: top;\n",
       "    }\n",
       "\n",
       "    .dataframe thead th {\n",
       "        text-align: right;\n",
       "    }\n",
       "</style>\n",
       "<table border=\"1\" class=\"dataframe\">\n",
       "  <thead>\n",
       "    <tr style=\"text-align: right;\">\n",
       "      <th></th>\n",
       "      <th>name</th>\n",
       "      <th>score</th>\n",
       "      <th>attempts</th>\n",
       "      <th>qualify</th>\n",
       "      <th>color</th>\n",
       "    </tr>\n",
       "  </thead>\n",
       "  <tbody>\n",
       "    <tr>\n",
       "      <th>a</th>\n",
       "      <td>Anastasia</td>\n",
       "      <td>12.5</td>\n",
       "      <td>1</td>\n",
       "      <td>True</td>\n",
       "      <td>Red</td>\n",
       "    </tr>\n",
       "    <tr>\n",
       "      <th>b</th>\n",
       "      <td>Dima</td>\n",
       "      <td>9.0</td>\n",
       "      <td>3</td>\n",
       "      <td>False</td>\n",
       "      <td>Blue</td>\n",
       "    </tr>\n",
       "    <tr>\n",
       "      <th>c</th>\n",
       "      <td>Katherine</td>\n",
       "      <td>16.5</td>\n",
       "      <td>2</td>\n",
       "      <td>True</td>\n",
       "      <td>Orange</td>\n",
       "    </tr>\n",
       "    <tr>\n",
       "      <th>d</th>\n",
       "      <td>James</td>\n",
       "      <td>NaN</td>\n",
       "      <td>3</td>\n",
       "      <td>False</td>\n",
       "      <td>Red</td>\n",
       "    </tr>\n",
       "    <tr>\n",
       "      <th>e</th>\n",
       "      <td>Emily</td>\n",
       "      <td>9.0</td>\n",
       "      <td>2</td>\n",
       "      <td>False</td>\n",
       "      <td>Gray</td>\n",
       "    </tr>\n",
       "    <tr>\n",
       "      <th>f</th>\n",
       "      <td>Michael</td>\n",
       "      <td>20.0</td>\n",
       "      <td>3</td>\n",
       "      <td>True</td>\n",
       "      <td>Gray</td>\n",
       "    </tr>\n",
       "    <tr>\n",
       "      <th>g</th>\n",
       "      <td>Matthew</td>\n",
       "      <td>14.5</td>\n",
       "      <td>1</td>\n",
       "      <td>True</td>\n",
       "      <td>Blue</td>\n",
       "    </tr>\n",
       "    <tr>\n",
       "      <th>h</th>\n",
       "      <td>Laura</td>\n",
       "      <td>NaN</td>\n",
       "      <td>1</td>\n",
       "      <td>False</td>\n",
       "      <td>Green</td>\n",
       "    </tr>\n",
       "    <tr>\n",
       "      <th>i</th>\n",
       "      <td>Kevin</td>\n",
       "      <td>8.0</td>\n",
       "      <td>2</td>\n",
       "      <td>False</td>\n",
       "      <td>Green</td>\n",
       "    </tr>\n",
       "    <tr>\n",
       "      <th>j</th>\n",
       "      <td>Jonas</td>\n",
       "      <td>19.0</td>\n",
       "      <td>1</td>\n",
       "      <td>True</td>\n",
       "      <td>Red</td>\n",
       "    </tr>\n",
       "  </tbody>\n",
       "</table>\n",
       "</div>"
      ],
      "text/plain": [
       "        name  score  \\\n",
       "a  Anastasia   12.5   \n",
       "b       Dima    9.0   \n",
       "c  Katherine   16.5   \n",
       "d      James    NaN   \n",
       "e      Emily    9.0   \n",
       "f    Michael   20.0   \n",
       "g    Matthew   14.5   \n",
       "h      Laura    NaN   \n",
       "i      Kevin    8.0   \n",
       "j      Jonas   19.0   \n",
       "\n",
       "   attempts  qualify   color  \n",
       "a         1     True     Red  \n",
       "b         3    False    Blue  \n",
       "c         2     True  Orange  \n",
       "d         3    False     Red  \n",
       "e         2    False    Gray  \n",
       "f         3     True    Gray  \n",
       "g         1     True    Blue  \n",
       "h         1    False   Green  \n",
       "i         2    False   Green  \n",
       "j         1     True     Red  "
      ]
     },
     "execution_count": 1128,
     "metadata": {},
     "output_type": "execute_result"
    },
    {
     "data": {
      "text/plain": [
       "<matplotlib.collections.PathCollection at 0x7f73b1f7be50>"
      ]
     },
     "execution_count": 1128,
     "metadata": {},
     "output_type": "execute_result"
    },
    {
     "data": {
      "image/png": "[encoded data removed]",
      "text/plain": [
       "<Figure size 432x288 with 1 Axes>"
      ]
     },
     "metadata": {
      "needs_background": "light"
     },
     "output_type": "display_data"
    }
   ],
   "source": [
    "exam_data  = {'name': ['Anastasia', 'Dima', 'Katherine', 'James', 'Emily', 'Michael', 'Matthew', 'Laura', 'Kevin', 'Jonas'],\n",
    "        'score': [12.5, 9, 16.5, np.nan, 9, 20, 14.5, np.nan, 8, 19],\n",
    "        'attempts': [1, 3, 2, 3, 2, 3, 1, 1, 2, 1],\n",
    "        'qualify': ['yes', 'no', 'yes', 'no', 'no', 'yes', 'yes', 'no', 'no', 'yes']}\n",
    "labels = ['a', 'b', 'c', 'd', 'e', 'f', 'g', 'h', 'i', 'j']\n",
    "\n",
    "df4 = pd.DataFrame(exam_data , index=labels)\n",
    "# df4[:3]\n",
    "# df4.iloc[-3:]\n",
    "# df4.info()\n",
    "# df4.shape\n",
    "# df4.describe(include='all')\n",
    "\n",
    "## are same\n",
    "# df4.iloc[::3][['name', 'score']]\n",
    "# df4[['name', 'score']][::3]\n",
    "# df4.iloc[[3,6],[0,3]] ##TODO: slice within\n",
    "\n",
    "\n",
    "print(\"---\")\n",
    "# df4[ df4.attempts > 2]\n",
    "# df4[ df4.score.isna() ]\n",
    "# df4[ df4.score.isnull() ]\n",
    "# df4[ (df4.score >= 15) & (df4.score <= 20) ]\n",
    "# df4[df4.score.between(15, 20) ]\n",
    "# df4[ (df4.attempts < 2) & (df4.score > 15) ]\n",
    "# df4.loc['d', 'score'] = 11.5\n",
    "# df4.set_value(8, 'score', 10.2)\n",
    "# df4.loc[ 'k' ] = [\"Donald\", 11.6, 3, 'yes']\n",
    "# df4.append( ['l', 'Johnie', 19.4, 4, 'yes'] )#, ignore_index=True ) << fails at col index match and so each entry is a row\n",
    "# df4.append( pd.Series(['Johnie', 19.4, 4, 'yes']) , ignore_index=True ) << fails at col index match and so extra cols \n",
    "# df4.append( {'name':'Johnie', 'score':19.4, 'attempts':4, 'qualify':'yes'} , ignore_index=True )\n",
    "# df4 = df4.drop('k')\n",
    "# df4.drop('k', inplace=True)\n",
    "# df4\n",
    "\n",
    "\n",
    "print(\"---\")\n",
    "df4.sort_values(by=[ 'score', 'attempts', 'name'], \n",
    "                ascending=[False, True, False])[['score', 'attempts', 'name']]\n",
    "\n",
    "df4.qualify = df4.qualify.map({'yes':True, 'no':False})\n",
    "df4.name.replace('James', 'Suresh', inplace=False)\n",
    "# df4.pop('attempts')\n",
    "df4['color'] = ['Red','Blue','Orange','Red','White','White','Blue','Green','Green','Red']\n",
    "df4.color.replace('White', 'Gray', inplace=True)\n",
    "# df4.info()\n",
    "# df4.describe(include='all')\n",
    "df4\n",
    "\n",
    "plt.scatter(df4.score, df4.attempts, c=df4.color)"
   ]
  },
  {
   "cell_type": "code",
   "execution_count": 1133,
   "metadata": {},
   "outputs": [
    {
     "data": {
      "text/plain": [
       "(['name', 'score', 'attempts', 'qualify', 'color'],\n",
       " array(['name', 'score', 'attempts', 'qualify', 'color'], dtype=object))"
      ]
     },
     "execution_count": 1133,
     "metadata": {},
     "output_type": "execute_result"
    },
    {
     "data": {
      "text/html": [
       "<div>\n",
       "<style scoped>\n",
       "    .dataframe tbody tr th:only-of-type {\n",
       "        vertical-align: middle;\n",
       "    }\n",
       "\n",
       "    .dataframe tbody tr th {\n",
       "        vertical-align: top;\n",
       "    }\n",
       "\n",
       "    .dataframe thead th {\n",
       "        text-align: right;\n",
       "    }\n",
       "</style>\n",
       "<table border=\"1\" class=\"dataframe\">\n",
       "  <thead>\n",
       "    <tr style=\"text-align: right;\">\n",
       "      <th></th>\n",
       "      <th>name</th>\n",
       "      <th>score</th>\n",
       "      <th>attempts</th>\n",
       "      <th>qualify</th>\n",
       "      <th>color</th>\n",
       "    </tr>\n",
       "  </thead>\n",
       "  <tbody>\n",
       "    <tr>\n",
       "      <th>d</th>\n",
       "      <td>James</td>\n",
       "      <td>NaN</td>\n",
       "      <td>3</td>\n",
       "      <td>False</td>\n",
       "      <td>Red</td>\n",
       "    </tr>\n",
       "  </tbody>\n",
       "</table>\n",
       "</div>"
      ],
      "text/plain": [
       "    name  score  attempts  \\\n",
       "d  James    NaN         3   \n",
       "\n",
       "   qualify color  \n",
       "d    False   Red  "
      ]
     },
     "execution_count": 1133,
     "metadata": {},
     "output_type": "execute_result"
    },
    {
     "name": "stdout",
     "output_type": "stream",
     "text": [
      "a . Anastasia  scored 12.5\tafter  1 attempts. Qualify=True \n",
      "b . Dima       scored 9.0\tafter  3 attempts. Qualify=False\n",
      "c . Katherine  scored 16.5\tafter  2 attempts. Qualify=True \n",
      "d . James      scored nan\tafter  3 attempts. Qualify=False\n",
      "e . Emily      scored 9.0\tafter  2 attempts. Qualify=False\n",
      "f . Michael    scored 20.0\tafter  3 attempts. Qualify=True \n",
      "g . Matthew    scored 14.5\tafter  1 attempts. Qualify=True \n",
      "h . Laura      scored nan\tafter  1 attempts. Qualify=False\n",
      "i . Kevin      scored 8.0\tafter  2 attempts. Qualify=False\n",
      "j . Jonas      scored 19.0\tafter  1 attempts. Qualify=True \n"
     ]
    },
    {
     "data": {
      "text/html": [
       "<div>\n",
       "<style scoped>\n",
       "    .dataframe tbody tr th:only-of-type {\n",
       "        vertical-align: middle;\n",
       "    }\n",
       "\n",
       "    .dataframe tbody tr th {\n",
       "        vertical-align: top;\n",
       "    }\n",
       "\n",
       "    .dataframe thead th {\n",
       "        text-align: right;\n",
       "    }\n",
       "</style>\n",
       "<table border=\"1\" class=\"dataframe\">\n",
       "  <thead>\n",
       "    <tr style=\"text-align: right;\">\n",
       "      <th></th>\n",
       "      <th>qualify</th>\n",
       "      <th># Qualifiers</th>\n",
       "    </tr>\n",
       "  </thead>\n",
       "  <tbody>\n",
       "    <tr>\n",
       "      <th>0</th>\n",
       "      <td>False</td>\n",
       "      <td>5</td>\n",
       "    </tr>\n",
       "    <tr>\n",
       "      <th>1</th>\n",
       "      <td>True</td>\n",
       "      <td>5</td>\n",
       "    </tr>\n",
       "  </tbody>\n",
       "</table>\n",
       "</div>"
      ],
      "text/plain": [
       "   qualify  # Qualifiers\n",
       "0    False             5\n",
       "1     True             5"
      ]
     },
     "execution_count": 1133,
     "metadata": {},
     "output_type": "execute_result"
    }
   ],
   "source": [
    "list(df4.columns), df4.columns.values\n",
    "\n",
    "# pd.set_option('display.max_rows', 30)\n",
    "# pd.set_option('display.max_columns', 30)\n",
    "# pd.set_option('display.width', 30)\n",
    "# df4\n",
    "df4.iloc[[3]]\n",
    "\n",
    "# df4.drop( df4.index[[2,4]] )\n",
    "\n",
    "# df4.isnull().values.sum()\n",
    "# df4.isna().values.sum()\n",
    "# df4.fillna( 0 , inplace=True)\n",
    "\n",
    "\n",
    "r1 = \"{i:<2s}. {n:<10s} scored {s:2.1f}\\tafter {a:2d} attempts. Qualify={q:<5s}\".format\n",
    "for i, x in df4.iterrows():\n",
    "    print( r1(i=i, n=x['name'], s=x.score, a=x.attempts, q=str(x.qualify) ) )\n",
    "\n",
    "# df4.to_csv('scores.csv', index=False, sep='\\t')\n",
    "# pd.read_csv('scores.csv', sep='\\t' )\n",
    "\n",
    "df4.groupby(['qualify']).size().reset_index( name='# Qualifiers')"
   ]
  },
  {
   "cell_type": "code",
   "execution_count": 1220,
   "metadata": {},
   "outputs": [
    {
     "data": {
      "text/plain": [
       "((7, 7), (3, 7))"
      ]
     },
     "execution_count": 1220,
     "metadata": {},
     "output_type": "execute_result"
    },
    {
     "data": {
      "text/plain": [
       "True"
      ]
     },
     "execution_count": 1220,
     "metadata": {},
     "output_type": "execute_result"
    },
    {
     "data": {
      "text/plain": [
       "array(['Anastasia', 'Red'], dtype=object)"
      ]
     },
     "execution_count": 1220,
     "metadata": {},
     "output_type": "execute_result"
    },
    {
     "name": "stdout",
     "output_type": "stream",
     "text": [
      "----\n",
      "----\n"
     ]
    },
    {
     "data": {
      "text/plain": [
       "team\n",
       "Blue                [Dima, Matthew]\n",
       "Gray               [Emily, Michael]\n",
       "Green                [Laura, Kevin]\n",
       "Orange                  [Katherine]\n",
       "Red       [Anastasia, James, Jonas]\n",
       "Name: name, dtype: object"
      ]
     },
     "execution_count": 1220,
     "metadata": {},
     "output_type": "execute_result"
    },
    {
     "name": "stdout",
     "output_type": "stream",
     "text": [
      "----\n",
      "----\n",
      "Score mean =  13.5625\n"
     ]
    },
    {
     "data": {
      "text/html": [
       "<div>\n",
       "<style scoped>\n",
       "    .dataframe tbody tr th:only-of-type {\n",
       "        vertical-align: middle;\n",
       "    }\n",
       "\n",
       "    .dataframe tbody tr th {\n",
       "        vertical-align: top;\n",
       "    }\n",
       "\n",
       "    .dataframe thead th {\n",
       "        text-align: right;\n",
       "    }\n",
       "</style>\n",
       "<table border=\"1\" class=\"dataframe\">\n",
       "  <thead>\n",
       "    <tr style=\"text-align: right;\">\n",
       "      <th></th>\n",
       "      <th>name</th>\n",
       "      <th>score</th>\n",
       "      <th>attempts</th>\n",
       "      <th>qualify</th>\n",
       "      <th>team</th>\n",
       "      <th>cat_scores</th>\n",
       "      <th>cat_scores_bins</th>\n",
       "    </tr>\n",
       "  </thead>\n",
       "  <tbody>\n",
       "    <tr>\n",
       "      <th>a</th>\n",
       "      <td>Anastasia</td>\n",
       "      <td>12.5</td>\n",
       "      <td>1</td>\n",
       "      <td>True</td>\n",
       "      <td>Red</td>\n",
       "      <td>g2</td>\n",
       "      <td>(11.0, 14.0]</td>\n",
       "    </tr>\n",
       "    <tr>\n",
       "      <th>b</th>\n",
       "      <td>Dima</td>\n",
       "      <td>9.0</td>\n",
       "      <td>3</td>\n",
       "      <td>False</td>\n",
       "      <td>Blue</td>\n",
       "      <td>g1</td>\n",
       "      <td>(7.988, 11.0]</td>\n",
       "    </tr>\n",
       "    <tr>\n",
       "      <th>e</th>\n",
       "      <td>Emily</td>\n",
       "      <td>9.0</td>\n",
       "      <td>2</td>\n",
       "      <td>False</td>\n",
       "      <td>Gray</td>\n",
       "      <td>g1</td>\n",
       "      <td>(7.988, 11.0]</td>\n",
       "    </tr>\n",
       "    <tr>\n",
       "      <th>i</th>\n",
       "      <td>Kevin</td>\n",
       "      <td>8.0</td>\n",
       "      <td>2</td>\n",
       "      <td>False</td>\n",
       "      <td>Green</td>\n",
       "      <td>g1</td>\n",
       "      <td>(7.988, 11.0]</td>\n",
       "    </tr>\n",
       "  </tbody>\n",
       "</table>\n",
       "</div>"
      ],
      "text/plain": [
       "        name  score  \\\n",
       "a  Anastasia   12.5   \n",
       "b       Dima    9.0   \n",
       "e      Emily    9.0   \n",
       "i      Kevin    8.0   \n",
       "\n",
       "   attempts  qualify   team  \\\n",
       "a         1     True    Red   \n",
       "b         3    False   Blue   \n",
       "e         2    False   Gray   \n",
       "i         2    False  Green   \n",
       "\n",
       "  cat_scores cat_scores_bins  \n",
       "a         g2    (11.0, 14.0]  \n",
       "b         g1   (7.988, 11.0]  \n",
       "e         g1   (7.988, 11.0]  \n",
       "i         g1   (7.988, 11.0]  "
      ]
     },
     "execution_count": 1220,
     "metadata": {},
     "output_type": "execute_result"
    }
   ],
   "source": [
    "df4.rename(columns={'color':'team'}, inplace=True)\n",
    "shuffled = df4.sample(frac=1, random_state=7575)  \n",
    "# shuffled\n",
    "\n",
    "train = df4.sample(frac=0.7, random_state=7575) \n",
    "test = df4.drop( train.index )\n",
    "\n",
    "train.shape, test.shape \n",
    "\n",
    "# test.name.values\n",
    "# test.name.to_list()\n",
    "# test.score.argmax()\n",
    "# test.columns.to_list().contains('score')\n",
    "# pd.Series('score').isin(test.columns.values)\n",
    "'score' in test.columns\n",
    "# test.dtypes\n",
    "# test.score.astype(int)\n",
    "\n",
    "###add_prefix, add_suffix to col name\n",
    "# df4.add_prefix('grad_')\n",
    "# df4.loc[::-1, ::-1]\n",
    "# df4.columns.str.lower().str.rstrip()\n",
    "### select cols by dtype\n",
    "# df4.select_dtypes(include='number')\n",
    "\n",
    "df4.iloc[0, [ df4.columns.get_loc(x) for x in ['name', 'team'] ] ].values\n",
    "\n",
    "# df4.nlargest(3, 'score')\n",
    "# df4.nsmallest(3, 'attempts')\n",
    "\n",
    "# df4.score.cumsum()\n",
    "print(\"----\")\n",
    "# print('“many_to_one” or “m:1”: check if merge keys are unique in right dataset:')\n",
    "# df_many_to_one = pd.merge(df, df1, validate = \"many_to_one\")\n",
    "\n",
    "print(\"----\")\n",
    "# df4.groupby(['team']).size()\n",
    "df4.groupby(['team'])['name'].apply(list)\n",
    "# df4.groupby(['team','qualify'])['name'].apply(list)\n",
    "# df4.groupby(['team','qualify']).mean() #.reset_index()\n",
    "\n",
    "\n",
    "print(\"----\")\n",
    "df4['cat_scores_bins']= pd.cut(df4.score, 4 )#, labels=['g1', 'g2', 'g3', 'g4'])\n",
    "df4['cat_scores'] = pd.cut(df4.score, 4, labels=['g1', 'g2', 'g3', 'g4'])\n",
    "# df4\n",
    "df4['team'] = df4.team.astype('category')\n",
    "\n",
    "# df4.info(memory_usage='deep')\n",
    "# df4.describe(include='all')\n",
    "\n",
    "print(\"----\")\n",
    "m = df4.score.mean()\n",
    "print( \"Score mean = \", m)\n",
    "df4.query( 'score < @m')"
   ]
  },
  {
   "cell_type": "code",
   "execution_count": 1283,
   "metadata": {
    "scrolled": false
   },
   "outputs": [
    {
     "data": {
      "text/plain": [
       "team\n",
       "Blue                [Dima, Matthew]\n",
       "Gray               [Emily, Michael]\n",
       "Green                [Laura, Kevin]\n",
       "Orange                  [Katherine]\n",
       "Red       [Anastasia, James, Jonas]\n",
       "Name: name, dtype: object"
      ]
     },
     "execution_count": 1283,
     "metadata": {},
     "output_type": "execute_result"
    },
    {
     "data": {
      "text/plain": [
       "{'Blue': Index(['b', 'g'], dtype='object'),\n",
       " 'Gray': Index(['e', 'f'], dtype='object'),\n",
       " 'Green': Index(['h', 'i'], dtype='object'),\n",
       " 'Orange': Index(['c'], dtype='object'),\n",
       " 'Red': Index(['a', 'd', 'j'], dtype='object')}"
      ]
     },
     "execution_count": 1283,
     "metadata": {},
     "output_type": "execute_result"
    },
    {
     "data": {
      "text/html": [
       "<div>\n",
       "<style scoped>\n",
       "    .dataframe tbody tr th:only-of-type {\n",
       "        vertical-align: middle;\n",
       "    }\n",
       "\n",
       "    .dataframe tbody tr th {\n",
       "        vertical-align: top;\n",
       "    }\n",
       "\n",
       "    .dataframe thead th {\n",
       "        text-align: right;\n",
       "    }\n",
       "</style>\n",
       "<table border=\"1\" class=\"dataframe\">\n",
       "  <thead>\n",
       "    <tr style=\"text-align: right;\">\n",
       "      <th></th>\n",
       "      <th>name</th>\n",
       "      <th>score</th>\n",
       "      <th>attempts</th>\n",
       "      <th>qualify</th>\n",
       "      <th>team</th>\n",
       "      <th>cat_scores</th>\n",
       "      <th>cat_scores_bins</th>\n",
       "    </tr>\n",
       "  </thead>\n",
       "  <tbody>\n",
       "    <tr>\n",
       "      <th>a</th>\n",
       "      <td>Anastasia</td>\n",
       "      <td>12.5</td>\n",
       "      <td>1</td>\n",
       "      <td>True</td>\n",
       "      <td>Red</td>\n",
       "      <td>g2</td>\n",
       "      <td>(11.0, 14.0]</td>\n",
       "    </tr>\n",
       "    <tr>\n",
       "      <th>d</th>\n",
       "      <td>James</td>\n",
       "      <td>NaN</td>\n",
       "      <td>3</td>\n",
       "      <td>False</td>\n",
       "      <td>Red</td>\n",
       "      <td>NaN</td>\n",
       "      <td>NaN</td>\n",
       "    </tr>\n",
       "    <tr>\n",
       "      <th>j</th>\n",
       "      <td>Jonas</td>\n",
       "      <td>19.0</td>\n",
       "      <td>1</td>\n",
       "      <td>True</td>\n",
       "      <td>Red</td>\n",
       "      <td>g4</td>\n",
       "      <td>(17.0, 20.0]</td>\n",
       "    </tr>\n",
       "  </tbody>\n",
       "</table>\n",
       "</div>"
      ],
      "text/plain": [
       "        name  score  \\\n",
       "a  Anastasia   12.5   \n",
       "d      James    NaN   \n",
       "j      Jonas   19.0   \n",
       "\n",
       "   attempts  qualify team  \\\n",
       "a         1     True  Red   \n",
       "d         3    False  Red   \n",
       "j         1     True  Red   \n",
       "\n",
       "  cat_scores cat_scores_bins  \n",
       "a         g2    (11.0, 14.0]  \n",
       "d        NaN             NaN  \n",
       "j         g4    (17.0, 20.0]  "
      ]
     },
     "execution_count": 1283,
     "metadata": {},
     "output_type": "execute_result"
    },
    {
     "data": {
      "text/html": [
       "<div>\n",
       "<style scoped>\n",
       "    .dataframe tbody tr th:only-of-type {\n",
       "        vertical-align: middle;\n",
       "    }\n",
       "\n",
       "    .dataframe tbody tr th {\n",
       "        vertical-align: top;\n",
       "    }\n",
       "\n",
       "    .dataframe thead th {\n",
       "        text-align: right;\n",
       "    }\n",
       "</style>\n",
       "<table border=\"1\" class=\"dataframe\">\n",
       "  <thead>\n",
       "    <tr style=\"text-align: right;\">\n",
       "      <th></th>\n",
       "      <th></th>\n",
       "      <th>0</th>\n",
       "    </tr>\n",
       "    <tr>\n",
       "      <th>team</th>\n",
       "      <th>qualify</th>\n",
       "      <th></th>\n",
       "    </tr>\n",
       "  </thead>\n",
       "  <tbody>\n",
       "    <tr>\n",
       "      <th rowspan=\"2\" valign=\"top\">Blue</th>\n",
       "      <th>False</th>\n",
       "      <td>1</td>\n",
       "    </tr>\n",
       "    <tr>\n",
       "      <th>True</th>\n",
       "      <td>1</td>\n",
       "    </tr>\n",
       "    <tr>\n",
       "      <th rowspan=\"2\" valign=\"top\">Gray</th>\n",
       "      <th>False</th>\n",
       "      <td>1</td>\n",
       "    </tr>\n",
       "    <tr>\n",
       "      <th>True</th>\n",
       "      <td>1</td>\n",
       "    </tr>\n",
       "    <tr>\n",
       "      <th rowspan=\"2\" valign=\"top\">Green</th>\n",
       "      <th>False</th>\n",
       "      <td>2</td>\n",
       "    </tr>\n",
       "    <tr>\n",
       "      <th>True</th>\n",
       "      <td>0</td>\n",
       "    </tr>\n",
       "    <tr>\n",
       "      <th rowspan=\"2\" valign=\"top\">Orange</th>\n",
       "      <th>False</th>\n",
       "      <td>0</td>\n",
       "    </tr>\n",
       "    <tr>\n",
       "      <th>True</th>\n",
       "      <td>1</td>\n",
       "    </tr>\n",
       "    <tr>\n",
       "      <th rowspan=\"2\" valign=\"top\">Red</th>\n",
       "      <th>False</th>\n",
       "      <td>1</td>\n",
       "    </tr>\n",
       "    <tr>\n",
       "      <th>True</th>\n",
       "      <td>2</td>\n",
       "    </tr>\n",
       "  </tbody>\n",
       "</table>\n",
       "</div>"
      ],
      "text/plain": [
       "                0\n",
       "team   qualify   \n",
       "Blue   False    1\n",
       "       True     1\n",
       "Gray   False    1\n",
       "       True     1\n",
       "Green  False    2\n",
       "       True     0\n",
       "Orange False    0\n",
       "       True     1\n",
       "Red    False    1\n",
       "       True     2"
      ]
     },
     "execution_count": 1283,
     "metadata": {},
     "output_type": "execute_result"
    }
   ],
   "source": [
    "# i, u = pd.factorize(df4.team)\n",
    "# i\n",
    "# u\n",
    "\n",
    "# for g, n in df4.groupby(['team']):\n",
    "#     print( g, \":\\t\", len(n) )\n",
    "  \n",
    "\n",
    "df4.groupby(['team'])['name'].apply(list)\n",
    "\n",
    "# gdf1 = df4.groupby(['team']).agg(\n",
    "#     {'score': ['mean', 'sum', 'min', 'max', np.mean], #np.mean, np.sum, np.min, np.max\n",
    "#      'qualify' : ['count']   ,\n",
    "#      'attempts' : 'mean'\n",
    "#     }\n",
    "# )\n",
    "# gdf1.reset_index()\n",
    "# gdf1.describe()\n",
    "# gdf1.get_group('Red')\n",
    "\n",
    "# df4.groupby(['cat_scores'], axis='columns', level=1).groups\n",
    "\n",
    "grouper = df4.groupby(['team'])\n",
    "grouper.groups\n",
    "grouper.get_group('Red') #.describe()\n",
    "# grouper.describe()\n",
    "# df4.groupby(['team', 'qualify']).size().reset_index().groupby(['team', 'qualify'])[[0]].max()"
   ]
  },
  {
   "cell_type": "code",
   "execution_count": 1218,
   "metadata": {
    "scrolled": false
   },
   "outputs": [
    {
     "data": {
      "text/html": [
       "<div>\n",
       "<style scoped>\n",
       "    .dataframe tbody tr th:only-of-type {\n",
       "        vertical-align: middle;\n",
       "    }\n",
       "\n",
       "    .dataframe tbody tr th {\n",
       "        vertical-align: top;\n",
       "    }\n",
       "\n",
       "    .dataframe thead th {\n",
       "        text-align: right;\n",
       "    }\n",
       "</style>\n",
       "<table border=\"1\" class=\"dataframe\">\n",
       "  <thead>\n",
       "    <tr style=\"text-align: right;\">\n",
       "      <th></th>\n",
       "      <th>A</th>\n",
       "      <th>B</th>\n",
       "      <th>C</th>\n",
       "      <th>D</th>\n",
       "    </tr>\n",
       "  </thead>\n",
       "  <tbody>\n",
       "    <tr>\n",
       "      <th>MKr46an9Mc</th>\n",
       "      <td>-0.477095</td>\n",
       "      <td>0.843682</td>\n",
       "      <td>-1.491327</td>\n",
       "      <td>-0.371955</td>\n",
       "    </tr>\n",
       "    <tr>\n",
       "      <th>EAbdKVPVqy</th>\n",
       "      <td>0.545755</td>\n",
       "      <td>0.129082</td>\n",
       "      <td>0.504215</td>\n",
       "      <td>0.618524</td>\n",
       "    </tr>\n",
       "    <tr>\n",
       "      <th>mBBxS5jG3D</th>\n",
       "      <td>-0.364429</td>\n",
       "      <td>-0.885049</td>\n",
       "      <td>0.077128</td>\n",
       "      <td>0.519319</td>\n",
       "    </tr>\n",
       "  </tbody>\n",
       "</table>\n",
       "</div>"
      ],
      "text/plain": [
       "                   A  \\\n",
       "MKr46an9Mc -0.477095   \n",
       "EAbdKVPVqy  0.545755   \n",
       "mBBxS5jG3D -0.364429   \n",
       "\n",
       "                   B  \\\n",
       "MKr46an9Mc  0.843682   \n",
       "EAbdKVPVqy  0.129082   \n",
       "mBBxS5jG3D -0.885049   \n",
       "\n",
       "                   C  \\\n",
       "MKr46an9Mc -1.491327   \n",
       "EAbdKVPVqy  0.504215   \n",
       "mBBxS5jG3D  0.077128   \n",
       "\n",
       "                   D  \n",
       "MKr46an9Mc -0.371955  \n",
       "EAbdKVPVqy  0.618524  \n",
       "mBBxS5jG3D  0.519319  "
      ]
     },
     "execution_count": 1218,
     "metadata": {},
     "output_type": "execute_result"
    },
    {
     "data": {
      "text/html": [
       "<div>\n",
       "<style scoped>\n",
       "    .dataframe tbody tr th:only-of-type {\n",
       "        vertical-align: middle;\n",
       "    }\n",
       "\n",
       "    .dataframe tbody tr th {\n",
       "        vertical-align: top;\n",
       "    }\n",
       "\n",
       "    .dataframe thead th {\n",
       "        text-align: right;\n",
       "    }\n",
       "</style>\n",
       "<table border=\"1\" class=\"dataframe\">\n",
       "  <thead>\n",
       "    <tr style=\"text-align: right;\">\n",
       "      <th></th>\n",
       "      <th>A</th>\n",
       "      <th>B</th>\n",
       "      <th>C</th>\n",
       "      <th>D</th>\n",
       "    </tr>\n",
       "  </thead>\n",
       "  <tbody>\n",
       "    <tr>\n",
       "      <th>zhAFrhPG1C</th>\n",
       "      <td>0.358765</td>\n",
       "      <td>0.097501</td>\n",
       "      <td>0.661618</td>\n",
       "      <td>-1.312814</td>\n",
       "    </tr>\n",
       "    <tr>\n",
       "      <th>g4xNhuEOPW</th>\n",
       "      <td>NaN</td>\n",
       "      <td>-2.491481</td>\n",
       "      <td>-0.815842</td>\n",
       "      <td>0.242782</td>\n",
       "    </tr>\n",
       "    <tr>\n",
       "      <th>pPHvA2GFlM</th>\n",
       "      <td>-0.325389</td>\n",
       "      <td>-1.189328</td>\n",
       "      <td>1.551463</td>\n",
       "      <td>-0.157507</td>\n",
       "    </tr>\n",
       "  </tbody>\n",
       "</table>\n",
       "</div>"
      ],
      "text/plain": [
       "                   A  \\\n",
       "zhAFrhPG1C  0.358765   \n",
       "g4xNhuEOPW       NaN   \n",
       "pPHvA2GFlM -0.325389   \n",
       "\n",
       "                   B  \\\n",
       "zhAFrhPG1C  0.097501   \n",
       "g4xNhuEOPW -2.491481   \n",
       "pPHvA2GFlM -1.189328   \n",
       "\n",
       "                   C  \\\n",
       "zhAFrhPG1C  0.661618   \n",
       "g4xNhuEOPW -0.815842   \n",
       "pPHvA2GFlM  1.551463   \n",
       "\n",
       "                   D  \n",
       "zhAFrhPG1C -1.312814  \n",
       "g4xNhuEOPW  0.242782  \n",
       "pPHvA2GFlM -0.157507  "
      ]
     },
     "execution_count": 1218,
     "metadata": {},
     "output_type": "execute_result"
    },
    {
     "data": {
      "text/html": [
       "<div>\n",
       "<style scoped>\n",
       "    .dataframe tbody tr th:only-of-type {\n",
       "        vertical-align: middle;\n",
       "    }\n",
       "\n",
       "    .dataframe tbody tr th {\n",
       "        vertical-align: top;\n",
       "    }\n",
       "\n",
       "    .dataframe thead th {\n",
       "        text-align: right;\n",
       "    }\n",
       "</style>\n",
       "<table border=\"1\" class=\"dataframe\">\n",
       "  <thead>\n",
       "    <tr style=\"text-align: right;\">\n",
       "      <th></th>\n",
       "      <th>A</th>\n",
       "      <th>B</th>\n",
       "      <th>C</th>\n",
       "      <th>D</th>\n",
       "    </tr>\n",
       "  </thead>\n",
       "  <tbody>\n",
       "    <tr>\n",
       "      <th>2000-02-01</th>\n",
       "      <td>0.607069</td>\n",
       "      <td>0.294224</td>\n",
       "      <td>-1.024150</td>\n",
       "      <td>-0.733874</td>\n",
       "    </tr>\n",
       "    <tr>\n",
       "      <th>2000-01-03</th>\n",
       "      <td>0.098655</td>\n",
       "      <td>-2.687752</td>\n",
       "      <td>-0.660122</td>\n",
       "      <td>0.529322</td>\n",
       "    </tr>\n",
       "    <tr>\n",
       "      <th>2000-01-07</th>\n",
       "      <td>0.686460</td>\n",
       "      <td>0.317248</td>\n",
       "      <td>0.712604</td>\n",
       "      <td>1.930891</td>\n",
       "    </tr>\n",
       "  </tbody>\n",
       "</table>\n",
       "</div>"
      ],
      "text/plain": [
       "                   A  \\\n",
       "2000-02-01  0.607069   \n",
       "2000-01-03  0.098655   \n",
       "2000-01-07  0.686460   \n",
       "\n",
       "                   B  \\\n",
       "2000-02-01  0.294224   \n",
       "2000-01-03 -2.687752   \n",
       "2000-01-07  0.317248   \n",
       "\n",
       "                   C  \\\n",
       "2000-02-01 -1.024150   \n",
       "2000-01-03 -0.660122   \n",
       "2000-01-07  0.712604   \n",
       "\n",
       "                   D  \n",
       "2000-02-01 -0.733874  \n",
       "2000-01-03  0.529322  \n",
       "2000-01-07  1.930891  "
      ]
     },
     "execution_count": 1218,
     "metadata": {},
     "output_type": "execute_result"
    },
    {
     "data": {
      "text/html": [
       "<div>\n",
       "<style scoped>\n",
       "    .dataframe tbody tr th:only-of-type {\n",
       "        vertical-align: middle;\n",
       "    }\n",
       "\n",
       "    .dataframe tbody tr th {\n",
       "        vertical-align: top;\n",
       "    }\n",
       "\n",
       "    .dataframe thead th {\n",
       "        text-align: right;\n",
       "    }\n",
       "</style>\n",
       "<table border=\"1\" class=\"dataframe\">\n",
       "  <thead>\n",
       "    <tr style=\"text-align: right;\">\n",
       "      <th></th>\n",
       "      <th>A</th>\n",
       "      <th>B</th>\n",
       "      <th>C</th>\n",
       "      <th>D</th>\n",
       "    </tr>\n",
       "  </thead>\n",
       "  <tbody>\n",
       "    <tr>\n",
       "      <th>1</th>\n",
       "      <td>1.0</td>\n",
       "      <td>1.0</td>\n",
       "      <td>foo2</td>\n",
       "      <td>2009-01-02</td>\n",
       "    </tr>\n",
       "    <tr>\n",
       "      <th>4</th>\n",
       "      <td>4.0</td>\n",
       "      <td>0.0</td>\n",
       "      <td>foo5</td>\n",
       "      <td>2009-01-07</td>\n",
       "    </tr>\n",
       "    <tr>\n",
       "      <th>2</th>\n",
       "      <td>2.0</td>\n",
       "      <td>0.0</td>\n",
       "      <td>foo3</td>\n",
       "      <td>2009-01-05</td>\n",
       "    </tr>\n",
       "  </tbody>\n",
       "</table>\n",
       "</div>"
      ],
      "text/plain": [
       "     A    B     C          D\n",
       "1  1.0  1.0  foo2 2009-01-02\n",
       "4  4.0  0.0  foo5 2009-01-07\n",
       "2  2.0  0.0  foo3 2009-01-05"
      ]
     },
     "execution_count": 1218,
     "metadata": {},
     "output_type": "execute_result"
    }
   ],
   "source": [
    "pd.util.testing.makeDataFrame().sample(3)\n",
    "pd.util.testing.makeMissingDataframe().sample(3)\n",
    "pd.util.testing.makeTimeDataFrame().sample(3)\n",
    "pd.util.testing.makeMixedDataFrame().sample(3)\n",
    "\n",
    "# pd.util.testing.makeMissingDataframe().interpolate().sample(30)"
   ]
  },
  {
   "cell_type": "code",
   "execution_count": 1340,
   "metadata": {
    "scrolled": false
   },
   "outputs": [
    {
     "data": {
      "text/plain": [
       "team\n",
       "Blue            [9.0, 14.5]\n",
       "Gray            [9.0, 20.0]\n",
       "Green            [nan, 8.0]\n",
       "Orange               [16.5]\n",
       "Red       [12.5, nan, 19.0]\n",
       "Name: score, dtype: object"
      ]
     },
     "execution_count": 1340,
     "metadata": {},
     "output_type": "execute_result"
    },
    {
     "data": {
      "text/html": [
       "<div>\n",
       "<style scoped>\n",
       "    .dataframe tbody tr th:only-of-type {\n",
       "        vertical-align: middle;\n",
       "    }\n",
       "\n",
       "    .dataframe tbody tr th {\n",
       "        vertical-align: top;\n",
       "    }\n",
       "\n",
       "    .dataframe thead tr th {\n",
       "        text-align: left;\n",
       "    }\n",
       "\n",
       "    .dataframe thead tr:last-of-type th {\n",
       "        text-align: right;\n",
       "    }\n",
       "</style>\n",
       "<table border=\"1\" class=\"dataframe\">\n",
       "  <thead>\n",
       "    <tr>\n",
       "      <th></th>\n",
       "      <th></th>\n",
       "      <th colspan=\"2\" halign=\"left\">mean</th>\n",
       "      <th colspan=\"2\" halign=\"left\">sum</th>\n",
       "    </tr>\n",
       "    <tr>\n",
       "      <th></th>\n",
       "      <th></th>\n",
       "      <th>attempts</th>\n",
       "      <th>score</th>\n",
       "      <th>attempts</th>\n",
       "      <th>score</th>\n",
       "    </tr>\n",
       "    <tr>\n",
       "      <th>team</th>\n",
       "      <th>qualify</th>\n",
       "      <th></th>\n",
       "      <th></th>\n",
       "      <th></th>\n",
       "      <th></th>\n",
       "    </tr>\n",
       "  </thead>\n",
       "  <tbody>\n",
       "    <tr>\n",
       "      <th rowspan=\"2\" valign=\"top\">Blue</th>\n",
       "      <th>False</th>\n",
       "      <td>3.000</td>\n",
       "      <td>9.0000</td>\n",
       "      <td>3</td>\n",
       "      <td>9.0</td>\n",
       "    </tr>\n",
       "    <tr>\n",
       "      <th>True</th>\n",
       "      <td>1.000</td>\n",
       "      <td>14.5000</td>\n",
       "      <td>1</td>\n",
       "      <td>14.5</td>\n",
       "    </tr>\n",
       "    <tr>\n",
       "      <th rowspan=\"2\" valign=\"top\">Gray</th>\n",
       "      <th>False</th>\n",
       "      <td>2.000</td>\n",
       "      <td>9.0000</td>\n",
       "      <td>2</td>\n",
       "      <td>9.0</td>\n",
       "    </tr>\n",
       "    <tr>\n",
       "      <th>True</th>\n",
       "      <td>3.000</td>\n",
       "      <td>20.0000</td>\n",
       "      <td>3</td>\n",
       "      <td>20.0</td>\n",
       "    </tr>\n",
       "    <tr>\n",
       "      <th>Green</th>\n",
       "      <th>False</th>\n",
       "      <td>1.500</td>\n",
       "      <td>8.0000</td>\n",
       "      <td>3</td>\n",
       "      <td>8.0</td>\n",
       "    </tr>\n",
       "    <tr>\n",
       "      <th>Orange</th>\n",
       "      <th>True</th>\n",
       "      <td>2.000</td>\n",
       "      <td>16.5000</td>\n",
       "      <td>2</td>\n",
       "      <td>16.5</td>\n",
       "    </tr>\n",
       "    <tr>\n",
       "      <th rowspan=\"2\" valign=\"top\">Red</th>\n",
       "      <th>False</th>\n",
       "      <td>3.000</td>\n",
       "      <td>0.0000</td>\n",
       "      <td>3</td>\n",
       "      <td>0.0</td>\n",
       "    </tr>\n",
       "    <tr>\n",
       "      <th>True</th>\n",
       "      <td>1.000</td>\n",
       "      <td>15.7500</td>\n",
       "      <td>2</td>\n",
       "      <td>31.5</td>\n",
       "    </tr>\n",
       "    <tr>\n",
       "      <th>All</th>\n",
       "      <th></th>\n",
       "      <td>1.875</td>\n",
       "      <td>13.5625</td>\n",
       "      <td>15</td>\n",
       "      <td>108.5</td>\n",
       "    </tr>\n",
       "  </tbody>\n",
       "</table>\n",
       "</div>"
      ],
      "text/plain": [
       "                   mean  \\\n",
       "               attempts   \n",
       "team   qualify            \n",
       "Blue   False      3.000   \n",
       "       True       1.000   \n",
       "Gray   False      2.000   \n",
       "       True       3.000   \n",
       "Green  False      1.500   \n",
       "Orange True       2.000   \n",
       "Red    False      3.000   \n",
       "       True       1.000   \n",
       "All               1.875   \n",
       "\n",
       "                         \\\n",
       "                  score   \n",
       "team   qualify            \n",
       "Blue   False     9.0000   \n",
       "       True     14.5000   \n",
       "Gray   False     9.0000   \n",
       "       True     20.0000   \n",
       "Green  False     8.0000   \n",
       "Orange True     16.5000   \n",
       "Red    False     0.0000   \n",
       "       True     15.7500   \n",
       "All             13.5625   \n",
       "\n",
       "                    sum  \\\n",
       "               attempts   \n",
       "team   qualify            \n",
       "Blue   False          3   \n",
       "       True           1   \n",
       "Gray   False          2   \n",
       "       True           3   \n",
       "Green  False          3   \n",
       "Orange True           2   \n",
       "Red    False          3   \n",
       "       True           2   \n",
       "All                  15   \n",
       "\n",
       "                       \n",
       "                score  \n",
       "team   qualify         \n",
       "Blue   False      9.0  \n",
       "       True      14.5  \n",
       "Gray   False      9.0  \n",
       "       True      20.0  \n",
       "Green  False      8.0  \n",
       "Orange True      16.5  \n",
       "Red    False      0.0  \n",
       "       True      31.5  \n",
       "All             108.5  "
      ]
     },
     "execution_count": 1340,
     "metadata": {},
     "output_type": "execute_result"
    },
    {
     "data": {
      "text/html": [
       "<div>\n",
       "<style scoped>\n",
       "    .dataframe tbody tr th:only-of-type {\n",
       "        vertical-align: middle;\n",
       "    }\n",
       "\n",
       "    .dataframe tbody tr th {\n",
       "        vertical-align: top;\n",
       "    }\n",
       "\n",
       "    .dataframe thead tr th {\n",
       "        text-align: left;\n",
       "    }\n",
       "\n",
       "    .dataframe thead tr:last-of-type th {\n",
       "        text-align: right;\n",
       "    }\n",
       "</style>\n",
       "<table border=\"1\" class=\"dataframe\">\n",
       "  <thead>\n",
       "    <tr>\n",
       "      <th></th>\n",
       "      <th colspan=\"6\" halign=\"left\">amin</th>\n",
       "      <th colspan=\"6\" halign=\"left\">mean</th>\n",
       "    </tr>\n",
       "    <tr>\n",
       "      <th></th>\n",
       "      <th colspan=\"3\" halign=\"left\">attempts</th>\n",
       "      <th colspan=\"3\" halign=\"left\">score</th>\n",
       "      <th colspan=\"3\" halign=\"left\">attempts</th>\n",
       "      <th colspan=\"3\" halign=\"left\">score</th>\n",
       "    </tr>\n",
       "    <tr>\n",
       "      <th>qualify</th>\n",
       "      <th>False</th>\n",
       "      <th>True</th>\n",
       "      <th>All</th>\n",
       "      <th>False</th>\n",
       "      <th>True</th>\n",
       "      <th>All</th>\n",
       "      <th>False</th>\n",
       "      <th>True</th>\n",
       "      <th>All</th>\n",
       "      <th>False</th>\n",
       "      <th>True</th>\n",
       "      <th>All</th>\n",
       "    </tr>\n",
       "    <tr>\n",
       "      <th>team</th>\n",
       "      <th></th>\n",
       "      <th></th>\n",
       "      <th></th>\n",
       "      <th></th>\n",
       "      <th></th>\n",
       "      <th></th>\n",
       "      <th></th>\n",
       "      <th></th>\n",
       "      <th></th>\n",
       "      <th></th>\n",
       "      <th></th>\n",
       "      <th></th>\n",
       "    </tr>\n",
       "  </thead>\n",
       "  <tbody>\n",
       "    <tr>\n",
       "      <th>Blue</th>\n",
       "      <td>3.0</td>\n",
       "      <td>1.0</td>\n",
       "      <td>1</td>\n",
       "      <td>9.0</td>\n",
       "      <td>14.5</td>\n",
       "      <td>9.0</td>\n",
       "      <td>3.0</td>\n",
       "      <td>1.0</td>\n",
       "      <td>2.0</td>\n",
       "      <td>9.0</td>\n",
       "      <td>14.50</td>\n",
       "      <td>11.75</td>\n",
       "    </tr>\n",
       "    <tr>\n",
       "      <th>Red</th>\n",
       "      <td>3.0</td>\n",
       "      <td>1.0</td>\n",
       "      <td>1</td>\n",
       "      <td>NaN</td>\n",
       "      <td>12.5</td>\n",
       "      <td>12.5</td>\n",
       "      <td>3.0</td>\n",
       "      <td>1.0</td>\n",
       "      <td>1.0</td>\n",
       "      <td>NaN</td>\n",
       "      <td>15.75</td>\n",
       "      <td>15.75</td>\n",
       "    </tr>\n",
       "  </tbody>\n",
       "</table>\n",
       "</div>"
      ],
      "text/plain": [
       "            amin           \\\n",
       "        attempts            \n",
       "qualify    False True All   \n",
       "team                        \n",
       "Blue         3.0  1.0   1   \n",
       "Red          3.0  1.0   1   \n",
       "\n",
       "                           \\\n",
       "        score               \n",
       "qualify False  True   All   \n",
       "team                        \n",
       "Blue      9.0  14.5   9.0   \n",
       "Red       NaN  12.5  12.5   \n",
       "\n",
       "            mean            \\\n",
       "        attempts             \n",
       "qualify    False True  All   \n",
       "team                         \n",
       "Blue         3.0  1.0  2.0   \n",
       "Red          3.0  1.0  1.0   \n",
       "\n",
       "                             \n",
       "        score                \n",
       "qualify False   True    All  \n",
       "team                         \n",
       "Blue      9.0  14.50  11.75  \n",
       "Red       NaN  15.75  15.75  "
      ]
     },
     "execution_count": 1340,
     "metadata": {},
     "output_type": "execute_result"
    }
   ],
   "source": [
    "### ======= pivot tables\n",
    "df4.groupby(['team'])['score'].apply(list)\n",
    "\n",
    "df4.pivot_table(index=['team', 'qualify'], \n",
    "                aggfunc=[np.mean, np.sum],\n",
    "                fill_value=0,\n",
    "               margins=True)\n",
    "\n",
    "df4.pivot_table(index=['team'], \n",
    "                columns=['qualify'], \n",
    "                values=['score', 'attempts'], \n",
    "                aggfunc=[np.min, np.mean] ,\n",
    "               margins=True).query(\"team == ['Red', 'Blue']\")"
   ]
  },
  {
   "cell_type": "code",
   "execution_count": 1371,
   "metadata": {},
   "outputs": [
    {
     "data": {
      "image/png": "[encoded data removed]",
      "text/plain": [
       "<Figure size 432x288 with 1 Axes>"
      ]
     },
     "metadata": {
      "needs_background": "light"
     },
     "output_type": "display_data"
    }
   ],
   "source": [
    "# list(df4.columns.values)\n",
    "df4.loc[:, 'name':'qualify'].query('qualify==False & attempts > 2')\n",
    "\n",
    "### ===== deal NAN ==========\n",
    "\n",
    "# df4.isna().any()\n",
    "# df4.isna().sum()\n",
    "df4.replace({\"?\": np.nan, \"--\": np.nan, 'N/A':np.nan}, inplace=True)\n",
    "\n",
    "# at least 2 use sum, all use mean\n",
    "# df4.drop( df4[df4.isna().mean(axis=1) > 1].index, axis=0)\n",
    "# df4.dropna() ## same as at least one with sum\n",
    "# df4.dropna(thresh=5) ## require that many non-NA values                                                                                                                                                                                                            \n",
    "# df4.dropna(how='all') ## same as all with mean\n",
    "# df4.dropna( subset=['score']) ## drop if a given col has na\n",
    "\n",
    "## --- fill:  some val, prev val (pad), next val (bfill), mean|median of the col\n",
    "# df4.score.fillna(0, inplace=False)\n",
    "# df4.score.fillna(method='bfill', inplace=False)\n",
    "# df4.score.fillna( df4.score.median(), inplace=False)\n",
    "## fill using linear interpolation method << curve fitting using linear polynomials\n",
    "# df4.score.interpolate(method='linear', direction='forward', inplace=False)\n",
    "# df4.mode().iloc[0]\n",
    "# df4.fillna( df4.mode().iloc[0] )\n",
    "# df4.score.value_counts(dropna=False).loc[np.nan]\n",
    "\n",
    "df4.score.isnull().to_numpy().nonzero()\n",
    "\n",
    "sns.heatmap( df4.isnull(), cbar=False, cmap='YlGnBu'); "
   ]
  },
  {
   "cell_type": "code",
   "execution_count": null,
   "metadata": {},
   "outputs": [],
   "source": []
  }
 ],
 "metadata": {
  "kernelspec": {
   "display_name": "Python 3",
   "language": "python",
   "name": "python3"
  },
  "language_info": {
   "codemirror_mode": {
    "name": "ipython",
    "version": 3
   },
   "file_extension": ".py",
   "mimetype": "text/x-python",
   "name": "python",
   "nbconvert_exporter": "python",
   "pygments_lexer": "ipython3",
   "version": "3.7.6"
  }
 },
 "nbformat": 4,
 "nbformat_minor": 4
}
