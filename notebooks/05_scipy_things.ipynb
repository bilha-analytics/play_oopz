{
 "cells": [
  {
   "cell_type": "raw",
   "metadata": {},
   "source": [
    "<script>\n",
    "code_show=true; \n",
    "function code_toggle() {\n",
    " if (code_show){\n",
    " $('div.input').hide();\n",
    " } else {\n",
    " $('div.input').show();\n",
    " }\n",
    " code_show = !code_show\n",
    "} \n",
    "$( document ).ready(code_toggle);\n",
    "</script>\n",
    "<a href=\"javascript:code_toggle()\">Show/Hide Code</a>."
   ]
  },
  {
   "cell_type": "code",
   "execution_count": 1,
   "metadata": {},
   "outputs": [],
   "source": [
    "import pandas as pd\n",
    "import numpy as np\n",
    "\n",
    "import seaborn as sns\n",
    "from matplotlib import pyplot as plt\n",
    "\n",
    "%matplotlib inline\n",
    "\n",
    "from IPython.core.interactiveshell import InteractiveShell\n",
    "InteractiveShell.ast_node_interactivity = \"all\""
   ]
  },
  {
   "cell_type": "code",
   "execution_count": 2,
   "metadata": {},
   "outputs": [],
   "source": [
    "from scipy import stats, linalg"
   ]
  },
  {
   "cell_type": "markdown",
   "metadata": {},
   "source": [
    "# Covid Data EDA"
   ]
  },
  {
   "cell_type": "code",
   "execution_count": 41,
   "metadata": {},
   "outputs": [],
   "source": [
    "src_url = \"https://raw.githubusercontent.com/CSSEGISandData/COVID-19/master/csse_covid_19_data/csse_covid_19_daily_reports/03-17-2020.csv\"\n",
    "\n",
    "pd.set_option('display.max_columns', 100)\n",
    "pd.set_option('display.max_rows', 300)"
   ]
  },
  {
   "cell_type": "code",
   "execution_count": 16,
   "metadata": {},
   "outputs": [],
   "source": [
    "df = pd.read_csv( src_url, index_col=False) #, parse_dates=True)"
   ]
  },
  {
   "cell_type": "code",
   "execution_count": 17,
   "metadata": {},
   "outputs": [
    {
     "data": {
      "text/html": [
       "<div>\n",
       "<style scoped>\n",
       "    .dataframe tbody tr th:only-of-type {\n",
       "        vertical-align: middle;\n",
       "    }\n",
       "\n",
       "    .dataframe tbody tr th {\n",
       "        vertical-align: top;\n",
       "    }\n",
       "\n",
       "    .dataframe thead th {\n",
       "        text-align: right;\n",
       "    }\n",
       "</style>\n",
       "<table border=\"1\" class=\"dataframe\">\n",
       "  <thead>\n",
       "    <tr style=\"text-align: right;\">\n",
       "      <th></th>\n",
       "      <th>Province/State</th>\n",
       "      <th>Country/Region</th>\n",
       "      <th>Last Update</th>\n",
       "      <th>Confirmed</th>\n",
       "      <th>Deaths</th>\n",
       "      <th>Recovered</th>\n",
       "      <th>Latitude</th>\n",
       "      <th>Longitude</th>\n",
       "    </tr>\n",
       "  </thead>\n",
       "  <tbody>\n",
       "    <tr>\n",
       "      <th>0</th>\n",
       "      <td>Hubei</td>\n",
       "      <td>China</td>\n",
       "      <td>2020-03-17T11:53:10</td>\n",
       "      <td>67799</td>\n",
       "      <td>3111</td>\n",
       "      <td>56003</td>\n",
       "      <td>30.9756</td>\n",
       "      <td>112.2707</td>\n",
       "    </tr>\n",
       "    <tr>\n",
       "      <th>1</th>\n",
       "      <td>NaN</td>\n",
       "      <td>Italy</td>\n",
       "      <td>2020-03-17T18:33:02</td>\n",
       "      <td>31506</td>\n",
       "      <td>2503</td>\n",
       "      <td>2941</td>\n",
       "      <td>41.8719</td>\n",
       "      <td>12.5674</td>\n",
       "    </tr>\n",
       "    <tr>\n",
       "      <th>2</th>\n",
       "      <td>NaN</td>\n",
       "      <td>Iran</td>\n",
       "      <td>2020-03-17T15:13:09</td>\n",
       "      <td>16169</td>\n",
       "      <td>988</td>\n",
       "      <td>5389</td>\n",
       "      <td>32.4279</td>\n",
       "      <td>53.6880</td>\n",
       "    </tr>\n",
       "    <tr>\n",
       "      <th>3</th>\n",
       "      <td>NaN</td>\n",
       "      <td>Spain</td>\n",
       "      <td>2020-03-17T20:53:02</td>\n",
       "      <td>11748</td>\n",
       "      <td>533</td>\n",
       "      <td>1028</td>\n",
       "      <td>40.4637</td>\n",
       "      <td>-3.7492</td>\n",
       "    </tr>\n",
       "    <tr>\n",
       "      <th>4</th>\n",
       "      <td>NaN</td>\n",
       "      <td>Germany</td>\n",
       "      <td>2020-03-17T18:53:02</td>\n",
       "      <td>9257</td>\n",
       "      <td>24</td>\n",
       "      <td>67</td>\n",
       "      <td>51.1657</td>\n",
       "      <td>10.4515</td>\n",
       "    </tr>\n",
       "  </tbody>\n",
       "</table>\n",
       "</div>"
      ],
      "text/plain": [
       "  Province/State Country/Region          Last Update  Confirmed  Deaths  \\\n",
       "0          Hubei          China  2020-03-17T11:53:10      67799    3111   \n",
       "1            NaN          Italy  2020-03-17T18:33:02      31506    2503   \n",
       "2            NaN           Iran  2020-03-17T15:13:09      16169     988   \n",
       "3            NaN          Spain  2020-03-17T20:53:02      11748     533   \n",
       "4            NaN        Germany  2020-03-17T18:53:02       9257      24   \n",
       "\n",
       "   Recovered  Latitude  Longitude  \n",
       "0      56003   30.9756   112.2707  \n",
       "1       2941   41.8719    12.5674  \n",
       "2       5389   32.4279    53.6880  \n",
       "3       1028   40.4637    -3.7492  \n",
       "4         67   51.1657    10.4515  "
      ]
     },
     "execution_count": 17,
     "metadata": {},
     "output_type": "execute_result"
    },
    {
     "name": "stdout",
     "output_type": "stream",
     "text": [
      "<class 'pandas.core.frame.DataFrame'>\n",
      "RangeIndex: 276 entries, 0 to 275\n",
      "Data columns (total 8 columns):\n",
      " #   Column          Non-Null Count  Dtype  \n",
      "---  ------          --------------  -----  \n",
      " 0   Province/State  126 non-null    object \n",
      " 1   Country/Region  276 non-null    object \n",
      " 2   Last Update     276 non-null    object \n",
      " 3   Confirmed       276 non-null    int64  \n",
      " 4   Deaths          276 non-null    int64  \n",
      " 5   Recovered       276 non-null    int64  \n",
      " 6   Latitude        276 non-null    float64\n",
      " 7   Longitude       276 non-null    float64\n",
      "dtypes: float64(2), int64(3), object(3)\n",
      "memory usage: 17.4+ KB\n"
     ]
    }
   ],
   "source": [
    "df.head()\n",
    "\n",
    "df.info()"
   ]
  },
  {
   "cell_type": "code",
   "execution_count": 18,
   "metadata": {},
   "outputs": [
    {
     "data": {
      "text/plain": [
       "Province/State    150\n",
       "Country/Region      0\n",
       "Last Update         0\n",
       "Confirmed           0\n",
       "Deaths              0\n",
       "Recovered           0\n",
       "Latitude            0\n",
       "Longitude           0\n",
       "dtype: int64"
      ]
     },
     "execution_count": 18,
     "metadata": {},
     "output_type": "execute_result"
    },
    {
     "data": {
      "text/plain": [
       "Text(0.5, 1, 'Null Values')"
      ]
     },
     "execution_count": 18,
     "metadata": {},
     "output_type": "execute_result"
    },
    {
     "data": {
      "image/png": "[encoded data removed]",
      "text/plain": [
       "<Figure size 432x288 with 1 Axes>"
      ]
     },
     "metadata": {
      "needs_background": "light"
     },
     "output_type": "display_data"
    }
   ],
   "source": [
    "df.isna().sum()\n",
    "\n",
    "sns.heatmap(df.isna(), cmap=\"YlGnBu\", cbar=False, ).\\\n",
    "    set_title( 'Null Values')"
   ]
  },
  {
   "cell_type": "code",
   "execution_count": 22,
   "metadata": {},
   "outputs": [],
   "source": [
    "df['Last Update'] = pd.to_datetime( df['Last Update'], errors='coerce', format='%Y-%m-%dT%H:%M:%S')\n"
   ]
  },
  {
   "cell_type": "code",
   "execution_count": 29,
   "metadata": {},
   "outputs": [],
   "source": [
    "df['Active'] = df['Confirmed'] - df['Recovered'] - df['Deaths']"
   ]
  },
  {
   "cell_type": "code",
   "execution_count": 117,
   "metadata": {},
   "outputs": [],
   "source": [
    "def tabulate_cases(\n",
    "    grpz = ['Country/Region' ],\n",
    "    varz = ['Confirmed', 'Deaths', 'Recovered', 'Active'],\n",
    "    country=None, \n",
    "    qfilter=None,\n",
    "    sorter=None\n",
    "    ):\n",
    "    \n",
    "#     t = df.pivot_table(index=grpz, \n",
    "#                        values=varz,\n",
    "#                       aggfunc=[np.sum],\n",
    "#                       margins=True)[-4:]\n",
    "#     t.columns = [ f\"{i}{j}\" for i,j in t.columns.tolist() ]\n",
    "#     t.sort_values(by=['sumConfirmed'], ascending=False)[:3]\n",
    "    \n",
    "    t = df.groupby( grpz )[varz].sum()\n",
    "    if country:\n",
    "        t = t.query(\"`Country/Region` == @country\" )\n",
    "    if qfilter:\n",
    "        t = t.query( qfilter )\n",
    "    if sorter:\n",
    "        t = t.sort_values(**sorter)\n",
    "    return t"
   ]
  },
  {
   "cell_type": "code",
   "execution_count": 118,
   "metadata": {
    "scrolled": false
   },
   "outputs": [
    {
     "data": {
      "text/html": [
       "<div>\n",
       "<style scoped>\n",
       "    .dataframe tbody tr th:only-of-type {\n",
       "        vertical-align: middle;\n",
       "    }\n",
       "\n",
       "    .dataframe tbody tr th {\n",
       "        vertical-align: top;\n",
       "    }\n",
       "\n",
       "    .dataframe thead th {\n",
       "        text-align: right;\n",
       "    }\n",
       "</style>\n",
       "<table border=\"1\" class=\"dataframe\">\n",
       "  <thead>\n",
       "    <tr style=\"text-align: right;\">\n",
       "      <th></th>\n",
       "      <th>Confirmed</th>\n",
       "      <th>Deaths</th>\n",
       "      <th>Recovered</th>\n",
       "      <th>Active</th>\n",
       "    </tr>\n",
       "    <tr>\n",
       "      <th>Country/Region</th>\n",
       "      <th></th>\n",
       "      <th></th>\n",
       "      <th></th>\n",
       "      <th></th>\n",
       "    </tr>\n",
       "  </thead>\n",
       "  <tbody>\n",
       "    <tr>\n",
       "      <th>Afghanistan</th>\n",
       "      <td>22</td>\n",
       "      <td>0</td>\n",
       "      <td>1</td>\n",
       "      <td>21</td>\n",
       "    </tr>\n",
       "    <tr>\n",
       "      <th>Albania</th>\n",
       "      <td>55</td>\n",
       "      <td>1</td>\n",
       "      <td>0</td>\n",
       "      <td>54</td>\n",
       "    </tr>\n",
       "    <tr>\n",
       "      <th>Algeria</th>\n",
       "      <td>60</td>\n",
       "      <td>4</td>\n",
       "      <td>12</td>\n",
       "      <td>44</td>\n",
       "    </tr>\n",
       "  </tbody>\n",
       "</table>\n",
       "</div>"
      ],
      "text/plain": [
       "                Confirmed  Deaths  Recovered  Active\n",
       "Country/Region                                      \n",
       "Afghanistan            22       0          1      21\n",
       "Albania                55       1          0      54\n",
       "Algeria                60       4         12      44"
      ]
     },
     "execution_count": 118,
     "metadata": {},
     "output_type": "execute_result"
    }
   ],
   "source": [
    "latest = df.groupby( grpz )['Last Update'].max().min()\n",
    "tabulate_cases()[:3]"
   ]
  },
  {
   "cell_type": "code",
   "execution_count": 119,
   "metadata": {
    "scrolled": false
   },
   "outputs": [
    {
     "data": {
      "text/html": [
       "<div>\n",
       "<style scoped>\n",
       "    .dataframe tbody tr th:only-of-type {\n",
       "        vertical-align: middle;\n",
       "    }\n",
       "\n",
       "    .dataframe tbody tr th {\n",
       "        vertical-align: top;\n",
       "    }\n",
       "\n",
       "    .dataframe thead th {\n",
       "        text-align: right;\n",
       "    }\n",
       "</style>\n",
       "<table border=\"1\" class=\"dataframe\">\n",
       "  <thead>\n",
       "    <tr style=\"text-align: right;\">\n",
       "      <th></th>\n",
       "      <th></th>\n",
       "      <th>Confirmed</th>\n",
       "      <th>Deaths</th>\n",
       "      <th>Recovered</th>\n",
       "      <th>Active</th>\n",
       "    </tr>\n",
       "    <tr>\n",
       "      <th>Country/Region</th>\n",
       "      <th>Province/State</th>\n",
       "      <th></th>\n",
       "      <th></th>\n",
       "      <th></th>\n",
       "      <th></th>\n",
       "    </tr>\n",
       "  </thead>\n",
       "  <tbody>\n",
       "    <tr>\n",
       "      <th rowspan=\"3\" valign=\"top\">China</th>\n",
       "      <th>Xinjiang</th>\n",
       "      <td>76</td>\n",
       "      <td>3</td>\n",
       "      <td>73</td>\n",
       "      <td>0</td>\n",
       "    </tr>\n",
       "    <tr>\n",
       "      <th>Yunnan</th>\n",
       "      <td>176</td>\n",
       "      <td>2</td>\n",
       "      <td>172</td>\n",
       "      <td>2</td>\n",
       "    </tr>\n",
       "    <tr>\n",
       "      <th>Zhejiang</th>\n",
       "      <td>1232</td>\n",
       "      <td>1</td>\n",
       "      <td>1216</td>\n",
       "      <td>15</td>\n",
       "    </tr>\n",
       "  </tbody>\n",
       "</table>\n",
       "</div>"
      ],
      "text/plain": [
       "                               Confirmed  Deaths  Recovered  Active\n",
       "Country/Region Province/State                                      \n",
       "China          Xinjiang               76       3         73       0\n",
       "               Yunnan                176       2        172       2\n",
       "               Zhejiang             1232       1       1216      15"
      ]
     },
     "execution_count": 119,
     "metadata": {},
     "output_type": "execute_result"
    }
   ],
   "source": [
    "grpz = ['Country/Region', 'Province/State' ]\n",
    "country='China'\n",
    "tabulate_cases( grpz=grpz, country=country)[-3:]"
   ]
  },
  {
   "cell_type": "code",
   "execution_count": 120,
   "metadata": {},
   "outputs": [
    {
     "data": {
      "text/html": [
       "<div>\n",
       "<style scoped>\n",
       "    .dataframe tbody tr th:only-of-type {\n",
       "        vertical-align: middle;\n",
       "    }\n",
       "\n",
       "    .dataframe tbody tr th {\n",
       "        vertical-align: top;\n",
       "    }\n",
       "\n",
       "    .dataframe thead th {\n",
       "        text-align: right;\n",
       "    }\n",
       "</style>\n",
       "<table border=\"1\" class=\"dataframe\">\n",
       "  <thead>\n",
       "    <tr style=\"text-align: right;\">\n",
       "      <th></th>\n",
       "      <th>Confirmed</th>\n",
       "      <th>Deaths</th>\n",
       "      <th>Recovered</th>\n",
       "      <th>Active</th>\n",
       "    </tr>\n",
       "    <tr>\n",
       "      <th>Country/Region</th>\n",
       "      <th></th>\n",
       "      <th></th>\n",
       "      <th></th>\n",
       "      <th></th>\n",
       "    </tr>\n",
       "  </thead>\n",
       "  <tbody>\n",
       "    <tr>\n",
       "      <th>China</th>\n",
       "      <td>81058</td>\n",
       "      <td>3230</td>\n",
       "      <td>68798</td>\n",
       "      <td>9030</td>\n",
       "    </tr>\n",
       "    <tr>\n",
       "      <th>Italy</th>\n",
       "      <td>31506</td>\n",
       "      <td>2503</td>\n",
       "      <td>2941</td>\n",
       "      <td>26062</td>\n",
       "    </tr>\n",
       "    <tr>\n",
       "      <th>Iran</th>\n",
       "      <td>16169</td>\n",
       "      <td>988</td>\n",
       "      <td>5389</td>\n",
       "      <td>9792</td>\n",
       "    </tr>\n",
       "    <tr>\n",
       "      <th>Spain</th>\n",
       "      <td>11748</td>\n",
       "      <td>533</td>\n",
       "      <td>1028</td>\n",
       "      <td>10187</td>\n",
       "    </tr>\n",
       "    <tr>\n",
       "      <th>France</th>\n",
       "      <td>7683</td>\n",
       "      <td>148</td>\n",
       "      <td>12</td>\n",
       "      <td>7523</td>\n",
       "    </tr>\n",
       "  </tbody>\n",
       "</table>\n",
       "</div>"
      ],
      "text/plain": [
       "                Confirmed  Deaths  Recovered  Active\n",
       "Country/Region                                      \n",
       "China               81058    3230      68798    9030\n",
       "Italy               31506    2503       2941   26062\n",
       "Iran                16169     988       5389    9792\n",
       "Spain               11748     533       1028   10187\n",
       "France               7683     148         12    7523"
      ]
     },
     "execution_count": 120,
     "metadata": {},
     "output_type": "execute_result"
    }
   ],
   "source": [
    "tabulate_cases(\n",
    "    qfilter = \"`Deaths` > 0\",\n",
    "    sorter = {'by':['Deaths'], 'ascending':False}\n",
    ")[:5]\n"
   ]
  },
  {
   "cell_type": "code",
   "execution_count": 121,
   "metadata": {},
   "outputs": [
    {
     "data": {
      "text/html": [
       "<div>\n",
       "<style scoped>\n",
       "    .dataframe tbody tr th:only-of-type {\n",
       "        vertical-align: middle;\n",
       "    }\n",
       "\n",
       "    .dataframe tbody tr th {\n",
       "        vertical-align: top;\n",
       "    }\n",
       "\n",
       "    .dataframe thead th {\n",
       "        text-align: right;\n",
       "    }\n",
       "</style>\n",
       "<table border=\"1\" class=\"dataframe\">\n",
       "  <thead>\n",
       "    <tr style=\"text-align: right;\">\n",
       "      <th></th>\n",
       "      <th>Confirmed</th>\n",
       "      <th>Deaths</th>\n",
       "      <th>Recovered</th>\n",
       "      <th>Active</th>\n",
       "    </tr>\n",
       "    <tr>\n",
       "      <th>Country/Region</th>\n",
       "      <th></th>\n",
       "      <th></th>\n",
       "      <th></th>\n",
       "      <th></th>\n",
       "    </tr>\n",
       "  </thead>\n",
       "  <tbody>\n",
       "    <tr>\n",
       "      <th>Slovenia</th>\n",
       "      <td>275</td>\n",
       "      <td>1</td>\n",
       "      <td>0</td>\n",
       "      <td>274</td>\n",
       "    </tr>\n",
       "    <tr>\n",
       "      <th>Iceland</th>\n",
       "      <td>220</td>\n",
       "      <td>1</td>\n",
       "      <td>0</td>\n",
       "      <td>219</td>\n",
       "    </tr>\n",
       "    <tr>\n",
       "      <th>Chile</th>\n",
       "      <td>201</td>\n",
       "      <td>0</td>\n",
       "      <td>0</td>\n",
       "      <td>201</td>\n",
       "    </tr>\n",
       "    <tr>\n",
       "      <th>Luxembourg</th>\n",
       "      <td>140</td>\n",
       "      <td>1</td>\n",
       "      <td>0</td>\n",
       "      <td>139</td>\n",
       "    </tr>\n",
       "    <tr>\n",
       "      <th>Slovakia</th>\n",
       "      <td>72</td>\n",
       "      <td>0</td>\n",
       "      <td>0</td>\n",
       "      <td>72</td>\n",
       "    </tr>\n",
       "  </tbody>\n",
       "</table>\n",
       "</div>"
      ],
      "text/plain": [
       "                Confirmed  Deaths  Recovered  Active\n",
       "Country/Region                                      \n",
       "Slovenia              275       1          0     274\n",
       "Iceland               220       1          0     219\n",
       "Chile                 201       0          0     201\n",
       "Luxembourg            140       1          0     139\n",
       "Slovakia               72       0          0      72"
      ]
     },
     "execution_count": 121,
     "metadata": {},
     "output_type": "execute_result"
    }
   ],
   "source": [
    "tabulate_cases(\n",
    "    qfilter= \"`Recovered` == 0\",\n",
    "    sorter = {'by':['Confirmed'], 'ascending':False}\n",
    ")[:5]"
   ]
  },
  {
   "cell_type": "code",
   "execution_count": 127,
   "metadata": {},
   "outputs": [
    {
     "name": "stdout",
     "output_type": "stream",
     "text": [
      "### 1. All Cases @ Dead\n"
     ]
    },
    {
     "data": {
      "text/html": [
       "<div>\n",
       "<style scoped>\n",
       "    .dataframe tbody tr th:only-of-type {\n",
       "        vertical-align: middle;\n",
       "    }\n",
       "\n",
       "    .dataframe tbody tr th {\n",
       "        vertical-align: top;\n",
       "    }\n",
       "\n",
       "    .dataframe thead th {\n",
       "        text-align: right;\n",
       "    }\n",
       "</style>\n",
       "<table border=\"1\" class=\"dataframe\">\n",
       "  <thead>\n",
       "    <tr style=\"text-align: right;\">\n",
       "      <th></th>\n",
       "      <th>Confirmed</th>\n",
       "      <th>Deaths</th>\n",
       "      <th>Recovered</th>\n",
       "      <th>Active</th>\n",
       "    </tr>\n",
       "    <tr>\n",
       "      <th>Country/Region</th>\n",
       "      <th></th>\n",
       "      <th></th>\n",
       "      <th></th>\n",
       "      <th></th>\n",
       "    </tr>\n",
       "  </thead>\n",
       "  <tbody>\n",
       "    <tr>\n",
       "      <th>Sudan</th>\n",
       "      <td>1</td>\n",
       "      <td>1</td>\n",
       "      <td>0</td>\n",
       "      <td>0</td>\n",
       "    </tr>\n",
       "  </tbody>\n",
       "</table>\n",
       "</div>"
      ],
      "text/plain": [
       "                Confirmed  Deaths  Recovered  Active\n",
       "Country/Region                                      \n",
       "Sudan                   1       1          0       0"
      ]
     },
     "execution_count": 127,
     "metadata": {},
     "output_type": "execute_result"
    },
    {
     "name": "stdout",
     "output_type": "stream",
     "text": [
      "\n",
      "\n",
      "### 2. All Cases @ Recovered\n"
     ]
    },
    {
     "data": {
      "text/html": [
       "<div>\n",
       "<style scoped>\n",
       "    .dataframe tbody tr th:only-of-type {\n",
       "        vertical-align: middle;\n",
       "    }\n",
       "\n",
       "    .dataframe tbody tr th {\n",
       "        vertical-align: top;\n",
       "    }\n",
       "\n",
       "    .dataframe thead th {\n",
       "        text-align: right;\n",
       "    }\n",
       "</style>\n",
       "<table border=\"1\" class=\"dataframe\">\n",
       "  <thead>\n",
       "    <tr style=\"text-align: right;\">\n",
       "      <th></th>\n",
       "      <th>Confirmed</th>\n",
       "      <th>Deaths</th>\n",
       "      <th>Recovered</th>\n",
       "      <th>Active</th>\n",
       "    </tr>\n",
       "    <tr>\n",
       "      <th>Country/Region</th>\n",
       "      <th></th>\n",
       "      <th></th>\n",
       "      <th></th>\n",
       "      <th></th>\n",
       "    </tr>\n",
       "  </thead>\n",
       "  <tbody>\n",
       "    <tr>\n",
       "      <th>Nepal</th>\n",
       "      <td>1</td>\n",
       "      <td>0</td>\n",
       "      <td>1</td>\n",
       "      <td>0</td>\n",
       "    </tr>\n",
       "  </tbody>\n",
       "</table>\n",
       "</div>"
      ],
      "text/plain": [
       "                Confirmed  Deaths  Recovered  Active\n",
       "Country/Region                                      \n",
       "Nepal                   1       0          1       0"
      ]
     },
     "execution_count": 127,
     "metadata": {},
     "output_type": "execute_result"
    }
   ],
   "source": [
    "print(\"### 1. All Cases @ Dead\")\n",
    "tabulate_cases(\n",
    "    qfilter= \"(`Deaths` == `Confirmed`) & (`Confirmed` > 0)\",\n",
    "    sorter = {'by':['Confirmed'], 'ascending':False}\n",
    ")\n",
    "\n",
    "print(\"\\n\\n### 2. All Cases @ Recovered\")\n",
    "tabulate_cases(\n",
    "    qfilter= \"(`Recovered` == `Confirmed`) & (`Confirmed` > 0)\",\n",
    "    sorter = {'by':['Confirmed'], 'ascending':False}\n",
    ")"
   ]
  },
  {
   "cell_type": "code",
   "execution_count": 133,
   "metadata": {
    "scrolled": false
   },
   "outputs": [
    {
     "name": "stdout",
     "output_type": "stream",
     "text": [
      "### Top 10 country data\n"
     ]
    },
    {
     "data": {
      "text/html": [
       "<div>\n",
       "<style scoped>\n",
       "    .dataframe tbody tr th:only-of-type {\n",
       "        vertical-align: middle;\n",
       "    }\n",
       "\n",
       "    .dataframe tbody tr th {\n",
       "        vertical-align: top;\n",
       "    }\n",
       "\n",
       "    .dataframe thead th {\n",
       "        text-align: right;\n",
       "    }\n",
       "</style>\n",
       "<table border=\"1\" class=\"dataframe\">\n",
       "  <thead>\n",
       "    <tr style=\"text-align: right;\">\n",
       "      <th></th>\n",
       "      <th></th>\n",
       "      <th>Confirmed</th>\n",
       "      <th>Deaths</th>\n",
       "      <th>Recovered</th>\n",
       "      <th>Active</th>\n",
       "    </tr>\n",
       "    <tr>\n",
       "      <th>Country/Region</th>\n",
       "      <th>Last Update</th>\n",
       "      <th></th>\n",
       "      <th></th>\n",
       "      <th></th>\n",
       "      <th></th>\n",
       "    </tr>\n",
       "  </thead>\n",
       "  <tbody>\n",
       "    <tr>\n",
       "      <th>China</th>\n",
       "      <th>2020-03-17 11:53:10</th>\n",
       "      <td>67799</td>\n",
       "      <td>3111</td>\n",
       "      <td>56003</td>\n",
       "      <td>8685</td>\n",
       "    </tr>\n",
       "    <tr>\n",
       "      <th>Italy</th>\n",
       "      <th>2020-03-17 18:33:02</th>\n",
       "      <td>31506</td>\n",
       "      <td>2503</td>\n",
       "      <td>2941</td>\n",
       "      <td>26062</td>\n",
       "    </tr>\n",
       "    <tr>\n",
       "      <th>Iran</th>\n",
       "      <th>2020-03-17 15:13:09</th>\n",
       "      <td>16169</td>\n",
       "      <td>988</td>\n",
       "      <td>5389</td>\n",
       "      <td>9792</td>\n",
       "    </tr>\n",
       "    <tr>\n",
       "      <th>Spain</th>\n",
       "      <th>2020-03-17 20:53:02</th>\n",
       "      <td>11748</td>\n",
       "      <td>533</td>\n",
       "      <td>1028</td>\n",
       "      <td>10187</td>\n",
       "    </tr>\n",
       "    <tr>\n",
       "      <th>Germany</th>\n",
       "      <th>2020-03-17 18:53:02</th>\n",
       "      <td>9257</td>\n",
       "      <td>24</td>\n",
       "      <td>67</td>\n",
       "      <td>9166</td>\n",
       "    </tr>\n",
       "    <tr>\n",
       "      <th>Korea, South</th>\n",
       "      <th>2020-03-17 10:33:03</th>\n",
       "      <td>8320</td>\n",
       "      <td>81</td>\n",
       "      <td>1407</td>\n",
       "      <td>6832</td>\n",
       "    </tr>\n",
       "    <tr>\n",
       "      <th>France</th>\n",
       "      <th>2020-03-17 19:13:08</th>\n",
       "      <td>7652</td>\n",
       "      <td>148</td>\n",
       "      <td>12</td>\n",
       "      <td>7492</td>\n",
       "    </tr>\n",
       "    <tr>\n",
       "      <th>US</th>\n",
       "      <th>2020-03-17 22:53:03</th>\n",
       "      <td>2921</td>\n",
       "      <td>32</td>\n",
       "      <td>8</td>\n",
       "      <td>2881</td>\n",
       "    </tr>\n",
       "    <tr>\n",
       "      <th>Switzerland</th>\n",
       "      <th>2020-03-17 16:33:04</th>\n",
       "      <td>2700</td>\n",
       "      <td>27</td>\n",
       "      <td>4</td>\n",
       "      <td>2669</td>\n",
       "    </tr>\n",
       "    <tr>\n",
       "      <th>United Kingdom</th>\n",
       "      <th>2020-03-17 15:13:09</th>\n",
       "      <td>1950</td>\n",
       "      <td>55</td>\n",
       "      <td>52</td>\n",
       "      <td>1843</td>\n",
       "    </tr>\n",
       "  </tbody>\n",
       "</table>\n",
       "</div>"
      ],
      "text/plain": [
       "                                    Confirmed  Deaths  Recovered  Active\n",
       "Country/Region Last Update                                              \n",
       "China          2020-03-17 11:53:10      67799    3111      56003    8685\n",
       "Italy          2020-03-17 18:33:02      31506    2503       2941   26062\n",
       "Iran           2020-03-17 15:13:09      16169     988       5389    9792\n",
       "Spain          2020-03-17 20:53:02      11748     533       1028   10187\n",
       "Germany        2020-03-17 18:53:02       9257      24         67    9166\n",
       "Korea, South   2020-03-17 10:33:03       8320      81       1407    6832\n",
       "France         2020-03-17 19:13:08       7652     148         12    7492\n",
       "US             2020-03-17 22:53:03       2921      32          8    2881\n",
       "Switzerland    2020-03-17 16:33:04       2700      27          4    2669\n",
       "United Kingdom 2020-03-17 15:13:09       1950      55         52    1843"
      ]
     },
     "execution_count": 133,
     "metadata": {},
     "output_type": "execute_result"
    }
   ],
   "source": [
    "print(\"### Top 10 country data\")\n",
    "grpz = ['Country/Region', 'Last Update' ]\n",
    "tabulate_cases(\n",
    "    grpz = grpz,\n",
    "    sorter = {'by':['Confirmed'], 'ascending':False}\n",
    ")[:10]"
   ]
  },
  {
   "cell_type": "code",
   "execution_count": 166,
   "metadata": {},
   "outputs": [
    {
     "name": "stdout",
     "output_type": "stream",
     "text": [
      "### Where deaths > 150\n"
     ]
    },
    {
     "data": {
      "text/plain": [
       "Text(0.5, 1.0, 'Cases of countries with more than 150 deaths')"
      ]
     },
     "execution_count": 166,
     "metadata": {},
     "output_type": "execute_result"
    },
    {
     "data": {
      "image/png": "[encoded data removed]",
      "text/plain": [
       "<Figure size 432x288 with 1 Axes>"
      ]
     },
     "metadata": {
      "needs_background": "light"
     },
     "output_type": "display_data"
    }
   ],
   "source": [
    "print(\"### Where deaths > 150\")\n",
    "tb = tabulate_cases(\n",
    "    qfilter= \"(`Deaths` > 150)\",\n",
    "    sorter = {'by':['Confirmed'], 'ascending':False}\n",
    ").reset_index()\n",
    "\n",
    "tb = pd.melt(tb, \n",
    "             id_vars=['Country/Region'],\n",
    "#              value_vars=['Confirmed':'Active'],\n",
    "             var_name='Mode',\n",
    "             value_name='Cases')\n",
    "\n",
    "sns.barplot(x='Country/Region', y='Cases', hue='Mode', \n",
    "#             dodge=True, \n",
    "            data=tb)\\\n",
    "    .set_title('Cases of countries with more than 150 deaths')\n",
    "sns.despine(left=True, bottom=True)"
   ]
  },
  {
   "cell_type": "code",
   "execution_count": 179,
   "metadata": {
    "scrolled": false
   },
   "outputs": [
    {
     "data": {
      "text/plain": [
       "Text(0.5, 1.0, 'Cases of top 5 states in the US @ Deaths')"
      ]
     },
     "execution_count": 179,
     "metadata": {},
     "output_type": "execute_result"
    },
    {
     "data": {
      "image/png": "[encoded data removed]",
      "text/plain": [
       "<Figure size 432x288 with 1 Axes>"
      ]
     },
     "metadata": {
      "needs_background": "light"
     },
     "output_type": "display_data"
    }
   ],
   "source": [
    "grpz = ['Country/Region', 'Province/State' ]\n",
    "tb = tabulate_cases(    \n",
    "    grpz=grpz,\n",
    "    qfilter= \"(`Country/Region` == 'US')\",\n",
    "    sorter = {'by':['Deaths'], 'ascending':False}\n",
    ").reset_index()\n",
    "\n",
    "i = 5 \n",
    "tb = pd.melt(tb[:i], \n",
    "             id_vars=grpz,\n",
    "#              value_vars=['Confirmed':'Active'],\n",
    "             var_name='Mode',\n",
    "             value_name='Cases')\n",
    "\n",
    "sns.barplot(y='Province/State', x='Cases', hue='Mode', \n",
    "#             dodge=True, \n",
    "            data=tb)\\\n",
    "    .set_title(f'Cases of top {i} states in the US @ Deaths')\n",
    "sns.despine(left=True, bottom=True)"
   ]
  },
  {
   "cell_type": "code",
   "execution_count": 192,
   "metadata": {},
   "outputs": [
    {
     "data": {
      "image/png": "[encoded data removed]",
      "text/plain": [
       "<Figure size 432x288 with 1 Axes>"
      ]
     },
     "metadata": {
      "needs_background": "light"
     },
     "output_type": "display_data"
    }
   ],
   "source": [
    "grpz = ['Last Update' ]\n",
    "tb = tabulate_cases(    \n",
    "    grpz=grpz\n",
    ").reset_index()\n",
    "\n",
    "tb = tb.sort_values(by='Last Update')\n",
    "tb['cum_confirmed'] =tb['Confirmed'].cumsum()\n",
    "\n",
    "sns.lineplot(x='Last Update', y='cum_confirmed', data=tb, label='Cummulative')\n",
    "\n",
    "sns.lineplot(x='Last Update', y='Confirmed', data=tb, label='Daily')\n",
    "plt.title = 'Global Confirmed Cases'\n",
    "plt.show(); "
   ]
  },
  {
   "cell_type": "markdown",
   "metadata": {},
   "source": [
    "# Scipy Stats"
   ]
  },
  {
   "cell_type": "code",
   "execution_count": 234,
   "metadata": {},
   "outputs": [
    {
     "name": "stdout",
     "output_type": "stream",
     "text": [
      "### Top 10 country data\n",
      "<class 'pandas.core.frame.DataFrame'>\n",
      "Int64Index: 27 entries, 0 to 141\n",
      "Data columns (total 9 columns):\n",
      " #   Column          Non-Null Count  Dtype         \n",
      "---  ------          --------------  -----         \n",
      " 0   Country/Region  27 non-null     object        \n",
      " 1   Last Update     27 non-null     datetime64[ns]\n",
      " 2   Confirmed       27 non-null     int64         \n",
      " 3   Deaths          27 non-null     int64         \n",
      " 4   Recovered       27 non-null     int64         \n",
      " 5   Active          27 non-null     int64         \n",
      " 6   tmp_date        27 non-null     int64         \n",
      " 7   tmp_logcases    27 non-null     float64       \n",
      " 8   tmp_grp         27 non-null     object        \n",
      "dtypes: datetime64[ns](1), float64(1), int64(5), object(2)\n",
      "memory usage: 2.1+ KB\n"
     ]
    },
    {
     "data": {
      "image/png": "[encoded data removed]",
      "text/plain": [
       "<Figure size 432x288 with 2 Axes>"
      ]
     },
     "metadata": {
      "needs_background": "light"
     },
     "output_type": "display_data"
    }
   ],
   "source": [
    "print(\"### Top 10 country data\")\n",
    "grpz = ['Country/Region', 'Last Update' ]\n",
    "tb = tabulate_cases(\n",
    "    grpz = grpz,\n",
    "    sorter = {'by':['Confirmed'], 'ascending':False}\n",
    ").reset_index()\n",
    "\n",
    "countriez = list(tb[:5]['Country/Region'].values)\n",
    "countriez\n",
    "\n",
    "tb = tb.query(\"`Country/Region` == @countriez\")\n",
    "\n",
    "tb['tmp_date'] = tb['Last Update'].dt.dayofyear\n",
    "tb['tmp_logcases'] = tb['Confirmed'].apply(np.log)\n",
    "tb['tmp_grp'] = np.where( tb['tmp_date'] > 76, 'blowup', 'lowup')\n",
    "tb['tmp_grp'].value_counts()\n",
    "\n",
    "tb.head()\n",
    "\n",
    "tb.info()\n",
    "\n",
    "plt.subplot(1,2,1)\n",
    "sns.scatterplot(x='tmp_date', y='tmp_logcases', hue='Country/Region', data=tb)\n",
    "plt.subplot(1,2,2)\n",
    "sns.violinplot(x='tmp_grp', y='tmp_logcases', hue='tmp_grp', data=tb)\n",
    "plt.show();"
   ]
  },
  {
   "cell_type": "markdown",
   "metadata": {},
   "source": [
    "### 1. Normality test, Distributions and t-test sample differences"
   ]
  },
  {
   "cell_type": "code",
   "execution_count": 259,
   "metadata": {},
   "outputs": [
    {
     "data": {
      "text/plain": [
       "(0.9622913599014282, 0.7035103440284729)"
      ]
     },
     "execution_count": 259,
     "metadata": {},
     "output_type": "execute_result"
    },
    {
     "data": {
      "text/plain": [
       "(0.9470221996307373, 0.6061739921569824)"
      ]
     },
     "execution_count": 259,
     "metadata": {},
     "output_type": "execute_result"
    },
    {
     "data": {
      "text/plain": [
       "Ks_2sampResult(statistic=0.3125, pvalue=0.45206032108710814)"
      ]
     },
     "execution_count": 259,
     "metadata": {},
     "output_type": "execute_result"
    }
   ],
   "source": [
    "## 1. Normality test \n",
    "stats.shapiro( tb[ tb['tmp_grp'] == 'blowup']['tmp_logcases'] )\n",
    "stats.shapiro( tb[ tb['tmp_grp'] == 'lowup']['tmp_logcases'] )\n",
    "\n",
    "# stats.normaltest( tb[ tb['tmp_grp'] == 'lowup']['tmp_logcases'] )\n",
    "\n",
    "stats.ks_2samp(tb[ tb['tmp_grp'] == 'blowup']['tmp_logcases'] ,\n",
    "               tb[ tb['tmp_grp'] == 'lowup']['tmp_logcases'] )"
   ]
  },
  {
   "cell_type": "markdown",
   "metadata": {},
   "source": [
    "By Shapiro-Wilk normality test, the two samples can be said to be normally distributed; p-values are high and we fail to reject null (p-value=0.703 and 0.606 resp)\n",
    "\n",
    "By KS, the two samples are from the same distribution (p-value = 0.452)\n",
    "\n",
    "TODO: small sample size issue\n",
    "- From docs: \n",
    "`Shapiro-Wilk: The chance of rejecting the null hypothesis when it is true is close to 5%\n",
    "regardless of sample size.`"
   ]
  },
  {
   "cell_type": "code",
   "execution_count": 236,
   "metadata": {},
   "outputs": [
    {
     "data": {
      "text/plain": [
       "Ttest_indResult(statistic=1.1996811580044784, pvalue=0.24150965183903988)"
      ]
     },
     "execution_count": 236,
     "metadata": {},
     "output_type": "execute_result"
    }
   ],
   "source": [
    "## 2. Ho test two sample - Are the statistically different\n",
    "stats.ttest_ind( tb[ tb['tmp_grp'] == 'blowup']['tmp_logcases'],\n",
    "                 tb[ tb['tmp_grp'] == 'lowup']['tmp_logcases']\n",
    "               )"
   ]
  },
  {
   "cell_type": "markdown",
   "metadata": {},
   "source": [
    "p-value = 0.24\n",
    "The two samples are not statistically different"
   ]
  },
  {
   "cell_type": "code",
   "execution_count": 240,
   "metadata": {},
   "outputs": [
    {
     "data": {
      "text/plain": [
       "LinregressResult(slope=0.884041418436383, intercept=6.1927785083344595, rvalue=0.2333143207360774, pvalue=0.24150965183903988, stderr=0.7368969767824615)"
      ]
     },
     "execution_count": 240,
     "metadata": {},
     "output_type": "execute_result"
    }
   ],
   "source": [
    "## 3. regressing logcases ~ group === t.test \n",
    "# lets compare\n",
    "tb['tmp_grp_i'] = np.where( tb['tmp_grp'] == 'blowup', 1, 0 )\n",
    "\n",
    "stats.linregress( tb['tmp_grp_i'], tb['tmp_logcases'] )"
   ]
  },
  {
   "cell_type": "markdown",
   "metadata": {},
   "source": [
    "- Regressing var ~ grouping is equivalent to doing a t-test for var against the groupings.\n",
    "groupings are coded int. The y intercept is the mean of group = 0 and the x coefficients are the increments on that group from group = 0\n",
    "\n",
    "- As can see from above, p = 0.2415. So the groups are not different. \n",
    "\n",
    "- In this case we have two groups. The mean for group==0 is 6.19 and that of group = 1 is (6.19 + 0.88 = 7.07)"
   ]
  },
  {
   "cell_type": "code",
   "execution_count": 239,
   "metadata": {},
   "outputs": [
    {
     "data": {
      "text/html": [
       "<div>\n",
       "<style scoped>\n",
       "    .dataframe tbody tr th:only-of-type {\n",
       "        vertical-align: middle;\n",
       "    }\n",
       "\n",
       "    .dataframe tbody tr th {\n",
       "        vertical-align: top;\n",
       "    }\n",
       "\n",
       "    .dataframe thead th {\n",
       "        text-align: right;\n",
       "    }\n",
       "</style>\n",
       "<table border=\"1\" class=\"dataframe\">\n",
       "  <thead>\n",
       "    <tr style=\"text-align: right;\">\n",
       "      <th></th>\n",
       "      <th>count</th>\n",
       "      <th>mean</th>\n",
       "      <th>std</th>\n",
       "      <th>min</th>\n",
       "      <th>25%</th>\n",
       "      <th>50%</th>\n",
       "      <th>75%</th>\n",
       "      <th>max</th>\n",
       "    </tr>\n",
       "    <tr>\n",
       "      <th>tmp_grp</th>\n",
       "      <th></th>\n",
       "      <th></th>\n",
       "      <th></th>\n",
       "      <th></th>\n",
       "      <th></th>\n",
       "      <th></th>\n",
       "      <th></th>\n",
       "      <th></th>\n",
       "    </tr>\n",
       "  </thead>\n",
       "  <tbody>\n",
       "    <tr>\n",
       "      <th>blowup</th>\n",
       "      <td>16.0</td>\n",
       "      <td>7.076820</td>\n",
       "      <td>2.325237</td>\n",
       "      <td>2.484907</td>\n",
       "      <td>5.682299</td>\n",
       "      <td>6.737796</td>\n",
       "      <td>9.192711</td>\n",
       "      <td>11.124303</td>\n",
       "    </tr>\n",
       "    <tr>\n",
       "      <th>lowup</th>\n",
       "      <td>11.0</td>\n",
       "      <td>6.192779</td>\n",
       "      <td>0.859697</td>\n",
       "      <td>4.532599</td>\n",
       "      <td>5.678381</td>\n",
       "      <td>6.356108</td>\n",
       "      <td>6.883071</td>\n",
       "      <td>7.230563</td>\n",
       "    </tr>\n",
       "  </tbody>\n",
       "</table>\n",
       "</div>"
      ],
      "text/plain": [
       "         count      mean       std       min       25%       50%       75%  \\\n",
       "tmp_grp                                                                      \n",
       "blowup    16.0  7.076820  2.325237  2.484907  5.682299  6.737796  9.192711   \n",
       "lowup     11.0  6.192779  0.859697  4.532599  5.678381  6.356108  6.883071   \n",
       "\n",
       "               max  \n",
       "tmp_grp             \n",
       "blowup   11.124303  \n",
       "lowup     7.230563  "
      ]
     },
     "execution_count": 239,
     "metadata": {},
     "output_type": "execute_result"
    }
   ],
   "source": [
    "tb.groupby(['tmp_grp'])['tmp_logcases'].describe()"
   ]
  },
  {
   "cell_type": "markdown",
   "metadata": {},
   "source": [
    "As expected, the means match the regression results above"
   ]
  },
  {
   "cell_type": "code",
   "execution_count": 271,
   "metadata": {},
   "outputs": [
    {
     "data": {
      "text/plain": [
       "(0.2333143207360774, 0.24150965183903958)"
      ]
     },
     "execution_count": 271,
     "metadata": {},
     "output_type": "execute_result"
    },
    {
     "data": {
      "text/plain": [
       "SpearmanrResult(correlation=0.17419717375622187, pvalue=0.38484935097198714)"
      ]
     },
     "execution_count": 271,
     "metadata": {},
     "output_type": "execute_result"
    },
    {
     "name": "stdout",
     "output_type": "stream",
     "text": [
      "Anova @ grp\n"
     ]
    },
    {
     "data": {
      "text/plain": [
       "F_onewayResult(statistic=1.4392348808709674, pvalue=0.24150965183903972)"
      ]
     },
     "execution_count": 271,
     "metadata": {},
     "output_type": "execute_result"
    },
    {
     "name": "stdout",
     "output_type": "stream",
     "text": [
      "Anova @ country\n"
     ]
    },
    {
     "data": {
      "text/plain": [
       "F_onewayResult(statistic=4.855798053004624, pvalue=0.009671311350363171)"
      ]
     },
     "execution_count": 271,
     "metadata": {},
     "output_type": "execute_result"
    }
   ],
   "source": [
    "## 4. Correlations\n",
    "## i. R2\n",
    "stats.pearsonr(  tb['tmp_logcases'] , tb['tmp_grp_i'] )\n",
    "\n",
    "## ii. using spearman R2\n",
    "stats.spearmanr(  tb['tmp_logcases'] , tb['tmp_grp_i'] )\n",
    "\n",
    "## iii. Anova\n",
    "print(\"Anova @ grp\")\n",
    "stats.f_oneway(tb[ tb['tmp_grp'] == 'blowup']['tmp_logcases'],\n",
    "                    tb[ tb['tmp_grp'] == 'lowup']['tmp_logcases'])\n",
    "\n",
    "print(\"Anova @ country\")\n",
    "stats.f_oneway(tb[ tb['Country/Region'] == 'China']['tmp_logcases'],\n",
    "                    tb[ tb['Country/Region'] == 'Italy']['tmp_logcases'],\n",
    "                    tb[ tb['Country/Region'] == 'Iran']['tmp_logcases'],\n",
    "                    tb[ tb['Country/Region'] == 'Spain']['tmp_logcases'])"
   ]
  },
  {
   "cell_type": "markdown",
   "metadata": {},
   "source": [
    "### 2. Models\n"
   ]
  },
  {
   "cell_type": "code",
   "execution_count": 270,
   "metadata": {},
   "outputs": [
    {
     "data": {
      "text/plain": [
       "LinregressResult(slope=290.7684740972841, intercept=-1683.43594204793, rvalue=0.7204603066966841, pvalue=2.255518050130394e-05, stderr=55.977219865257176)"
      ]
     },
     "execution_count": 270,
     "metadata": {},
     "output_type": "execute_result"
    },
    {
     "name": "stdout",
     "output_type": "stream",
     "text": [
      "Predicted Deaths based on number of cases \n",
      "# Cases 30000 \t predicted deaths: 1314.0824926287482\n",
      "# Cases 40000 \t predicted deaths: 1397.7313698606968\n",
      "# Cases 50000 \t predicted deaths: 1462.6144797809789\n",
      "# Cases 60000 \t predicted deaths: 1515.6278406449983\n",
      "# Cases 70000 \t predicted deaths: 1560.449998599429\n",
      "# Cases 80000 \t predicted deaths: 1599.2767178769468\n",
      "# Cases 90000 \t predicted deaths: 1633.5243114292994\n",
      "# Cases 100000 \t predicted deaths: 1664.159827797229\n"
     ]
    }
   ],
   "source": [
    "md = stats.linregress(tb['tmp_logcases'], tb['Deaths'])\n",
    "md\n",
    "\n",
    "print(\"Predicted Deaths based on number of cases \")\n",
    "for c in np.arange(30000, 110000, step=10000):\n",
    "    xi = np.log( c )\n",
    "    yi = md.intercept + (md.slope * xi)\n",
    "    print(f\"# Cases {c} \\t predicted deaths: {yi}\")\n"
   ]
  },
  {
   "cell_type": "code",
   "execution_count": null,
   "metadata": {},
   "outputs": [],
   "source": []
  }
 ],
 "metadata": {
  "kernelspec": {
   "display_name": "Python 3",
   "language": "python",
   "name": "python3"
  },
  "language_info": {
   "codemirror_mode": {
    "name": "ipython",
    "version": 3
   },
   "file_extension": ".py",
   "mimetype": "text/x-python",
   "name": "python",
   "nbconvert_exporter": "python",
   "pygments_lexer": "ipython3",
   "version": "3.7.6"
  }
 },
 "nbformat": 4,
 "nbformat_minor": 4
}
