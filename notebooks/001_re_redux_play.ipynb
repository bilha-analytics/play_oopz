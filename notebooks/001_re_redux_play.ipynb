{
 "cells": [
  {
   "cell_type": "raw",
   "metadata": {},
   "source": [
    "<script>\n",
    "code_show=true; \n",
    "function code_toggle() {\n",
    " if (code_show){\n",
    " $('div.input').hide();\n",
    " } else {\n",
    " $('div.input').show();\n",
    " }\n",
    " code_show = !code_show\n",
    "} \n",
    "$( document ).ready(code_toggle);\n",
    "</script>\n",
    "<a href=\"javascript:code_toggle()\">Show/Hide Code</a>."
   ]
  },
  {
   "cell_type": "markdown",
   "metadata": {},
   "source": [
    "# Intro\n",
    "Playing with things that become obvious with time that I don't think much about then and I've probably hidden them in some helper/util function/class somewhere such that I don't directly use it often.\n"
   ]
  },
  {
   "cell_type": "code",
   "execution_count": 1,
   "metadata": {},
   "outputs": [],
   "source": [
    "import warnings\n",
    "warnings.filterwarnings('ignore')"
   ]
  },
  {
   "cell_type": "code",
   "execution_count": 2,
   "metadata": {},
   "outputs": [],
   "source": [
    "import pandas as pd\n",
    "import numpy as np\n",
    "from matplotlib import pyplot as plt\n",
    "import seaborn as sns\n",
    "\n",
    "%matplotlib inline \n",
    "\n",
    "import random"
   ]
  },
  {
   "cell_type": "code",
   "execution_count": 3,
   "metadata": {},
   "outputs": [],
   "source": [
    "import requests\n",
    "from bs4 import BeautifulSoup as BSoup\n",
    "from newspaper import Article \n",
    "\n",
    "class HtmlPageLoader(object):\n",
    "    \n",
    "    @staticmethod\n",
    "    def getPageHtml(url):\n",
    "        header = {'User-Agent': 'Mozilla/5.0 (Macintosh; Intel Mac OS X 10_11_5) AppleWebKit/537.36 (KHTML, like Gecko) Chrome/50.0.2661.102 Safari/537.36'}\n",
    "        return requests.get(url, headers=header ).content.decode() \n",
    "    \n",
    "    @staticmethod\n",
    "    def getPageArticle(url):\n",
    "        art = Article(url)\n",
    "        art.download()\n",
    "        art.parse()\n",
    "        return art #.text\n",
    "    \n",
    "    @staticmethod\n",
    "    def getPageTable(url, tbl_id=None):\n",
    "        html = HtmlPageLoader.getPageHtml(url) \n",
    "        if tbl_id:\n",
    "            html = BSoup(html, 'html-parser')\n",
    "            html = BSoupt.find_all(id=tbl_id )\n",
    "            \n",
    "        dfs = pd.read_html( html ) \n",
    "        \n",
    "        return dfs"
   ]
  },
  {
   "cell_type": "markdown",
   "metadata": {},
   "source": [
    "# 1. Text Processing"
   ]
  },
  {
   "cell_type": "code",
   "execution_count": 4,
   "metadata": {},
   "outputs": [],
   "source": [
    "from nltk import tokenize, FreqDist\n",
    "from nltk.stem import WordNetLemmatizer\n",
    "import string, re\n",
    "\n",
    "class MyCorpora(object):        \n",
    "        \n",
    "    def __init__(self, lemmatize=False, remove_numbers=False, stop_words='english'):\n",
    "        self.lemmatize=lemmatize\n",
    "        self.remove_numbers = remove_numbers\n",
    "        self.stop_words = stop_words\n",
    "        \n",
    "    ###--- OPTS: TODO: regex \n",
    "    ## 1. remove puncts in all    TODO: keep - and _ iff join words\n",
    "    ## 2. remove numbers \n",
    "    def clean_nonwords(self, input_txt):\n",
    "        res = [ w for w in input_txt if w not in string.punctuation]\n",
    "        if self.remove_numbers:\n",
    "            res = [w for w in input_txt if w.isalpha() ] \n",
    "        return res\n",
    "    \n",
    "    @property\n",
    "    def sentences(self):\n",
    "        return tokenize.sent_tokenize( self.text )\n",
    "    @property\n",
    "    def words(self):\n",
    "        return [w.lower().strip() for w in self.clean_nonwords( tokenize.word_tokenize( self.text ) )]\n",
    "    @property \n",
    "    def vocab( self ):\n",
    "        return sorted( set(self.words ) ) \n",
    "    @property\n",
    "    def lexical_diversity(self):\n",
    "        return len( self.vocab) / len(self.words )    \n",
    "    @property    \n",
    "    def freq_dist(self):\n",
    "        return FreqDist( self.words )\n",
    "    \n",
    "    def top_n_words(self, top_n=None):\n",
    "        return FreqDist( self.words ).most_common(top_n)\n",
    "    \n",
    "    def long_words(self, min_len=7, sort_by_freq=False):\n",
    "        fdist = FreqDist(self.words )\n",
    "        return [ (w, fdist[w]) for w in self.vocab if len(w) >= min_len ]\n",
    "    \n",
    "    def common_words(self, min_freq=30):        \n",
    "        fdist = FreqDist(self.words )\n",
    "        return [ (w, fdist[w]) for w in self.vocab if fdist[w] >= min_freq ]\n",
    "    \n",
    "    def sentences_with_word(self, word ):\n",
    "        pass \n",
    "        \n",
    "        \n",
    "        \n",
    "class UrlMixin():\n",
    "    def __init__(self, url):\n",
    "        self.url = url\n",
    "        self.parseText( )\n",
    "        super().__init__(self)\n",
    "    \n",
    "    def parseText(self):\n",
    "        pass \n",
    "            \n",
    "\n",
    "\n",
    "class MyCorporaText(MyCorpora):    \n",
    "    def __init__(self, plain_text ):\n",
    "        super(MyCorporaText, self).__init__()\n",
    "        self.text = plain_text\n",
    "        self.url = 'txt'    \n",
    "\n",
    "        \n",
    "        \n",
    "class MyCorporaArticle(UrlMixin, MyCorpora ):    \n",
    "    def __init__(self, src_text):\n",
    "        super(MyCorporaArticle, self).__init__(src_text)\n",
    "        \n",
    "    def parseText(self):\n",
    "        self.article = HtmlPageLoader.getPageArticle(self.url)\n",
    "        self.text = self.article.text \n",
    "\n",
    "        \n",
    "        \n",
    "class MyCorporaTable(UrlMixin, MyCorpora):    \n",
    "    def __init__(self, src_text, tbl_id=None, txt_col=None):\n",
    "        self.tbl_id = tbl_id\n",
    "        self.txt_col = txt_col\n",
    "        super(MyCorporaTable, self).__init__(src_text )       \n",
    "        \n",
    "    def parseText(self):        \n",
    "        self.dframe = pd.concat( HtmlPageLoader.getPageTable(self.url, tbl_id=self.tbl_id ) ) ##concat Vs use first tbl\n",
    "        \n",
    "        docs =  self.dframe[self.txt_col].values.tolist() if self.txt_col else  self.dframe.values.tolist()\n",
    "        \n",
    "        self.text = \"\\n\".join( [ \" \".join([str(w) for w in l if str(w).lower() not in ['nan',]]) for l in docs ] ) ##TODO better\n",
    "        self.text = re.sub(\"[ \\[\\], ]\", \" \", self.text)\n",
    "  \n",
    "        "
   ]
  },
  {
   "cell_type": "code",
   "execution_count": 5,
   "metadata": {},
   "outputs": [],
   "source": [
    "from sklearn.feature_extraction.text import CountVectorizer, TfidfVectorizer, HashingVectorizer\n",
    "\n",
    "class TextEncoder(object): \n",
    "    def __init__(self, **kwargs):\n",
    "        self.preprocessor = kwargs \n",
    "        self.bow_encoder = None\n",
    "        self.tfidf_encoder = None\n",
    "        self.hash_encoder = None\n",
    "        \n",
    "        self.encoding_bow = None\n",
    "        self.encoding_tfidf = None\n",
    "        self.encoding_hash = None\n",
    "    \n",
    "    \n",
    "    @property \n",
    "    def preprocessor(self,):\n",
    "        return self.config\n",
    "    \n",
    "    ### TODO\n",
    "    @preprocessor.setter \n",
    "    def preprocessor(self, kwargs):\n",
    "        self.config = {\n",
    "            'stop_words': 'english', \n",
    "            'ngram_range': (1,1), \n",
    "            **kwargs\n",
    "        }\n",
    "    def encode_bow(self, text):\n",
    "        self.bow_encoder = CountVectorizer( **self.preprocessor )\n",
    "        self.encoding_bow = self.bow_encoder.fit_transform( text )\n",
    "        return self.encoding_bow\n",
    "        \n",
    "    def transform_bow(self, text):\n",
    "        return self.bow_encoder.transform( text )\n",
    "    \n",
    "    def encode_tfidf(self, text):\n",
    "        self.tfidf_encoder = TfidfVectorizer( **self.preprocessor )\n",
    "        self.encoding_tfidf = self.tfidf_encoder.fit_transform( text )\n",
    "        return self.encoding_tfidf \n",
    "        \n",
    "    def transform_tfidf(self, text):\n",
    "        return self.tfidf_encoder.transform( text )\n",
    "    \n",
    "    def encode_hash(self, text, n_feats=20):\n",
    "        self.hash_encoder = HashingVectorizer(n_features=n_feats)\n",
    "        self.encoding_hash = self.hash_encoder.transform( text ) ##don't need to fit directly\n",
    "        return self.encoding_hash\n",
    "        \n",
    "    def transform_hash(self, text):\n",
    "        return self.hash_encoder.transform( text )\n",
    "            \n",
    "    \n",
    "    def transform(self, text):\n",
    "        return self.bow_encoder.transform( text ) if self.bow_encoder else\\\n",
    "                self.tfidf_encoder.transform( text ) if self.tfidf_encoder else\\\n",
    "                    self.hash_encoder.transform( text ) if self.hash_encoder else None\n",
    "    \n",
    "    @property\n",
    "    def encoder(self):\n",
    "        return self.bow_encoder if self.bow_encoder else\\\n",
    "                self.tfidf_encoder if self.tfidf_encoder else\\\n",
    "                    self.hash_encoder if self.hash_encoder else None\n",
    "    \n",
    "    @property\n",
    "    def encoded_matrix(self):\n",
    "        return self.encoding_bow if self.encoding_bow is not None else\\\n",
    "                self.encoding_tfidf if self.encoding_tfidf is not None else \\\n",
    "                    self.encoding_hash if self.encoding_hash is not None else None    \n",
    "    \n",
    "    @property\n",
    "    def encoder_vocab(self):\n",
    "        return self.bow_encoder.vocabulary_ if self.bow_encoder else\\\n",
    "                self.tfidf_encoder.vocabulary_ if self.tfidf_encoder else None\n",
    "        \n",
    "    @property\n",
    "    def encoder_stops(self):\n",
    "        return self.bow_encoder.get_stop_words() if self.bow_encoder else\\\n",
    "                self.tfidf_encoder.get_stop_words() if self.tfidf_encoder else\\\n",
    "                    self.hash_encoder.get_stop_words() if self.hash_encoder else None\n",
    "    \n",
    "    @property\n",
    "    def encoder_features(self):\n",
    "        return self.bow_encoder.get_feature_names() if self.bow_encoder else\\\n",
    "                self.tfidf_encoder.get_feature_names() if self.tfidf_encoder else None\n",
    "    "
   ]
  },
  {
   "cell_type": "code",
   "execution_count": 6,
   "metadata": {},
   "outputs": [],
   "source": [
    "def printCorpora(text, top_n=20, showtext=False):\n",
    "    print(f\"{type(text)}\")\n",
    "    print(f\"--- {text.url[:20]} ---\")\n",
    "    print(f\">> {text.text[:50]}\")\n",
    "    print(f\"# sentences: { len(text.sentences ) }\")\n",
    "    print(f\"# words: { len(text.words) }\")\n",
    "    print(f\"# vocab: { len(text.vocab) }\")\n",
    "    print(f\"# lex diversity: { '{:.2f}'.format(text.lexical_diversity * 100) }%\")\n",
    "    \n",
    "    if showtext:\n",
    "        print( f\"\\n>>--- Sentences: ---\\n{text.sentences}\\n\" )\n",
    "        print( f\">>--- Words: --- \\n{text.words}\\n\" )\n",
    "        print( f\">>--- Vocab: ---\\n{text.vocab}\\n\" )\n",
    "        print( f\">>--- FreqDist: ---\\n{text.freq_dist.tabulate()}\\n\" )\n",
    "    \n",
    "    text.freq_dist.plot( top_n )    \n",
    "        \n",
    "def printEncoder(encoder, showtext=False):\n",
    "    print( f\"--- Encoder { type(encoder.encoder) }--- \")\n",
    "    print( f\"--- ---\\n{ encoder.encoder } \")\n",
    "    print( f\"--- Vocab size: { len(encoder.encoder_vocab) if encoder.encoder_vocab else 0 }--- \")\n",
    "    print( f\"--- Features size: { len(encoder.encoder_features) if encoder.encoder_features else 0 }--- \")\n",
    "    print( f\"--- Stopwords size: { len(encoder.encoder_stops) if encoder.encoder_stops else 0 }--- \")\n",
    "    print( f\"--- ---\\n{ encoder.encoded_matrix[:1] } \")\n",
    "\n",
    "    if showtext:\n",
    "        print( f\"\\n>>--- Vocab: { (encoder.encoder_vocab) }--- \")\n",
    "        print( f\"\\n>>--- Features: { (encoder.encoder_features) }--- \")\n",
    "        print( f\"\\n>>--- Stopwords: { (encoder.encoder_stops) }--- \")"
   ]
  },
  {
   "cell_type": "code",
   "execution_count": 7,
   "metadata": {},
   "outputs": [
    {
     "name": "stdout",
     "output_type": "stream",
     "text": [
      "<class '__main__.MyCorporaArticle'>\n",
      "--- https://edition.cnn. ---\n",
      ">> (CNN) New Zealand has marked an enviable milestone\n",
      "# sentences: 35\n",
      "# words: 785\n",
      "# vocab: 336\n",
      "# lex diversity: 42.80%\n"
     ]
    },
    {
     "data": {
      "image/png": "[encoded data removed]",
      "text/plain": [
       "<Figure size 432x288 with 1 Axes>"
      ]
     },
     "metadata": {
      "needs_background": "light"
     },
     "output_type": "display_data"
    }
   ],
   "source": [
    "xurl=\"https://edition.cnn.com/2020/08/10/asia/new-zealand-coronavirus-milestone-intl-hnk-scli/index.html\"\n",
    "corptxt = MyCorporaArticle( xurl )\n",
    "printCorpora( corptxt ) "
   ]
  },
  {
   "cell_type": "code",
   "execution_count": 8,
   "metadata": {
    "scrolled": false
   },
   "outputs": [
    {
     "name": "stdout",
     "output_type": "stream",
     "text": [
      "<class '__main__.MyCorporaTable'>\n",
      "--- https://en.wikipedia ---\n",
      ">> 14.0 Tinu Elejogun\n",
      "25.0 Blaszczyk Kostrzewski\n",
      "18.0\n",
      "# sentences: 2\n",
      "# words: 290\n",
      "# vocab: 212\n",
      "# lex diversity: 73.10%\n"
     ]
    },
    {
     "data": {
      "image/png": "[encoded data removed]",
      "text/plain": [
       "<Figure size 432x288 with 1 Axes>"
      ]
     },
     "metadata": {
      "needs_background": "light"
     },
     "output_type": "display_data"
    }
   ],
   "source": [
    "corptbl = MyCorporaTable(\"https://en.wikipedia.org/wiki/Table_(information)\")\n",
    "printCorpora(corptbl  , showtext=False)\n",
    "#corptbl.text\n",
    "#corptbl.dframe"
   ]
  },
  {
   "cell_type": "code",
   "execution_count": 9,
   "metadata": {},
   "outputs": [
    {
     "name": "stdout",
     "output_type": "stream",
     "text": [
      "<class '__main__.MyCorporaText'>\n",
      "--- txt ---\n",
      ">> The quick brown fox jumped over the lazy dogs! yes\n",
      "# sentences: 3\n",
      "# words: 13\n",
      "# vocab: 11\n",
      "# lex diversity: 84.62%\n",
      "\n",
      ">>--- Sentences: ---\n",
      "['The quick brown fox jumped over the lazy dogs!', 'yes, yes he did!', '!']\n",
      "\n",
      ">>--- Words: --- \n",
      "['the', 'quick', 'brown', 'fox', 'jumped', 'over', 'the', 'lazy', 'dogs', 'yes', 'yes', 'he', 'did']\n",
      "\n",
      ">>--- Vocab: ---\n",
      "['brown', 'did', 'dogs', 'fox', 'he', 'jumped', 'lazy', 'over', 'quick', 'the', 'yes']\n",
      "\n",
      "   the    yes  quick  brown    fox jumped   over   lazy   dogs     he    did \n",
      "     2      2      1      1      1      1      1      1      1      1      1 \n",
      ">>--- FreqDist: ---\n",
      "None\n",
      "\n"
     ]
    },
    {
     "data": {
      "image/png": "[encoded data removed]",
      "text/plain": [
       "<Figure size 432x288 with 1 Axes>"
      ]
     },
     "metadata": {
      "needs_background": "light"
     },
     "output_type": "display_data"
    }
   ],
   "source": [
    "corptxt = MyCorporaText(\"The quick brown fox jumped over the lazy dogs! yes, yes he did!!\" )\n",
    "printCorpora( corptxt , showtext=True) \n"
   ]
  },
  {
   "cell_type": "code",
   "execution_count": 10,
   "metadata": {
    "scrolled": false
   },
   "outputs": [
    {
     "name": "stdout",
     "output_type": "stream",
     "text": [
      "--- Encoder <class 'sklearn.feature_extraction.text.CountVectorizer'>--- \n",
      "--- ---\n",
      "CountVectorizer(analyzer='word', binary=False, decode_error='strict',\n",
      "                dtype=<class 'numpy.int64'>, encoding='utf-8', input='content',\n",
      "                lowercase=True, max_df=1.0, max_features=None, min_df=1,\n",
      "                ngram_range=(1, 1), preprocessor=None, stop_words='english',\n",
      "                strip_accents=None, token_pattern='(?u)\\\\b\\\\w\\\\w+\\\\b',\n",
      "                tokenizer=None, vocabulary=None) \n",
      "--- Vocab size: 8--- \n",
      "--- Features size: 8--- \n",
      "--- Stopwords size: 318--- \n",
      "--- ---\n",
      "  (0, 6)\t1\n",
      "  (0, 0)\t1\n",
      "  (0, 3)\t1\n",
      "  (0, 4)\t1\n",
      "  (0, 5)\t1\n",
      "  (0, 2)\t1 \n"
     ]
    }
   ],
   "source": [
    "encoder = TextEncoder( ngram_range=(1,1) )\n",
    "encoder.encode_bow( corptxt.sentences )\n",
    "printEncoder( encoder , showtext=False)"
   ]
  },
  {
   "cell_type": "code",
   "execution_count": 11,
   "metadata": {},
   "outputs": [
    {
     "name": "stdout",
     "output_type": "stream",
     "text": [
      "  (0, 6)\t1\n",
      "  (0, 0)\t1\n",
      "  (0, 3)\t1\n",
      "  (0, 4)\t1\n",
      "  (0, 5)\t1\n",
      "  (0, 2)\t1\n",
      "  (1, 7)\t2\n",
      "  (1, 1)\t1\n",
      "(3, 8)\n"
     ]
    },
    {
     "data": {
      "text/plain": [
       "<3x8 sparse matrix of type '<class 'numpy.int64'>'\n",
       "\twith 8 stored elements in Compressed Sparse Row format>"
      ]
     },
     "execution_count": 11,
     "metadata": {},
     "output_type": "execute_result"
    }
   ],
   "source": [
    "print(encoder.encoded_matrix)\n",
    "print( encoder.encoded_matrix.toarray().shape )\n",
    "encoder.encoded_matrix"
   ]
  },
  {
   "cell_type": "code",
   "execution_count": 12,
   "metadata": {},
   "outputs": [
    {
     "name": "stdout",
     "output_type": "stream",
     "text": [
      "['brown', 'did', 'dogs', 'fox', 'jumped', 'lazy', 'quick', 'yes']\n",
      "{'quick': 6, 'brown': 0, 'fox': 3, 'jumped': 4, 'lazy': 5, 'dogs': 2, 'yes': 7, 'did': 1}\n"
     ]
    }
   ],
   "source": [
    "print( encoder.encoder_features )#== 'yes, yes he did!'.split(' ')\n",
    "print( encoder.encoder_vocab )\n"
   ]
  },
  {
   "cell_type": "code",
   "execution_count": 13,
   "metadata": {},
   "outputs": [
    {
     "data": {
      "text/plain": [
       "array([[0, 0, 0, 0, 0, 0, 0, 0],\n",
       "       [0, 0, 0, 1, 0, 0, 1, 0]])"
      ]
     },
     "execution_count": 13,
     "metadata": {},
     "output_type": "execute_result"
    }
   ],
   "source": [
    "encoder.transform(MyCorporaText('Holly cow! The dog ate the quick fox').sentences ).toarray()"
   ]
  },
  {
   "cell_type": "markdown",
   "metadata": {},
   "source": [
    "# 2. Pipelines\n",
    "Things \n",
    "- preprocessing, dimensionality reduction, \n",
    "- Custom transformers, models,, \n",
    "    - Pytorch, Keras/Tensor support\n",
    "    - Pandas dataframes \n",
    "- parameter tuning, model selection, \n",
    "- reporting "
   ]
  },
  {
   "cell_type": "code",
   "execution_count": 14,
   "metadata": {},
   "outputs": [],
   "source": [
    "from sklearn import datasets\n",
    "\n",
    "from sklearn.pipeline import Pipeline , FeatureUnion \n",
    "from sklearn.model_selection import train_test_split \n",
    "\n",
    "from sklearn.preprocessing import FunctionTransformer #, TransformerMixin \n",
    "from sklearn.preprocessing import MinMaxScaler, LabelEncoder, StandardScaler\n",
    "\n",
    "from sklearn.linear_model import LogisticRegression \n",
    "from sklearn.neural_network import MLPClassifier\n",
    "from sklearn.ensemble import RandomForestClassifier\n",
    "from sklearn.svm import SVC\n",
    "from sklearn.tree import DecisionTreeClassifier\n",
    "from sklearn.naive_bayes import GaussianNB\n",
    "\n",
    "from sklearn.metrics import accuracy_score, roc_auc_score, confusion_matrix, classification_report\n"
   ]
  },
  {
   "cell_type": "code",
   "execution_count": 15,
   "metadata": {
    "scrolled": false
   },
   "outputs": [
    {
     "name": "stdout",
     "output_type": "stream",
     "text": [
      "[0 1 0 1 0]\n",
      "[1 0 2 2 2]\n",
      "[0.9238095238095239, 0.9238095238095239, 0.9238095238095239, 0.9238095238095239, 0.9238095238095239]\n"
     ]
    },
    {
     "data": {
      "image/png": "[encoded data removed]",
      "text/plain": [
       "<Figure size 432x288 with 1 Axes>"
      ]
     },
     "metadata": {
      "needs_background": "light"
     },
     "output_type": "display_data"
    }
   ],
   "source": [
    "db = datasets.load_iris()\n",
    "X = db.data\n",
    "y = db.target\n",
    "X_train, X_test, y_train, y_test = train_test_split( X, y, test_size=0.3, random_state=59)\n",
    "y_baseline = [y_train.mean() ]*len( y_test ) \n",
    "\n",
    "print( y_train[:5] )\n",
    "\n",
    "print( y_test[:5] )\n",
    "print( y_baseline[:5] ) \n",
    "\n",
    "plt.hist( db.target ); "
   ]
  },
  {
   "cell_type": "code",
   "execution_count": 16,
   "metadata": {},
   "outputs": [
    {
     "data": {
      "text/html": [
       "<div>\n",
       "<style scoped>\n",
       "    .dataframe tbody tr th:only-of-type {\n",
       "        vertical-align: middle;\n",
       "    }\n",
       "\n",
       "    .dataframe tbody tr th {\n",
       "        vertical-align: top;\n",
       "    }\n",
       "\n",
       "    .dataframe thead th {\n",
       "        text-align: right;\n",
       "    }\n",
       "</style>\n",
       "<table border=\"1\" class=\"dataframe\">\n",
       "  <thead>\n",
       "    <tr style=\"text-align: right;\">\n",
       "      <th></th>\n",
       "      <th>0</th>\n",
       "      <th>1</th>\n",
       "      <th>2</th>\n",
       "      <th>3</th>\n",
       "    </tr>\n",
       "  </thead>\n",
       "  <tbody>\n",
       "    <tr>\n",
       "      <th>count</th>\n",
       "      <td>150.000000</td>\n",
       "      <td>150.000000</td>\n",
       "      <td>150.000000</td>\n",
       "      <td>150.000000</td>\n",
       "    </tr>\n",
       "    <tr>\n",
       "      <th>mean</th>\n",
       "      <td>5.843333</td>\n",
       "      <td>3.057333</td>\n",
       "      <td>3.758000</td>\n",
       "      <td>1.199333</td>\n",
       "    </tr>\n",
       "    <tr>\n",
       "      <th>std</th>\n",
       "      <td>0.828066</td>\n",
       "      <td>0.435866</td>\n",
       "      <td>1.765298</td>\n",
       "      <td>0.762238</td>\n",
       "    </tr>\n",
       "    <tr>\n",
       "      <th>min</th>\n",
       "      <td>4.300000</td>\n",
       "      <td>2.000000</td>\n",
       "      <td>1.000000</td>\n",
       "      <td>0.100000</td>\n",
       "    </tr>\n",
       "    <tr>\n",
       "      <th>25%</th>\n",
       "      <td>5.100000</td>\n",
       "      <td>2.800000</td>\n",
       "      <td>1.600000</td>\n",
       "      <td>0.300000</td>\n",
       "    </tr>\n",
       "    <tr>\n",
       "      <th>50%</th>\n",
       "      <td>5.800000</td>\n",
       "      <td>3.000000</td>\n",
       "      <td>4.350000</td>\n",
       "      <td>1.300000</td>\n",
       "    </tr>\n",
       "    <tr>\n",
       "      <th>75%</th>\n",
       "      <td>6.400000</td>\n",
       "      <td>3.300000</td>\n",
       "      <td>5.100000</td>\n",
       "      <td>1.800000</td>\n",
       "    </tr>\n",
       "    <tr>\n",
       "      <th>max</th>\n",
       "      <td>7.900000</td>\n",
       "      <td>4.400000</td>\n",
       "      <td>6.900000</td>\n",
       "      <td>2.500000</td>\n",
       "    </tr>\n",
       "  </tbody>\n",
       "</table>\n",
       "</div>"
      ],
      "text/plain": [
       "                0           1           2           3\n",
       "count  150.000000  150.000000  150.000000  150.000000\n",
       "mean     5.843333    3.057333    3.758000    1.199333\n",
       "std      0.828066    0.435866    1.765298    0.762238\n",
       "min      4.300000    2.000000    1.000000    0.100000\n",
       "25%      5.100000    2.800000    1.600000    0.300000\n",
       "50%      5.800000    3.000000    4.350000    1.300000\n",
       "75%      6.400000    3.300000    5.100000    1.800000\n",
       "max      7.900000    4.400000    6.900000    2.500000"
      ]
     },
     "execution_count": 16,
     "metadata": {},
     "output_type": "execute_result"
    }
   ],
   "source": [
    "pd.DataFrame.from_records( db.data ).describe()"
   ]
  },
  {
   "cell_type": "code",
   "execution_count": 17,
   "metadata": {},
   "outputs": [],
   "source": [
    "## Preprocessing\n",
    "#   - Imputer, Quadratic, PolynomialFeatures, \n",
    "#\n",
    "#######\n",
    "## Transformers: fit, transform   << StandardScaler, MinMaxScaler, \n",
    "## Estimators: fit, predict       << LogisticRegression, \n",
    "#### \n"
   ]
  },
  {
   "cell_type": "code",
   "execution_count": 18,
   "metadata": {},
   "outputs": [],
   "source": [
    "# df = corptbl.dframe[ ['Age', 'First name', 'Last name']]\n",
    "# df.dropna(inplace=True)\n",
    "# df.info()\n",
    "# df.isnull().sum()\n",
    "# df['age_bins'].unique\n",
    "\n",
    "# df['age_bins'] = pd.cut(df['Age'], bins=(2, 20, 103), labels=['young', 'mature'])\n",
    "# age_lbl = LabelEncoder()\n",
    "# df['maturity'] = age_lbl.fit_transform( df['age_bins'])\n",
    "# df\n",
    "\n",
    "# df['age_bins'].value_counts()\n",
    "# plt.hist( df['age_bins'])"
   ]
  },
  {
   "cell_type": "code",
   "execution_count": 19,
   "metadata": {},
   "outputs": [],
   "source": [
    "def run_with(pip2, name,  X_train, X_test, y_train, y_test,  logit=True):   \n",
    "    y_baseline = [ np.array(y_train).mean() ]*len( y_test ) \n",
    "    # a. train \n",
    "    pip2.fit( X_train, y_train )\n",
    "    # b. predict\n",
    "    y_predz = pip2.predict(X_test)\n",
    "\n",
    "    # c. results \n",
    "    if logit:\n",
    "        print(f\"\\n\\n{'='*10} {name.upper()} {'='*10}\\n\")\n",
    "        print( f\"Training accuracy: {pip2.score(X_train, y_train)}\" )\n",
    "        print( f\"Test accuracy: {pip2.score(X_test, y_test)}\" )\n",
    "    #     print( f\"--\")\n",
    "    #     print( f\"Baseline Report\\n{ classification_report(y_test, y_base)}\")\n",
    "        print( f\"--\")\n",
    "        print( f\"Classification Report\\n{ classification_report(y_test, y_predz)}\")\n",
    "        print( f\"--\")\n",
    "        print( f\"Confuision Matrix\\n{ confusion_matrix(y_test, y_predz)}\")    \n",
    "        #print(f\"\\n{'='*30}\\n\")\n",
    "    return (pip2.score(X_train, y_train), pip2.score(X_test, y_test))"
   ]
  },
  {
   "cell_type": "code",
   "execution_count": 20,
   "metadata": {
    "scrolled": false
   },
   "outputs": [
    {
     "data": {
      "text/plain": [
       "<matplotlib.axes._subplots.AxesSubplot at 0x7f2fd4344fd0>"
      ]
     },
     "execution_count": 20,
     "metadata": {},
     "output_type": "execute_result"
    },
    {
     "data": {
      "image/png": "[encoded data removed]",
      "text/plain": [
       "<Figure size 432x288 with 1 Axes>"
      ]
     },
     "metadata": {
      "needs_background": "light"
     },
     "output_type": "display_data"
    }
   ],
   "source": [
    "modelz = [\n",
    "    ('logit', LogisticRegression()),\n",
    "    ('rfc', RandomForestClassifier(n_estimators=200) ),   ##small-med size data, smaller number of classes/bins\n",
    "    ('svm', SVC() ) , ##  faster than random forest if larger raw data \n",
    "    ('dnn', MLPClassifier(\n",
    "        hidden_layer_sizes=(11,11,11), max_iter=500\n",
    "        ) ), # nlp, sequence/series data, tonnes of data, variety, images\n",
    "]\n",
    "     \n",
    "acc= []\n",
    "for i, model in enumerate(modelz):\n",
    "     #('minmax', MinMaxScaler()),\n",
    "    res = run_with ( Pipeline([ ('std', StandardScaler()),  model ]) ,                    \n",
    "                    f\"{i+1}. {model[0]}\",\n",
    "                    X_train, X_test, y_train, y_test, \n",
    "                    logit=False\n",
    "             )\n",
    "    acc.append( [model[0], *res] )\n",
    "    \n",
    "    \n",
    "d = pd.DataFrame.from_records(acc)\n",
    "d.columns = ['model', 'train_acc', 'test_acc']\n",
    "d = pd.melt(d, id_vars=['model'], \n",
    "               value_vars=['train_acc', 'test_acc'], \n",
    "               var_name='acc', value_name='score')\n",
    "# d\n",
    "sns.lineplot(x='model', y='score', hue='acc',data=d)"
   ]
  },
  {
   "cell_type": "markdown",
   "metadata": {},
   "source": [
    "# 3. Bringing it all together\n"
   ]
  },
  {
   "cell_type": "code",
   "execution_count": 36,
   "metadata": {},
   "outputs": [],
   "source": [
    "import json\n",
    "from sklearn.model_selection import GridSearchCV"
   ]
  },
  {
   "cell_type": "code",
   "execution_count": 38,
   "metadata": {},
   "outputs": [
    {
     "name": "stdout",
     "output_type": "stream",
     "text": [
      "<class 'pandas.core.frame.DataFrame'>\n",
      "RangeIndex: 1000 entries, 0 to 999\n",
      "Data columns (total 2 columns):\n",
      " #   Column   Non-Null Count  Dtype  \n",
      "---  ------   --------------  -----  \n",
      " 0   comment  1000 non-null   object \n",
      " 1   rating   1000 non-null   float64\n",
      "dtypes: float64(1), object(1)\n",
      "memory usage: 15.8+ KB\n"
     ]
    }
   ],
   "source": [
    "reviewz = []\n",
    "with open('Books_small.json', 'r') as fd:\n",
    "    for line in fd:\n",
    "        ln = json.loads(line)\n",
    "        reviewz.append( (ln['reviewText'], ln['overall']))\n",
    "        \n",
    "\n",
    "df_revz = pd.DataFrame.from_records( reviewz )\n",
    "df_revz.columns = ['comment', 'rating']\n",
    "df_revz\n",
    "df_revz.info()"
   ]
  },
  {
   "cell_type": "code",
   "execution_count": 39,
   "metadata": {},
   "outputs": [
    {
     "data": {
      "image/png": "[encoded data removed]",
      "text/plain": [
       "<Figure size 432x288 with 1 Axes>"
      ]
     },
     "metadata": {
      "needs_background": "light"
     },
     "output_type": "display_data"
    }
   ],
   "source": [
    "sns.countplot( df_revz['rating']); "
   ]
  },
  {
   "cell_type": "code",
   "execution_count": 40,
   "metadata": {},
   "outputs": [
    {
     "name": "stdout",
     "output_type": "stream",
     "text": [
      "Len X_train: 700\n",
      "Len X_test: 300\n"
     ]
    },
    {
     "data": {
      "image/png": "[encoded data removed]",
      "text/plain": [
       "<Figure size 432x288 with 2 Axes>"
      ]
     },
     "metadata": {
      "needs_background": "light"
     },
     "output_type": "display_data"
    }
   ],
   "source": [
    "## Preprocessing transforms \n",
    "def lemmaz(text): \n",
    "    ltizer = WordNetLemmatizer()    \n",
    "    tokenz = [ ltizer.lemmatize( w.lower() ) for w in tokenize.word_tokenize(text) ]    \n",
    "    # keep iff len >= 3\n",
    "    tokenz = [ w for w in tokenz if len(w) >= 3]    \n",
    "    return \" \".join(tokenz)\n",
    "\n",
    "\n",
    "revz_pipe = [\n",
    "    ('lemmatize', FunctionTransformer( np.vectorize(lemmaz))),\n",
    "    ('tfidf', TfidfVectorizer(ngram_range=(1,1), stop_words='english') ),\n",
    "]\n",
    "\n",
    "\n",
    "## Split data \n",
    "X_train, X_test, y_train, y_test = train_test_split( df_revz.comment.to_list(), \n",
    "                                                    df_revz.rating.to_list(), \n",
    "                                                    test_size=0.3, random_state=59)\n",
    "\n",
    "print( f\"Len X_train: {len(X_train)}\")\n",
    "print( f\"Len X_test: {len(X_test)}\")\n",
    "\n",
    "plt.subplot(1, 2, 1)\n",
    "sns.countplot( y_train)\n",
    "plt.title('Training Data - y dist')\n",
    "plt.xlabel('Rating (y, target)') \n",
    "\n",
    "plt.subplot(1, 2, 2)\n",
    "sns.countplot( y_test )\n",
    "plt.title('Test Data - y dist')\n",
    "plt.xlabel('Rating (y, target)'); "
   ]
  },
  {
   "cell_type": "code",
   "execution_count": 41,
   "metadata": {
    "scrolled": true
   },
   "outputs": [
    {
     "data": {
      "image/png": "[encoded data removed]",
      "text/plain": [
       "<Figure size 432x288 with 1 Axes>"
      ]
     },
     "metadata": {
      "needs_background": "light"
     },
     "output_type": "display_data"
    }
   ],
   "source": [
    "modelz = [\n",
    "    ('logit', LogisticRegression()),\n",
    "    ('rfc', RandomForestClassifier(n_estimators=200) ),   \n",
    "    ('svm', SVC(C=1, kernel='rbf') ) , \n",
    "    ('dnn', MLPClassifier(\n",
    "        hidden_layer_sizes=(128, 64, 32, 5), max_iter=500\n",
    "        ) ), \n",
    "]\n",
    "     \n",
    "acc= []\n",
    "for i, model in enumerate(modelz):\n",
    "     #('minmax', MinMaxScaler()),\n",
    "    res = run_with ( Pipeline([ *revz_pipe, model ]) ,\n",
    "                    \n",
    "                    f\"{i+1}. {model[0]}\",\n",
    "                    \n",
    "                    X_train, X_test, y_train, y_test, \n",
    "                    \n",
    "                    logit=False\n",
    "             )\n",
    "    acc.append( [model[0], *res] )\n",
    "    \n",
    "    \n",
    "d = pd.DataFrame.from_records(acc)\n",
    "d.columns = ['model', 'train_acc', 'test_acc']\n",
    "d = pd.melt(d, id_vars=['model'], \n",
    "               value_vars=['train_acc', 'test_acc'], \n",
    "               var_name='acc', value_name='score')\n",
    "# d\n",
    "sns.lineplot(x='model', y='score', hue='acc',data=d); "
   ]
  },
  {
   "cell_type": "code",
   "execution_count": 55,
   "metadata": {},
   "outputs": [
    {
     "name": "stdout",
     "output_type": "stream",
     "text": [
      "2  options\n"
     ]
    }
   ],
   "source": [
    "class ModelConf:\n",
    "    def __init__(self, name, prez, paramz ): \n",
    "        self.name = name\n",
    "        self.preprocessors = prez    \n",
    "        self.paramz = paramz \n",
    "\n",
    "\n",
    "    def __repr__(self):\n",
    "        return f\"ModelConf( '{self.name}', \\n\\t'{self.preprocessors}', \\n\\t'{self.paramz}' )\"\n",
    "        \n",
    "\n",
    "tunerz = []\n",
    "\n",
    "n_gramz = [ (1,1) ]  \n",
    "\n",
    "paramz_tune = [\n",
    "    #name, 0:logit, 1:rfc, 2:svm, 3:gnb, 4:dt, 5:dnn \n",
    "    ['defaults',\n",
    "     ( {}, \n",
    "     {'n_estimators': [100, 200, 400] }, \n",
    "     {'C': (1, 2, 4, 5, 16), 'kernel':('rbf', 'linear') }, \n",
    "     {}, \n",
    "     {}, \n",
    "     {'hidden_layer_sizes':(64, 64, 32, 5), 'max_iter':(500, 700)} )\n",
    "    ],  \n",
    "]\n",
    "     \n",
    "for i, paramz in enumerate(paramz_tune):\n",
    "     \n",
    "    p_name=\"stops-lemma, bow\"\n",
    "    for j, nz in enumerate(n_gramz):\n",
    "         tunerz.append( \n",
    "             ModelConf(f\"{i+1}.{paramz[0]}-{p_name}-{nz}\", \n",
    "                       [ (f'lem-cv-{j}', FunctionTransformer( np.vectorize(lemmaz))),\n",
    "                         (f'cv-l{j}', CountVectorizer(ngram_range=nz, stop_words='english' ) ) ],\n",
    "                       paramz[1]\n",
    "                      )\n",
    "            )\n",
    "     \n",
    "    p_name=\"stops-lemma, tfidf\"\n",
    "    for j, nz in enumerate(n_gramz):\n",
    "         tunerz.append( \n",
    "             ModelConf(f\"{i+1}.{paramz[0]}-{p_name}-{nz}\", \n",
    "                       [ (f'lem-tf-{j}', FunctionTransformer( np.vectorize(lemmaz))),\n",
    "                          (f'tf-l{j}', TfidfVectorizer(ngram_range=nz,stop_words='english' ) ) ],\n",
    "                       paramz[1]\n",
    "                      )\n",
    "            )\n",
    "\n",
    "print( len(tunerz), \" options\") #, \\n0 = \", tunerz[0])"
   ]
  },
  {
   "cell_type": "code",
   "execution_count": 56,
   "metadata": {
    "scrolled": true
   },
   "outputs": [
    {
     "ename": "ValueError",
     "evalue": "Invalid parameter n_estimators for estimator Pipeline(memory=None,\n         steps=[('lem-cv-0',\n                 FunctionTransformer(accept_sparse=False, check_inverse=True,\n                                     func=<numpy.vectorize object at 0x7f2fb438af10>,\n                                     inv_kw_args=None, inverse_func=None,\n                                     kw_args=None, validate=False)),\n                ('cv-l0',\n                 CountVectorizer(analyzer='word', binary=False,\n                                 decode_error='strict',\n                                 dtype=<class 'numpy.int64'>, encoding='utf-8',\n                                 input='content', lower...\n                 RandomForestClassifier(bootstrap=True, ccp_alpha=0.0,\n                                        class_weight=None, criterion='gini',\n                                        max_depth=None, max_features='auto',\n                                        max_leaf_nodes=None, max_samples=None,\n                                        min_impurity_decrease=0.0,\n                                        min_impurity_split=None,\n                                        min_samples_leaf=1, min_samples_split=2,\n                                        min_weight_fraction_leaf=0.0,\n                                        n_estimators=100, n_jobs=None,\n                                        oob_score=False, random_state=None,\n                                        verbose=0, warm_start=False))],\n         verbose=False). Check the list of available parameters with `estimator.get_params().keys()`.",
     "output_type": "error",
     "traceback": [
      "\u001b[0;31m---------------------------------------------------------------------------\u001b[0m",
      "\u001b[0;31mValueError\u001b[0m                                Traceback (most recent call last)",
      "\u001b[0;32m<ipython-input-56-af9dc8104a95>\u001b[0m in \u001b[0;36m<module>\u001b[0;34m\u001b[0m\n\u001b[1;32m     21\u001b[0m                         \u001b[0mX_train\u001b[0m\u001b[0;34m,\u001b[0m \u001b[0mX_test\u001b[0m\u001b[0;34m,\u001b[0m \u001b[0my_train\u001b[0m\u001b[0;34m,\u001b[0m \u001b[0my_test\u001b[0m\u001b[0;34m,\u001b[0m\u001b[0;34m\u001b[0m\u001b[0;34m\u001b[0m\u001b[0m\n\u001b[1;32m     22\u001b[0m \u001b[0;34m\u001b[0m\u001b[0m\n\u001b[0;32m---> 23\u001b[0;31m                         \u001b[0mlogit\u001b[0m\u001b[0;34m=\u001b[0m\u001b[0;32mFalse\u001b[0m\u001b[0;34m\u001b[0m\u001b[0;34m\u001b[0m\u001b[0m\n\u001b[0m\u001b[1;32m     24\u001b[0m                  )\n\u001b[1;32m     25\u001b[0m         \u001b[0macc\u001b[0m\u001b[0;34m.\u001b[0m\u001b[0mappend\u001b[0m\u001b[0;34m(\u001b[0m \u001b[0;34m[\u001b[0m\u001b[0mmodel\u001b[0m\u001b[0;34m[\u001b[0m\u001b[0;36m0\u001b[0m\u001b[0;34m]\u001b[0m\u001b[0;34m,\u001b[0m \u001b[0;34m*\u001b[0m\u001b[0mres\u001b[0m\u001b[0;34m]\u001b[0m \u001b[0;34m)\u001b[0m\u001b[0;34m\u001b[0m\u001b[0;34m\u001b[0m\u001b[0m\n",
      "\u001b[0;32m<ipython-input-19-1ad4221ac443>\u001b[0m in \u001b[0;36mrun_with\u001b[0;34m(pip2, name, X_train, X_test, y_train, y_test, logit)\u001b[0m\n\u001b[1;32m      2\u001b[0m     \u001b[0my_baseline\u001b[0m \u001b[0;34m=\u001b[0m \u001b[0;34m[\u001b[0m \u001b[0mnp\u001b[0m\u001b[0;34m.\u001b[0m\u001b[0marray\u001b[0m\u001b[0;34m(\u001b[0m\u001b[0my_train\u001b[0m\u001b[0;34m)\u001b[0m\u001b[0;34m.\u001b[0m\u001b[0mmean\u001b[0m\u001b[0;34m(\u001b[0m\u001b[0;34m)\u001b[0m \u001b[0;34m]\u001b[0m\u001b[0;34m*\u001b[0m\u001b[0mlen\u001b[0m\u001b[0;34m(\u001b[0m \u001b[0my_test\u001b[0m \u001b[0;34m)\u001b[0m\u001b[0;34m\u001b[0m\u001b[0;34m\u001b[0m\u001b[0m\n\u001b[1;32m      3\u001b[0m     \u001b[0;31m# a. train\u001b[0m\u001b[0;34m\u001b[0m\u001b[0;34m\u001b[0m\u001b[0;34m\u001b[0m\u001b[0m\n\u001b[0;32m----> 4\u001b[0;31m     \u001b[0mpip2\u001b[0m\u001b[0;34m.\u001b[0m\u001b[0mfit\u001b[0m\u001b[0;34m(\u001b[0m \u001b[0mX_train\u001b[0m\u001b[0;34m,\u001b[0m \u001b[0my_train\u001b[0m \u001b[0;34m)\u001b[0m\u001b[0;34m\u001b[0m\u001b[0;34m\u001b[0m\u001b[0m\n\u001b[0m\u001b[1;32m      5\u001b[0m     \u001b[0;31m# b. predict\u001b[0m\u001b[0;34m\u001b[0m\u001b[0;34m\u001b[0m\u001b[0;34m\u001b[0m\u001b[0m\n\u001b[1;32m      6\u001b[0m     \u001b[0my_predz\u001b[0m \u001b[0;34m=\u001b[0m \u001b[0mpip2\u001b[0m\u001b[0;34m.\u001b[0m\u001b[0mpredict\u001b[0m\u001b[0;34m(\u001b[0m\u001b[0mX_test\u001b[0m\u001b[0;34m)\u001b[0m\u001b[0;34m\u001b[0m\u001b[0;34m\u001b[0m\u001b[0m\n",
      "\u001b[0;32m~/anaconda3/lib/python3.7/site-packages/sklearn/model_selection/_search.py\u001b[0m in \u001b[0;36mfit\u001b[0;34m(self, X, y, groups, **fit_params)\u001b[0m\n\u001b[1;32m    708\u001b[0m                 \u001b[0;32mreturn\u001b[0m \u001b[0mresults\u001b[0m\u001b[0;34m\u001b[0m\u001b[0;34m\u001b[0m\u001b[0m\n\u001b[1;32m    709\u001b[0m \u001b[0;34m\u001b[0m\u001b[0m\n\u001b[0;32m--> 710\u001b[0;31m             \u001b[0mself\u001b[0m\u001b[0;34m.\u001b[0m\u001b[0m_run_search\u001b[0m\u001b[0;34m(\u001b[0m\u001b[0mevaluate_candidates\u001b[0m\u001b[0;34m)\u001b[0m\u001b[0;34m\u001b[0m\u001b[0;34m\u001b[0m\u001b[0m\n\u001b[0m\u001b[1;32m    711\u001b[0m \u001b[0;34m\u001b[0m\u001b[0m\n\u001b[1;32m    712\u001b[0m         \u001b[0;31m# For multi-metric evaluation, store the best_index_, best_params_ and\u001b[0m\u001b[0;34m\u001b[0m\u001b[0;34m\u001b[0m\u001b[0;34m\u001b[0m\u001b[0m\n",
      "\u001b[0;32m~/anaconda3/lib/python3.7/site-packages/sklearn/model_selection/_search.py\u001b[0m in \u001b[0;36m_run_search\u001b[0;34m(self, evaluate_candidates)\u001b[0m\n\u001b[1;32m   1149\u001b[0m     \u001b[0;32mdef\u001b[0m \u001b[0m_run_search\u001b[0m\u001b[0;34m(\u001b[0m\u001b[0mself\u001b[0m\u001b[0;34m,\u001b[0m \u001b[0mevaluate_candidates\u001b[0m\u001b[0;34m)\u001b[0m\u001b[0;34m:\u001b[0m\u001b[0;34m\u001b[0m\u001b[0;34m\u001b[0m\u001b[0m\n\u001b[1;32m   1150\u001b[0m         \u001b[0;34m\"\"\"Search all candidates in param_grid\"\"\"\u001b[0m\u001b[0;34m\u001b[0m\u001b[0;34m\u001b[0m\u001b[0m\n\u001b[0;32m-> 1151\u001b[0;31m         \u001b[0mevaluate_candidates\u001b[0m\u001b[0;34m(\u001b[0m\u001b[0mParameterGrid\u001b[0m\u001b[0;34m(\u001b[0m\u001b[0mself\u001b[0m\u001b[0;34m.\u001b[0m\u001b[0mparam_grid\u001b[0m\u001b[0;34m)\u001b[0m\u001b[0;34m)\u001b[0m\u001b[0;34m\u001b[0m\u001b[0;34m\u001b[0m\u001b[0m\n\u001b[0m\u001b[1;32m   1152\u001b[0m \u001b[0;34m\u001b[0m\u001b[0m\n\u001b[1;32m   1153\u001b[0m \u001b[0;34m\u001b[0m\u001b[0m\n",
      "\u001b[0;32m~/anaconda3/lib/python3.7/site-packages/sklearn/model_selection/_search.py\u001b[0m in \u001b[0;36mevaluate_candidates\u001b[0;34m(candidate_params)\u001b[0m\n\u001b[1;32m    687\u001b[0m                                \u001b[0;32mfor\u001b[0m \u001b[0mparameters\u001b[0m\u001b[0;34m,\u001b[0m \u001b[0;34m(\u001b[0m\u001b[0mtrain\u001b[0m\u001b[0;34m,\u001b[0m \u001b[0mtest\u001b[0m\u001b[0;34m)\u001b[0m\u001b[0;34m\u001b[0m\u001b[0;34m\u001b[0m\u001b[0m\n\u001b[1;32m    688\u001b[0m                                in product(candidate_params,\n\u001b[0;32m--> 689\u001b[0;31m                                           cv.split(X, y, groups)))\n\u001b[0m\u001b[1;32m    690\u001b[0m \u001b[0;34m\u001b[0m\u001b[0m\n\u001b[1;32m    691\u001b[0m                 \u001b[0;32mif\u001b[0m \u001b[0mlen\u001b[0m\u001b[0;34m(\u001b[0m\u001b[0mout\u001b[0m\u001b[0;34m)\u001b[0m \u001b[0;34m<\u001b[0m \u001b[0;36m1\u001b[0m\u001b[0;34m:\u001b[0m\u001b[0;34m\u001b[0m\u001b[0;34m\u001b[0m\u001b[0m\n",
      "\u001b[0;32m~/anaconda3/lib/python3.7/site-packages/joblib/parallel.py\u001b[0m in \u001b[0;36m__call__\u001b[0;34m(self, iterable)\u001b[0m\n\u001b[1;32m   1002\u001b[0m             \u001b[0;31m# remaining jobs.\u001b[0m\u001b[0;34m\u001b[0m\u001b[0;34m\u001b[0m\u001b[0;34m\u001b[0m\u001b[0m\n\u001b[1;32m   1003\u001b[0m             \u001b[0mself\u001b[0m\u001b[0;34m.\u001b[0m\u001b[0m_iterating\u001b[0m \u001b[0;34m=\u001b[0m \u001b[0;32mFalse\u001b[0m\u001b[0;34m\u001b[0m\u001b[0;34m\u001b[0m\u001b[0m\n\u001b[0;32m-> 1004\u001b[0;31m             \u001b[0;32mif\u001b[0m \u001b[0mself\u001b[0m\u001b[0;34m.\u001b[0m\u001b[0mdispatch_one_batch\u001b[0m\u001b[0;34m(\u001b[0m\u001b[0miterator\u001b[0m\u001b[0;34m)\u001b[0m\u001b[0;34m:\u001b[0m\u001b[0;34m\u001b[0m\u001b[0;34m\u001b[0m\u001b[0m\n\u001b[0m\u001b[1;32m   1005\u001b[0m                 \u001b[0mself\u001b[0m\u001b[0;34m.\u001b[0m\u001b[0m_iterating\u001b[0m \u001b[0;34m=\u001b[0m \u001b[0mself\u001b[0m\u001b[0;34m.\u001b[0m\u001b[0m_original_iterator\u001b[0m \u001b[0;32mis\u001b[0m \u001b[0;32mnot\u001b[0m \u001b[0;32mNone\u001b[0m\u001b[0;34m\u001b[0m\u001b[0;34m\u001b[0m\u001b[0m\n\u001b[1;32m   1006\u001b[0m \u001b[0;34m\u001b[0m\u001b[0m\n",
      "\u001b[0;32m~/anaconda3/lib/python3.7/site-packages/joblib/parallel.py\u001b[0m in \u001b[0;36mdispatch_one_batch\u001b[0;34m(self, iterator)\u001b[0m\n\u001b[1;32m    833\u001b[0m                 \u001b[0;32mreturn\u001b[0m \u001b[0;32mFalse\u001b[0m\u001b[0;34m\u001b[0m\u001b[0;34m\u001b[0m\u001b[0m\n\u001b[1;32m    834\u001b[0m             \u001b[0;32melse\u001b[0m\u001b[0;34m:\u001b[0m\u001b[0;34m\u001b[0m\u001b[0;34m\u001b[0m\u001b[0m\n\u001b[0;32m--> 835\u001b[0;31m                 \u001b[0mself\u001b[0m\u001b[0;34m.\u001b[0m\u001b[0m_dispatch\u001b[0m\u001b[0;34m(\u001b[0m\u001b[0mtasks\u001b[0m\u001b[0;34m)\u001b[0m\u001b[0;34m\u001b[0m\u001b[0;34m\u001b[0m\u001b[0m\n\u001b[0m\u001b[1;32m    836\u001b[0m                 \u001b[0;32mreturn\u001b[0m \u001b[0;32mTrue\u001b[0m\u001b[0;34m\u001b[0m\u001b[0;34m\u001b[0m\u001b[0m\n\u001b[1;32m    837\u001b[0m \u001b[0;34m\u001b[0m\u001b[0m\n",
      "\u001b[0;32m~/anaconda3/lib/python3.7/site-packages/joblib/parallel.py\u001b[0m in \u001b[0;36m_dispatch\u001b[0;34m(self, batch)\u001b[0m\n\u001b[1;32m    752\u001b[0m         \u001b[0;32mwith\u001b[0m \u001b[0mself\u001b[0m\u001b[0;34m.\u001b[0m\u001b[0m_lock\u001b[0m\u001b[0;34m:\u001b[0m\u001b[0;34m\u001b[0m\u001b[0;34m\u001b[0m\u001b[0m\n\u001b[1;32m    753\u001b[0m             \u001b[0mjob_idx\u001b[0m \u001b[0;34m=\u001b[0m \u001b[0mlen\u001b[0m\u001b[0;34m(\u001b[0m\u001b[0mself\u001b[0m\u001b[0;34m.\u001b[0m\u001b[0m_jobs\u001b[0m\u001b[0;34m)\u001b[0m\u001b[0;34m\u001b[0m\u001b[0;34m\u001b[0m\u001b[0m\n\u001b[0;32m--> 754\u001b[0;31m             \u001b[0mjob\u001b[0m \u001b[0;34m=\u001b[0m \u001b[0mself\u001b[0m\u001b[0;34m.\u001b[0m\u001b[0m_backend\u001b[0m\u001b[0;34m.\u001b[0m\u001b[0mapply_async\u001b[0m\u001b[0;34m(\u001b[0m\u001b[0mbatch\u001b[0m\u001b[0;34m,\u001b[0m \u001b[0mcallback\u001b[0m\u001b[0;34m=\u001b[0m\u001b[0mcb\u001b[0m\u001b[0;34m)\u001b[0m\u001b[0;34m\u001b[0m\u001b[0;34m\u001b[0m\u001b[0m\n\u001b[0m\u001b[1;32m    755\u001b[0m             \u001b[0;31m# A job can complete so quickly than its callback is\u001b[0m\u001b[0;34m\u001b[0m\u001b[0;34m\u001b[0m\u001b[0;34m\u001b[0m\u001b[0m\n\u001b[1;32m    756\u001b[0m             \u001b[0;31m# called before we get here, causing self._jobs to\u001b[0m\u001b[0;34m\u001b[0m\u001b[0;34m\u001b[0m\u001b[0;34m\u001b[0m\u001b[0m\n",
      "\u001b[0;32m~/anaconda3/lib/python3.7/site-packages/joblib/_parallel_backends.py\u001b[0m in \u001b[0;36mapply_async\u001b[0;34m(self, func, callback)\u001b[0m\n\u001b[1;32m    207\u001b[0m     \u001b[0;32mdef\u001b[0m \u001b[0mapply_async\u001b[0m\u001b[0;34m(\u001b[0m\u001b[0mself\u001b[0m\u001b[0;34m,\u001b[0m \u001b[0mfunc\u001b[0m\u001b[0;34m,\u001b[0m \u001b[0mcallback\u001b[0m\u001b[0;34m=\u001b[0m\u001b[0;32mNone\u001b[0m\u001b[0;34m)\u001b[0m\u001b[0;34m:\u001b[0m\u001b[0;34m\u001b[0m\u001b[0;34m\u001b[0m\u001b[0m\n\u001b[1;32m    208\u001b[0m         \u001b[0;34m\"\"\"Schedule a func to be run\"\"\"\u001b[0m\u001b[0;34m\u001b[0m\u001b[0;34m\u001b[0m\u001b[0m\n\u001b[0;32m--> 209\u001b[0;31m         \u001b[0mresult\u001b[0m \u001b[0;34m=\u001b[0m \u001b[0mImmediateResult\u001b[0m\u001b[0;34m(\u001b[0m\u001b[0mfunc\u001b[0m\u001b[0;34m)\u001b[0m\u001b[0;34m\u001b[0m\u001b[0;34m\u001b[0m\u001b[0m\n\u001b[0m\u001b[1;32m    210\u001b[0m         \u001b[0;32mif\u001b[0m \u001b[0mcallback\u001b[0m\u001b[0;34m:\u001b[0m\u001b[0;34m\u001b[0m\u001b[0;34m\u001b[0m\u001b[0m\n\u001b[1;32m    211\u001b[0m             \u001b[0mcallback\u001b[0m\u001b[0;34m(\u001b[0m\u001b[0mresult\u001b[0m\u001b[0;34m)\u001b[0m\u001b[0;34m\u001b[0m\u001b[0;34m\u001b[0m\u001b[0m\n",
      "\u001b[0;32m~/anaconda3/lib/python3.7/site-packages/joblib/_parallel_backends.py\u001b[0m in \u001b[0;36m__init__\u001b[0;34m(self, batch)\u001b[0m\n\u001b[1;32m    588\u001b[0m         \u001b[0;31m# Don't delay the application, to avoid keeping the input\u001b[0m\u001b[0;34m\u001b[0m\u001b[0;34m\u001b[0m\u001b[0;34m\u001b[0m\u001b[0m\n\u001b[1;32m    589\u001b[0m         \u001b[0;31m# arguments in memory\u001b[0m\u001b[0;34m\u001b[0m\u001b[0;34m\u001b[0m\u001b[0;34m\u001b[0m\u001b[0m\n\u001b[0;32m--> 590\u001b[0;31m         \u001b[0mself\u001b[0m\u001b[0;34m.\u001b[0m\u001b[0mresults\u001b[0m \u001b[0;34m=\u001b[0m \u001b[0mbatch\u001b[0m\u001b[0;34m(\u001b[0m\u001b[0;34m)\u001b[0m\u001b[0;34m\u001b[0m\u001b[0;34m\u001b[0m\u001b[0m\n\u001b[0m\u001b[1;32m    591\u001b[0m \u001b[0;34m\u001b[0m\u001b[0m\n\u001b[1;32m    592\u001b[0m     \u001b[0;32mdef\u001b[0m \u001b[0mget\u001b[0m\u001b[0;34m(\u001b[0m\u001b[0mself\u001b[0m\u001b[0;34m)\u001b[0m\u001b[0;34m:\u001b[0m\u001b[0;34m\u001b[0m\u001b[0;34m\u001b[0m\u001b[0m\n",
      "\u001b[0;32m~/anaconda3/lib/python3.7/site-packages/joblib/parallel.py\u001b[0m in \u001b[0;36m__call__\u001b[0;34m(self)\u001b[0m\n\u001b[1;32m    254\u001b[0m         \u001b[0;32mwith\u001b[0m \u001b[0mparallel_backend\u001b[0m\u001b[0;34m(\u001b[0m\u001b[0mself\u001b[0m\u001b[0;34m.\u001b[0m\u001b[0m_backend\u001b[0m\u001b[0;34m,\u001b[0m \u001b[0mn_jobs\u001b[0m\u001b[0;34m=\u001b[0m\u001b[0mself\u001b[0m\u001b[0;34m.\u001b[0m\u001b[0m_n_jobs\u001b[0m\u001b[0;34m)\u001b[0m\u001b[0;34m:\u001b[0m\u001b[0;34m\u001b[0m\u001b[0;34m\u001b[0m\u001b[0m\n\u001b[1;32m    255\u001b[0m             return [func(*args, **kwargs)\n\u001b[0;32m--> 256\u001b[0;31m                     for func, args, kwargs in self.items]\n\u001b[0m\u001b[1;32m    257\u001b[0m \u001b[0;34m\u001b[0m\u001b[0m\n\u001b[1;32m    258\u001b[0m     \u001b[0;32mdef\u001b[0m \u001b[0m__len__\u001b[0m\u001b[0;34m(\u001b[0m\u001b[0mself\u001b[0m\u001b[0;34m)\u001b[0m\u001b[0;34m:\u001b[0m\u001b[0;34m\u001b[0m\u001b[0;34m\u001b[0m\u001b[0m\n",
      "\u001b[0;32m~/anaconda3/lib/python3.7/site-packages/joblib/parallel.py\u001b[0m in \u001b[0;36m<listcomp>\u001b[0;34m(.0)\u001b[0m\n\u001b[1;32m    254\u001b[0m         \u001b[0;32mwith\u001b[0m \u001b[0mparallel_backend\u001b[0m\u001b[0;34m(\u001b[0m\u001b[0mself\u001b[0m\u001b[0;34m.\u001b[0m\u001b[0m_backend\u001b[0m\u001b[0;34m,\u001b[0m \u001b[0mn_jobs\u001b[0m\u001b[0;34m=\u001b[0m\u001b[0mself\u001b[0m\u001b[0;34m.\u001b[0m\u001b[0m_n_jobs\u001b[0m\u001b[0;34m)\u001b[0m\u001b[0;34m:\u001b[0m\u001b[0;34m\u001b[0m\u001b[0;34m\u001b[0m\u001b[0m\n\u001b[1;32m    255\u001b[0m             return [func(*args, **kwargs)\n\u001b[0;32m--> 256\u001b[0;31m                     for func, args, kwargs in self.items]\n\u001b[0m\u001b[1;32m    257\u001b[0m \u001b[0;34m\u001b[0m\u001b[0m\n\u001b[1;32m    258\u001b[0m     \u001b[0;32mdef\u001b[0m \u001b[0m__len__\u001b[0m\u001b[0;34m(\u001b[0m\u001b[0mself\u001b[0m\u001b[0;34m)\u001b[0m\u001b[0;34m:\u001b[0m\u001b[0;34m\u001b[0m\u001b[0;34m\u001b[0m\u001b[0m\n",
      "\u001b[0;32m~/anaconda3/lib/python3.7/site-packages/sklearn/model_selection/_validation.py\u001b[0m in \u001b[0;36m_fit_and_score\u001b[0;34m(estimator, X, y, scorer, train, test, verbose, parameters, fit_params, return_train_score, return_parameters, return_n_test_samples, return_times, return_estimator, error_score)\u001b[0m\n\u001b[1;32m    502\u001b[0m             \u001b[0mcloned_parameters\u001b[0m\u001b[0;34m[\u001b[0m\u001b[0mk\u001b[0m\u001b[0;34m]\u001b[0m \u001b[0;34m=\u001b[0m \u001b[0mclone\u001b[0m\u001b[0;34m(\u001b[0m\u001b[0mv\u001b[0m\u001b[0;34m,\u001b[0m \u001b[0msafe\u001b[0m\u001b[0;34m=\u001b[0m\u001b[0;32mFalse\u001b[0m\u001b[0;34m)\u001b[0m\u001b[0;34m\u001b[0m\u001b[0;34m\u001b[0m\u001b[0m\n\u001b[1;32m    503\u001b[0m \u001b[0;34m\u001b[0m\u001b[0m\n\u001b[0;32m--> 504\u001b[0;31m         \u001b[0mestimator\u001b[0m \u001b[0;34m=\u001b[0m \u001b[0mestimator\u001b[0m\u001b[0;34m.\u001b[0m\u001b[0mset_params\u001b[0m\u001b[0;34m(\u001b[0m\u001b[0;34m**\u001b[0m\u001b[0mcloned_parameters\u001b[0m\u001b[0;34m)\u001b[0m\u001b[0;34m\u001b[0m\u001b[0;34m\u001b[0m\u001b[0m\n\u001b[0m\u001b[1;32m    505\u001b[0m \u001b[0;34m\u001b[0m\u001b[0m\n\u001b[1;32m    506\u001b[0m     \u001b[0mstart_time\u001b[0m \u001b[0;34m=\u001b[0m \u001b[0mtime\u001b[0m\u001b[0;34m.\u001b[0m\u001b[0mtime\u001b[0m\u001b[0;34m(\u001b[0m\u001b[0;34m)\u001b[0m\u001b[0;34m\u001b[0m\u001b[0;34m\u001b[0m\u001b[0m\n",
      "\u001b[0;32m~/anaconda3/lib/python3.7/site-packages/sklearn/pipeline.py\u001b[0m in \u001b[0;36mset_params\u001b[0;34m(self, **kwargs)\u001b[0m\n\u001b[1;32m    161\u001b[0m         \u001b[0mself\u001b[0m\u001b[0;34m\u001b[0m\u001b[0;34m\u001b[0m\u001b[0m\n\u001b[1;32m    162\u001b[0m         \"\"\"\n\u001b[0;32m--> 163\u001b[0;31m         \u001b[0mself\u001b[0m\u001b[0;34m.\u001b[0m\u001b[0m_set_params\u001b[0m\u001b[0;34m(\u001b[0m\u001b[0;34m'steps'\u001b[0m\u001b[0;34m,\u001b[0m \u001b[0;34m**\u001b[0m\u001b[0mkwargs\u001b[0m\u001b[0;34m)\u001b[0m\u001b[0;34m\u001b[0m\u001b[0;34m\u001b[0m\u001b[0m\n\u001b[0m\u001b[1;32m    164\u001b[0m         \u001b[0;32mreturn\u001b[0m \u001b[0mself\u001b[0m\u001b[0;34m\u001b[0m\u001b[0;34m\u001b[0m\u001b[0m\n\u001b[1;32m    165\u001b[0m \u001b[0;34m\u001b[0m\u001b[0m\n",
      "\u001b[0;32m~/anaconda3/lib/python3.7/site-packages/sklearn/utils/metaestimators.py\u001b[0m in \u001b[0;36m_set_params\u001b[0;34m(self, attr, **params)\u001b[0m\n\u001b[1;32m     48\u001b[0m                 \u001b[0mself\u001b[0m\u001b[0;34m.\u001b[0m\u001b[0m_replace_estimator\u001b[0m\u001b[0;34m(\u001b[0m\u001b[0mattr\u001b[0m\u001b[0;34m,\u001b[0m \u001b[0mname\u001b[0m\u001b[0;34m,\u001b[0m \u001b[0mparams\u001b[0m\u001b[0;34m.\u001b[0m\u001b[0mpop\u001b[0m\u001b[0;34m(\u001b[0m\u001b[0mname\u001b[0m\u001b[0;34m)\u001b[0m\u001b[0;34m)\u001b[0m\u001b[0;34m\u001b[0m\u001b[0;34m\u001b[0m\u001b[0m\n\u001b[1;32m     49\u001b[0m         \u001b[0;31m# 3. Step parameters and other initialisation arguments\u001b[0m\u001b[0;34m\u001b[0m\u001b[0;34m\u001b[0m\u001b[0;34m\u001b[0m\u001b[0m\n\u001b[0;32m---> 50\u001b[0;31m         \u001b[0msuper\u001b[0m\u001b[0;34m(\u001b[0m\u001b[0;34m)\u001b[0m\u001b[0;34m.\u001b[0m\u001b[0mset_params\u001b[0m\u001b[0;34m(\u001b[0m\u001b[0;34m**\u001b[0m\u001b[0mparams\u001b[0m\u001b[0;34m)\u001b[0m\u001b[0;34m\u001b[0m\u001b[0;34m\u001b[0m\u001b[0m\n\u001b[0m\u001b[1;32m     51\u001b[0m         \u001b[0;32mreturn\u001b[0m \u001b[0mself\u001b[0m\u001b[0;34m\u001b[0m\u001b[0;34m\u001b[0m\u001b[0m\n\u001b[1;32m     52\u001b[0m \u001b[0;34m\u001b[0m\u001b[0m\n",
      "\u001b[0;32m~/anaconda3/lib/python3.7/site-packages/sklearn/base.py\u001b[0m in \u001b[0;36mset_params\u001b[0;34m(self, **params)\u001b[0m\n\u001b[1;32m    234\u001b[0m                                  \u001b[0;34m'Check the list of available parameters '\u001b[0m\u001b[0;34m\u001b[0m\u001b[0;34m\u001b[0m\u001b[0m\n\u001b[1;32m    235\u001b[0m                                  \u001b[0;34m'with `estimator.get_params().keys()`.'\u001b[0m \u001b[0;34m%\u001b[0m\u001b[0;34m\u001b[0m\u001b[0;34m\u001b[0m\u001b[0m\n\u001b[0;32m--> 236\u001b[0;31m                                  (key, self))\n\u001b[0m\u001b[1;32m    237\u001b[0m \u001b[0;34m\u001b[0m\u001b[0m\n\u001b[1;32m    238\u001b[0m             \u001b[0;32mif\u001b[0m \u001b[0mdelim\u001b[0m\u001b[0;34m:\u001b[0m\u001b[0;34m\u001b[0m\u001b[0;34m\u001b[0m\u001b[0m\n",
      "\u001b[0;31mValueError\u001b[0m: Invalid parameter n_estimators for estimator Pipeline(memory=None,\n         steps=[('lem-cv-0',\n                 FunctionTransformer(accept_sparse=False, check_inverse=True,\n                                     func=<numpy.vectorize object at 0x7f2fb438af10>,\n                                     inv_kw_args=None, inverse_func=None,\n                                     kw_args=None, validate=False)),\n                ('cv-l0',\n                 CountVectorizer(analyzer='word', binary=False,\n                                 decode_error='strict',\n                                 dtype=<class 'numpy.int64'>, encoding='utf-8',\n                                 input='content', lower...\n                 RandomForestClassifier(bootstrap=True, ccp_alpha=0.0,\n                                        class_weight=None, criterion='gini',\n                                        max_depth=None, max_features='auto',\n                                        max_leaf_nodes=None, max_samples=None,\n                                        min_impurity_decrease=0.0,\n                                        min_impurity_split=None,\n                                        min_samples_leaf=1, min_samples_split=2,\n                                        min_weight_fraction_leaf=0.0,\n                                        n_estimators=100, n_jobs=None,\n                                        oob_score=False, random_state=None,\n                                        verbose=0, warm_start=False))],\n         verbose=False). Check the list of available parameters with `estimator.get_params().keys()`."
     ]
    }
   ],
   "source": [
    "res_tuning = []\n",
    "\n",
    "for tuner in tunerz:\n",
    "    \n",
    "    modelz = [\n",
    "        ('logit', LogisticRegression(  ) ),\n",
    "        ('rfc', RandomForestClassifier(  ) ),   \n",
    "        ('svm', SVC(   ) ) , \n",
    "#         ('gnb', GaussianNB( **paramz[3] ) ),\n",
    "        ('dt', DecisionTreeClassifier(   ) ), \n",
    "        ('dnn', MLPClassifier(   ) ), \n",
    "    ]\n",
    "\n",
    "    acc= []\n",
    "    for i, model in enumerate(modelz):\n",
    "         #('minmax', MinMaxScaler()),\n",
    "        res = run_with ( GridSearchCV( Pipeline([ *tuner.preprocessors, model ]), tuner.paramz[i], cv=5) ,\n",
    "\n",
    "                        f\"{i+1}. {model[0]}\",\n",
    "\n",
    "                        X_train, X_test, y_train, y_test, \n",
    "\n",
    "                        logit=False\n",
    "                 )\n",
    "        acc.append( [model[0], *res] )\n",
    "\n",
    "\n",
    "    d = pd.DataFrame.from_records(acc)\n",
    "    d.columns = ['model', 'train_acc', 'test_acc']\n",
    "    d = pd.melt(d, id_vars=['model'], \n",
    "                   value_vars=['train_acc', 'test_acc'], \n",
    "                   var_name='acc', value_name='score')\n",
    "    \n",
    "    res_tuning.append( (tuner.name, d ) )\n",
    "    "
   ]
  },
  {
   "cell_type": "code",
   "execution_count": 28,
   "metadata": {},
   "outputs": [
    {
     "data": {
      "image/png": "[encoded data removed]",
      "text/plain": [
       "<Figure size 1008x288 with 2 Axes>"
      ]
     },
     "metadata": {
      "needs_background": "light"
     },
     "output_type": "display_data"
    }
   ],
   "source": [
    "##Plot results\n",
    "n_res = len(res_tuning)\n",
    "n_c = 2\n",
    "n_r = n_res//2 if (n_res%2) == 0 else (n_res//2) + 1\n",
    "\n",
    "fig, axs = plt.subplots( n_r, n_c, figsize=(7*n_c, 4*n_r) )\n",
    "axs = axs.ravel()\n",
    "for i, rez in enumerate(res_tuning):\n",
    "    sns.lineplot(x='model', y='score', hue='acc',data=rez[1], ax=axs[i] )\n",
    "    axs[i].set_title( f\"{i}. {rez[0]}\" ); "
   ]
  },
  {
   "cell_type": "markdown",
   "metadata": {},
   "source": [
    "### Rebalance dataset\n",
    "Balance proportion of negatives to positive reviews"
   ]
  },
  {
   "cell_type": "code",
   "execution_count": 29,
   "metadata": {},
   "outputs": [],
   "source": [
    "class Sentiment:\n",
    "    NEGATIVE = \"Negative\"\n",
    "    POSITIVE = 'Positive'\n",
    "    NEUTRAL = 'Neutral'\n",
    "    \n",
    "class Review:\n",
    "    def __init__(self, comment, score ):\n",
    "        self.comment = comment\n",
    "        self.score = score\n",
    "        \n",
    "    @property\n",
    "    def sentiment(self):\n",
    "        if self.score <= 2:\n",
    "            return Sentiment.NEGATIVE\n",
    "        elif self.score == 3: \n",
    "            return Sentiment.NEUTRAL\n",
    "        else:\n",
    "            return Sentiment.POSITIVE    \n",
    "        \n",
    "    def __repr__(self):\n",
    "        return f\"Review( txt:'{self.comment[:20]}...', y:'{self.score}', sent:'{self.sentiment}' )\"\n",
    "\n"
   ]
  },
  {
   "cell_type": "code",
   "execution_count": 30,
   "metadata": {},
   "outputs": [
    {
     "data": {
      "text/plain": [
       "Review( txt:'Da Silva takes the d...', y:'4.0', sent:'Positive' )"
      ]
     },
     "execution_count": 30,
     "metadata": {},
     "output_type": "execute_result"
    }
   ],
   "source": [
    "rev_objs = df_revz.apply( lambda x: Review(x.comment, x.rating), axis = 1 )\n",
    "rev_objs[0]"
   ]
  },
  {
   "cell_type": "code",
   "execution_count": 31,
   "metadata": {},
   "outputs": [],
   "source": [
    "class DataSet:\n",
    "    def __init__(self, fname):\n",
    "        self.fname = fname\n",
    "#         self.X_train, self.X_test, self.y_train, self.y_test = None, None, None, None\n",
    "        \n",
    "    def load(self): \n",
    "        self.reviewz = []\n",
    "        with open(self.fname, 'r') as fd:\n",
    "            for line in fd:\n",
    "                ln = json.loads(line)\n",
    "                self.reviewz.append( Review( ln['reviewText'], ln['overall']) )       \n",
    "\n",
    "    def rebalance_negativez(self):        \n",
    "        negz = list(filter( lambda x: x.sentiment == Sentiment.NEGATIVE, self.reviewz ) )\n",
    "        posz = list(filter( lambda x: x.sentiment == Sentiment.POSITIVE, self.reviewz ) )\n",
    "        neutz = list(filter( lambda x: x.sentiment == Sentiment.NEUTRAL, self.reviewz ) )\n",
    "        random.shuffle(posz)\n",
    "        self.reviewz = negz + posz[: len(negz)] + neutz[:min(len(neutz), len(negz))] \n",
    "        random.shuffle( self.reviewz )\n",
    "    \n",
    "    def train_test_split(self, tr=0.3):\n",
    "        self.train_test_sets  = (train_test_split( \n",
    "                                    [ x.comment for x in self.reviewz ], \n",
    "                                    [ x.score for x in self.reviewz ], \n",
    "                                    test_size=tr, random_state=59) ) \n",
    "        return self.train_test_sets \n",
    "        \n",
    "    @property\n",
    "    def training_set(self):\n",
    "        return self.X_train, self.y_train\n",
    "    @property\n",
    "    def testing_set(self):\n",
    "        return self.X_test, self.y_test\n",
    "    @property\n",
    "    def train_test_sets(self): \n",
    "        return self.X_train, self.X_test, self.y_train, self.y_test\n",
    "    \n",
    "    @train_test_sets.setter\n",
    "    def train_test_sets(self,dv):\n",
    "        self.X_train, self.X_test, self.y_train, self.y_test = dv\n",
    "        "
   ]
  },
  {
   "cell_type": "code",
   "execution_count": 32,
   "metadata": {},
   "outputs": [
    {
     "name": "stdout",
     "output_type": "stream",
     "text": [
      "Len X_train: 1352\n",
      "Len X_test: 580\n"
     ]
    },
    {
     "data": {
      "image/png": "[encoded data removed]",
      "text/plain": [
       "<Figure size 432x288 with 2 Axes>"
      ]
     },
     "metadata": {
      "needs_background": "light"
     },
     "output_type": "display_data"
    }
   ],
   "source": [
    "revz_dset = DataSet('Books_small_10000.json')\n",
    "revz_dset.load()\n",
    "revz_dset.rebalance_negativez()\n",
    "revz_dset.train_test_split()\n",
    "\n",
    "print( f\"Len X_train: {len(revz_dset.X_train)}\")\n",
    "print( f\"Len X_test: {len(revz_dset.X_test)}\")\n",
    "\n",
    "plt.subplot(1, 2, 1)\n",
    "sns.countplot( revz_dset.y_train)\n",
    "plt.title('Training Data - y dist')\n",
    "plt.xlabel('Rating (y, target)') \n",
    "\n",
    "plt.subplot(1, 2, 2)\n",
    "sns.countplot( revz_dset.y_test )\n",
    "plt.title('Test Data - y dist')\n",
    "plt.xlabel('Rating (y, target)'); "
   ]
  },
  {
   "cell_type": "code",
   "execution_count": 57,
   "metadata": {},
   "outputs": [
    {
     "name": "stdout",
     "output_type": "stream",
     "text": [
      "72  options\n"
     ]
    }
   ],
   "source": [
    "tunerz = []\n",
    "\n",
    "n_gramz = [ (1,1), (1,2), (1,3), (2,2), (2,3), (3,3)]\n",
    "\n",
    "paramz_tune = [\n",
    "    #name, 0:logit, 1:rfc, 2:svm, 3:gnb, 4:dt, 5:dnn \n",
    "    ['defaults',\n",
    "     ( {}, \n",
    "     {'n_estimators':200 }, \n",
    "     {'C': 1, 'kernel':'rbf' }, \n",
    "     {}, \n",
    "     {}, \n",
    "     {'hidden_layer_sizes':(64, 64, 32, 5), 'max_iter':1000 } )\n",
    "    ],  \n",
    "    \n",
    "    ['option1',\n",
    "     ( {}, \n",
    "     {'n_estimators':200 }, \n",
    "     {'C': 1, 'kernel':'rbf' }, \n",
    "     {}, \n",
    "     {}, \n",
    "     {'hidden_layer_sizes':(128, 64, 64, 32, 5), 'max_iter':1000} )\n",
    "    ],  \n",
    "]\n",
    "     \n",
    "for i, paramz in enumerate(paramz_tune):\n",
    "    p_name=\"all-words, bow\"\n",
    "    for j, nz in enumerate(n_gramz):\n",
    "         tunerz.append( \n",
    "             ModelConf(f\"{i+1}.{paramz[0]}-{p_name}-{nz}\", \n",
    "                       [ (f'cv-{j}', CountVectorizer(ngram_range=nz ) ) ],\n",
    "                       paramz[1]\n",
    "                      )\n",
    "            )\n",
    "     \n",
    "    p_name=\"all-words, tfidf\"\n",
    "    for j, nz in enumerate(n_gramz):\n",
    "         tunerz.append( \n",
    "             ModelConf(f\"{i+1}.{paramz[0]}-{p_name}-{nz}\", \n",
    "                       [ (f'tf-{j}', TfidfVectorizer(ngram_range=nz ) ) ],\n",
    "                       paramz[1]\n",
    "                      )\n",
    "            )\n",
    "     \n",
    "    p_name=\"stops-only, bow\"\n",
    "    for j, nz in enumerate(n_gramz):\n",
    "         tunerz.append( \n",
    "             ModelConf(f\"{i+1}.{paramz[0]}-{p_name}-{nz}\", \n",
    "                       [ ('cv{j}', CountVectorizer(ngram_range=nz ) ) ],\n",
    "                       paramz[1]\n",
    "                      )\n",
    "            )\n",
    "     \n",
    "    p_name=\"stops-only, tfidf\"\n",
    "    for j, nz in enumerate(n_gramz):\n",
    "         tunerz.append( \n",
    "             ModelConf(f\"{i+1}.{paramz[0]}-{p_name}-{nz}\", \n",
    "                       [ ('cv{j}', TfidfVectorizer(ngram_range=nz ) ) ],\n",
    "                       paramz[1]\n",
    "                      )\n",
    "            )\n",
    "     \n",
    "     \n",
    "    p_name=\"stops-lemma, bow\"\n",
    "    for j, nz in enumerate(n_gramz):\n",
    "         tunerz.append( \n",
    "             ModelConf(f\"{i+1}.{paramz[0]}-{p_name}-{nz}\", \n",
    "                       [ (f'lem-cv-{j}', FunctionTransformer( np.vectorize(lemmaz))),\n",
    "                         (f'cv-l{j}', CountVectorizer(ngram_range=nz, stop_words='english' ) ) ],\n",
    "                       paramz[1]\n",
    "                      )\n",
    "            )\n",
    "     \n",
    "    p_name=\"stops-lemma, tfidf\"\n",
    "    for j, nz in enumerate(n_gramz):\n",
    "         tunerz.append( \n",
    "             ModelConf(f\"{i+1}.{paramz[0]}-{p_name}-{nz}\", \n",
    "                       [ (f'lem-tf-{j}', FunctionTransformer( np.vectorize(lemmaz))),\n",
    "                          (f'tf-l{j}', TfidfVectorizer(ngram_range=nz,stop_words='english' ) ) ],\n",
    "                       paramz[1]\n",
    "                      )\n",
    "            )\n",
    "\n",
    "print( len(tunerz), \" options\") #\" \\n0 = \", tunerz[0])"
   ]
  },
  {
   "cell_type": "code",
   "execution_count": 53,
   "metadata": {},
   "outputs": [
    {
     "name": "stdout",
     "output_type": "stream",
     "text": [
      "Len training: 1352\n",
      "Len testing: 580\n"
     ]
    }
   ],
   "source": [
    "X_train, X_test, y_train, y_test = revz_dset.train_test_sets\n",
    "\n",
    "print( f\"Len training: {len(X_train)}\" )\n",
    "print( f\"Len testing: {len(X_test)}\" )"
   ]
  },
  {
   "cell_type": "code",
   "execution_count": null,
   "metadata": {},
   "outputs": [],
   "source": [
    "res_tuning = []\n",
    "\n",
    "for tuner in tunerz:\n",
    "    \n",
    "    modelz = [\n",
    "        ('logit', LogisticRegression( **tuner.paramz[0] ) ),\n",
    "        ('rfc', RandomForestClassifier( **tuner.paramz[1] ) ),   \n",
    "        ('svm', SVC( **tuner.paramz[2] ) ) , \n",
    "#         ('gnb', GaussianNB( **paramz[3] ) ),\n",
    "        ('dt', DecisionTreeClassifier( **tuner.paramz[4] ) ), \n",
    "        ('dnn', MLPClassifier( **tuner.paramz[5] ) ), \n",
    "    ]\n",
    "\n",
    "    acc= []\n",
    "    for i, model in enumerate(modelz):\n",
    "         #('minmax', MinMaxScaler()), GridSearchCV( Pipeline([ *tuner.preprocessors, model ]), tuner.paramz[i], cv=5) \n",
    "        res = run_with ( Pipeline([ *tuner.preprocessors, model ] ),\n",
    "\n",
    "                        f\"{i+1}. {model[0]}\",\n",
    "\n",
    "                        X_train, X_test, y_train, y_test, \n",
    "\n",
    "                        logit=False\n",
    "                 )\n",
    "        acc.append( [model[0], *res] )\n",
    "\n",
    "\n",
    "    d = pd.DataFrame.from_records(acc)\n",
    "    d.columns = ['model', 'train_acc', 'test_acc']\n",
    "    d = pd.melt(d, id_vars=['model'], \n",
    "                   value_vars=['train_acc', 'test_acc'], \n",
    "                   var_name='acc', value_name='score')\n",
    "    \n",
    "    res_tuning.append( (tuner.name, d ) )\n",
    "    "
   ]
  },
  {
   "cell_type": "code",
   "execution_count": null,
   "metadata": {},
   "outputs": [],
   "source": [
    "##Plot results\n",
    "n_res = len(res_tuning)\n",
    "n_c = 2\n",
    "n_r = n_res//2 if (n_res%2) == 0 else (n_res//2) + 1\n",
    "\n",
    "fig, axs = plt.subplots( n_r, n_c, figsize=(7*n_c, 4*n_r) )\n",
    "axs = axs.ravel()\n",
    "for i, rez in enumerate(res_tuning):\n",
    "    sns.lineplot(x='model', y='score', hue='acc',data=rez[1], ax=axs[i] )\n",
    "    axs[i].set_title( f\"{rez[0]}\" ); "
   ]
  },
  {
   "cell_type": "code",
   "execution_count": null,
   "metadata": {},
   "outputs": [],
   "source": []
  }
 ],
 "metadata": {
  "kernelspec": {
   "display_name": "Python 3",
   "language": "python",
   "name": "python3"
  },
  "language_info": {
   "codemirror_mode": {
    "name": "ipython",
    "version": 3
   },
   "file_extension": ".py",
   "mimetype": "text/x-python",
   "name": "python",
   "nbconvert_exporter": "python",
   "pygments_lexer": "ipython3",
   "version": "3.7.6"
  }
 },
 "nbformat": 4,
 "nbformat_minor": 4
}
