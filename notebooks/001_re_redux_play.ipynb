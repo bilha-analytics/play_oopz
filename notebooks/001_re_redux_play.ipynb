{
 "cells": [
  {
   "cell_type": "raw",
   "metadata": {},
   "source": [
    "<script>\n",
    "code_show=true; \n",
    "function code_toggle() {\n",
    " if (code_show){\n",
    " $('div.input').hide();\n",
    " } else {\n",
    " $('div.input').show();\n",
    " }\n",
    " code_show = !code_show\n",
    "} \n",
    "$( document ).ready(code_toggle);\n",
    "</script>\n",
    "<a href=\"javascript:code_toggle()\">Show/Hide Code</a>."
   ]
  },
  {
   "cell_type": "markdown",
   "metadata": {},
   "source": [
    "# Intro\n",
    "Playing with things that become obvious with time that I don't think much about then and I've probably hidden them in some helper/util function/class somewhere such that I don't directly use it often.\n"
   ]
  },
  {
   "cell_type": "code",
   "execution_count": 136,
   "metadata": {},
   "outputs": [],
   "source": [
    "import pandas as pd\n",
    "import numpy as np\n",
    "from matplotlib import pyplot as plt\n",
    "import seaborn as sns\n",
    "\n",
    "%matplotlib inline "
   ]
  },
  {
   "cell_type": "code",
   "execution_count": 2,
   "metadata": {},
   "outputs": [],
   "source": [
    "import requests\n",
    "from bs4 import BeautifulSoup as BSoup\n",
    "from newspaper import Article \n",
    "\n",
    "class HtmlPageLoader(object):\n",
    "    \n",
    "    @staticmethod\n",
    "    def getPageHtml(url):\n",
    "        header = {'User-Agent': 'Mozilla/5.0 (Macintosh; Intel Mac OS X 10_11_5) AppleWebKit/537.36 (KHTML, like Gecko) Chrome/50.0.2661.102 Safari/537.36'}\n",
    "        return requests.get(url, headers=header ).content.decode() \n",
    "    \n",
    "    @staticmethod\n",
    "    def getPageArticle(url):\n",
    "        art = Article(url)\n",
    "        art.download()\n",
    "        art.parse()\n",
    "        return art #.text\n",
    "    \n",
    "    @staticmethod\n",
    "    def getPageTable(url, tbl_id=None):\n",
    "        html = HtmlPageLoader.getPageHtml(url) \n",
    "        if tbl_id:\n",
    "            html = BSoup(html, 'html-parser')\n",
    "            html = BSoupt.find_all(id=tbl_id )\n",
    "            \n",
    "        dfs = pd.read_html( html ) \n",
    "        \n",
    "        return dfs"
   ]
  },
  {
   "cell_type": "markdown",
   "metadata": {},
   "source": [
    "# 1. Text Processing"
   ]
  },
  {
   "cell_type": "code",
   "execution_count": 3,
   "metadata": {},
   "outputs": [],
   "source": [
    "from nltk import tokenize, FreqDist\n",
    "from nltk.stem import WordNetLemmatizer\n",
    "import string, re\n",
    "\n",
    "class MyCorpora(object):        \n",
    "        \n",
    "    def __init__(self, lemmatize=False, remove_numbers=False, stop_words='english'):\n",
    "        self.lemmatize=lemmatize\n",
    "        self.remove_numbers = remove_numbers\n",
    "        self.stop_words = stop_words\n",
    "        \n",
    "    ###--- OPTS: TODO: regex \n",
    "    ## 1. remove puncts in all    TODO: keep - and _ iff join words\n",
    "    ## 2. remove numbers \n",
    "    def clean_nonwords(self, input_txt):\n",
    "        res = [ w for w in input_txt if w not in string.punctuation]\n",
    "        if self.remove_numbers:\n",
    "            res = [w for w in input_txt if w.isalpha() ] \n",
    "        return res\n",
    "    \n",
    "    @property\n",
    "    def sentences(self):\n",
    "        return tokenize.sent_tokenize( self.text )\n",
    "    @property\n",
    "    def words(self):\n",
    "        return [w.lower().strip() for w in self.clean_nonwords( tokenize.word_tokenize( self.text ) )]\n",
    "    @property \n",
    "    def vocab( self ):\n",
    "        return sorted( set(self.words ) ) \n",
    "    @property\n",
    "    def lexical_diversity(self):\n",
    "        return len( self.vocab) / len(self.words )    \n",
    "    @property    \n",
    "    def freq_dist(self):\n",
    "        return FreqDist( self.words )\n",
    "    \n",
    "    def top_n_words(self, top_n=None):\n",
    "        return FreqDist( self.words ).most_common(top_n)\n",
    "    \n",
    "    def long_words(self, min_len=7, sort_by_freq=False):\n",
    "        fdist = FreqDist(self.words )\n",
    "        return [ (w, fdist[w]) for w in self.vocab if len(w) >= min_len ]\n",
    "    \n",
    "    def common_words(self, min_freq=30):        \n",
    "        fdist = FreqDist(self.words )\n",
    "        return [ (w, fdist[w]) for w in self.vocab if fdist[w] >= min_freq ]\n",
    "    \n",
    "    def sentences_with_word(self, word ):\n",
    "        pass \n",
    "        \n",
    "        \n",
    "        \n",
    "class UrlMixin():\n",
    "    def __init__(self, url):\n",
    "        self.url = url\n",
    "        self.parseText( )\n",
    "        super().__init__(self)\n",
    "    \n",
    "    def parseText(self):\n",
    "        pass \n",
    "            \n",
    "\n",
    "\n",
    "class MyCorporaText(MyCorpora):    \n",
    "    def __init__(self, plain_text ):\n",
    "        super(MyCorporaText, self).__init__()\n",
    "        self.text = plain_text\n",
    "        self.url = 'txt'    \n",
    "\n",
    "        \n",
    "        \n",
    "class MyCorporaArticle(UrlMixin, MyCorpora ):    \n",
    "    def __init__(self, src_text):\n",
    "        super(MyCorporaArticle, self).__init__(src_text)\n",
    "        \n",
    "    def parseText(self):\n",
    "        self.article = HtmlPageLoader.getPageArticle(self.url)\n",
    "        self.text = self.article.text \n",
    "\n",
    "        \n",
    "        \n",
    "class MyCorporaTable(UrlMixin, MyCorpora):    \n",
    "    def __init__(self, src_text, tbl_id=None, txt_col=None):\n",
    "        self.tbl_id = tbl_id\n",
    "        self.txt_col = txt_col\n",
    "        super(MyCorporaTable, self).__init__(src_text )       \n",
    "        \n",
    "    def parseText(self):        \n",
    "        self.dframe = pd.concat( HtmlPageLoader.getPageTable(self.url, tbl_id=self.tbl_id ) ) ##concat Vs use first tbl\n",
    "        \n",
    "        docs =  self.dframe[self.txt_col].values.tolist() if self.txt_col else  self.dframe.values.tolist()\n",
    "        \n",
    "        self.text = \"\\n\".join( [ \" \".join([str(w) for w in l if str(w).lower() not in ['nan',]]) for l in docs ] ) ##TODO better\n",
    "        self.text = re.sub(\"[ \\[\\], ]\", \" \", self.text)\n",
    "  \n",
    "        "
   ]
  },
  {
   "cell_type": "code",
   "execution_count": 4,
   "metadata": {},
   "outputs": [],
   "source": [
    "from sklearn.feature_extraction.text import CountVectorizer, TfidfVectorizer, HashingVectorizer\n",
    "\n",
    "class TextEncoder(object): \n",
    "    def __init__(self, **kwargs):\n",
    "        self.preprocessor = kwargs \n",
    "        self.bow_encoder = None\n",
    "        self.tfidf_encoder = None\n",
    "        self.hash_encoder = None\n",
    "        \n",
    "        self.encoding_bow = None\n",
    "        self.encoding_tfidf = None\n",
    "        self.encoding_hash = None\n",
    "    \n",
    "    \n",
    "    @property \n",
    "    def preprocessor(self,):\n",
    "        return self.config\n",
    "    \n",
    "    ### TODO\n",
    "    @preprocessor.setter \n",
    "    def preprocessor(self, kwargs):\n",
    "        self.config = {\n",
    "            'stop_words': 'english', \n",
    "            'ngram_range': (1,1), \n",
    "            **kwargs\n",
    "        }\n",
    "    def encode_bow(self, text):\n",
    "        self.bow_encoder = CountVectorizer( **self.preprocessor )\n",
    "        self.encoding_bow = self.bow_encoder.fit_transform( text )\n",
    "        return self.encoding_bow\n",
    "        \n",
    "    def transform_bow(self, text):\n",
    "        return self.bow_encoder.transform( text )\n",
    "    \n",
    "    def encode_tfidf(self, text):\n",
    "        self.tfidf_encoder = TfidfVectorizer( **self.preprocessor )\n",
    "        self.encoding_tfidf = self.tfidf_encoder.fit_transform( text )\n",
    "        return self.encoding_tfidf \n",
    "        \n",
    "    def transform_tfidf(self, text):\n",
    "        return self.tfidf_encoder.transform( text )\n",
    "    \n",
    "    def encode_hash(self, text, n_feats=20):\n",
    "        self.hash_encoder = HashingVectorizer(n_features=n_feats)\n",
    "        self.encoding_hash = self.hash_encoder.transform( text ) ##don't need to fit directly\n",
    "        return self.encoding_hash\n",
    "        \n",
    "    def transform_hash(self, text):\n",
    "        return self.hash_encoder.transform( text )\n",
    "            \n",
    "    \n",
    "    def transform(self, text):\n",
    "        return self.bow_encoder.transform( text ) if self.bow_encoder else\\\n",
    "                self.tfidf_encoder.transform( text ) if self.tfidf_encoder else\\\n",
    "                    self.hash_encoder.transform( text ) if self.hash_encoder else None\n",
    "    \n",
    "    @property\n",
    "    def encoder(self):\n",
    "        return self.bow_encoder if self.bow_encoder else\\\n",
    "                self.tfidf_encoder if self.tfidf_encoder else\\\n",
    "                    self.hash_encoder if self.hash_encoder else None\n",
    "    \n",
    "    @property\n",
    "    def encoded_matrix(self):\n",
    "        return self.encoding_bow if self.encoding_bow is not None else\\\n",
    "                self.encoding_tfidf if self.encoding_tfidf is not None else \\\n",
    "                    self.encoding_hash if self.encoding_hash is not None else None    \n",
    "    \n",
    "    @property\n",
    "    def encoder_vocab(self):\n",
    "        return self.bow_encoder.vocabulary_ if self.bow_encoder else\\\n",
    "                self.tfidf_encoder.vocabulary_ if self.tfidf_encoder else None\n",
    "        \n",
    "    @property\n",
    "    def encoder_stops(self):\n",
    "        return self.bow_encoder.get_stop_words() if self.bow_encoder else\\\n",
    "                self.tfidf_encoder.get_stop_words() if self.tfidf_encoder else\\\n",
    "                    self.hash_encoder.get_stop_words() if self.hash_encoder else None\n",
    "    \n",
    "    @property\n",
    "    def encoder_features(self):\n",
    "        return self.bow_encoder.get_feature_names() if self.bow_encoder else\\\n",
    "                self.tfidf_encoder.get_feature_names() if self.tfidf_encoder else None\n",
    "    "
   ]
  },
  {
   "cell_type": "code",
   "execution_count": 5,
   "metadata": {},
   "outputs": [],
   "source": [
    "def printCorpora(text, top_n=20, showtext=False):\n",
    "    print(f\"{type(text)}\")\n",
    "    print(f\"--- {text.url[:20]} ---\")\n",
    "    print(f\">> {text.text[:50]}\")\n",
    "    print(f\"# sentences: { len(text.sentences ) }\")\n",
    "    print(f\"# words: { len(text.words) }\")\n",
    "    print(f\"# vocab: { len(text.vocab) }\")\n",
    "    print(f\"# lex diversity: { '{:.2f}'.format(text.lexical_diversity * 100) }%\")\n",
    "    \n",
    "    if showtext:\n",
    "        print( f\"\\n>>--- Sentences: ---\\n{text.sentences}\\n\" )\n",
    "        print( f\">>--- Words: --- \\n{text.words}\\n\" )\n",
    "        print( f\">>--- Vocab: ---\\n{text.vocab}\\n\" )\n",
    "        print( f\">>--- FreqDist: ---\\n{text.freq_dist.tabulate()}\\n\" )\n",
    "    \n",
    "    text.freq_dist.plot( top_n )    \n",
    "        \n",
    "def printEncoder(encoder, showtext=False):\n",
    "    print( f\"--- Encoder { type(encoder.encoder) }--- \")\n",
    "    print( f\"--- ---\\n{ encoder.encoder } \")\n",
    "    print( f\"--- Vocab size: { len(encoder.encoder_vocab) if encoder.encoder_vocab else 0 }--- \")\n",
    "    print( f\"--- Features size: { len(encoder.encoder_features) if encoder.encoder_features else 0 }--- \")\n",
    "    print( f\"--- Stopwords size: { len(encoder.encoder_stops) if encoder.encoder_stops else 0 }--- \")\n",
    "    print( f\"--- ---\\n{ encoder.encoded_matrix[:1] } \")\n",
    "\n",
    "    if showtext:\n",
    "        print( f\"\\n>>--- Vocab: { (encoder.encoder_vocab) }--- \")\n",
    "        print( f\"\\n>>--- Features: { (encoder.encoder_features) }--- \")\n",
    "        print( f\"\\n>>--- Stopwords: { (encoder.encoder_stops) }--- \")"
   ]
  },
  {
   "cell_type": "code",
   "execution_count": 6,
   "metadata": {},
   "outputs": [
    {
     "name": "stdout",
     "output_type": "stream",
     "text": [
      "<class '__main__.MyCorporaArticle'>\n",
      "--- https://edition.cnn. ---\n",
      ">> (CNN) New Zealand has marked an enviable milestone\n",
      "# sentences: 35\n",
      "# words: 785\n",
      "# vocab: 336\n",
      "# lex diversity: 42.80%\n"
     ]
    },
    {
     "data": {
      "image/png": "[encoded data removed]",
      "text/plain": [
       "<Figure size 432x288 with 1 Axes>"
      ]
     },
     "metadata": {
      "needs_background": "light"
     },
     "output_type": "display_data"
    }
   ],
   "source": [
    "xurl=\"https://edition.cnn.com/2020/08/10/asia/new-zealand-coronavirus-milestone-intl-hnk-scli/index.html\"\n",
    "corptxt = MyCorporaArticle( xurl )\n",
    "printCorpora( corptxt ) "
   ]
  },
  {
   "cell_type": "code",
   "execution_count": 13,
   "metadata": {
    "scrolled": false
   },
   "outputs": [
    {
     "name": "stdout",
     "output_type": "stream",
     "text": [
      "<class '__main__.MyCorporaTable'>\n",
      "--- https://en.wikipedia ---\n",
      ">> 14.0 Tinu Elejogun\n",
      "25.0 Blaszczyk Kostrzewski\n",
      "18.0\n",
      "# sentences: 2\n",
      "# words: 290\n",
      "# vocab: 212\n",
      "# lex diversity: 73.10%\n"
     ]
    },
    {
     "data": {
      "image/png": "[encoded data removed]",
      "text/plain": [
       "<Figure size 432x288 with 1 Axes>"
      ]
     },
     "metadata": {
      "needs_background": "light"
     },
     "output_type": "display_data"
    }
   ],
   "source": [
    "corptbl = MyCorporaTable(\"https://en.wikipedia.org/wiki/Table_(information)\")\n",
    "printCorpora(corptbl  , showtext=False)\n",
    "#corptbl.text\n",
    "#corptbl.dframe"
   ]
  },
  {
   "cell_type": "code",
   "execution_count": 8,
   "metadata": {},
   "outputs": [
    {
     "name": "stdout",
     "output_type": "stream",
     "text": [
      "<class '__main__.MyCorporaText'>\n",
      "--- txt ---\n",
      ">> The quick brown fox jumped over the lazy dogs! yes\n",
      "# sentences: 3\n",
      "# words: 13\n",
      "# vocab: 11\n",
      "# lex diversity: 84.62%\n",
      "\n",
      ">>--- Sentences: ---\n",
      "['The quick brown fox jumped over the lazy dogs!', 'yes, yes he did!', '!']\n",
      "\n",
      ">>--- Words: --- \n",
      "['the', 'quick', 'brown', 'fox', 'jumped', 'over', 'the', 'lazy', 'dogs', 'yes', 'yes', 'he', 'did']\n",
      "\n",
      ">>--- Vocab: ---\n",
      "['brown', 'did', 'dogs', 'fox', 'he', 'jumped', 'lazy', 'over', 'quick', 'the', 'yes']\n",
      "\n",
      "   the    yes  quick  brown    fox jumped   over   lazy   dogs     he    did \n",
      "     2      2      1      1      1      1      1      1      1      1      1 \n",
      ">>--- FreqDist: ---\n",
      "None\n",
      "\n"
     ]
    },
    {
     "data": {
      "image/png": "[encoded data removed]",
      "text/plain": [
       "<Figure size 432x288 with 1 Axes>"
      ]
     },
     "metadata": {
      "needs_background": "light"
     },
     "output_type": "display_data"
    }
   ],
   "source": [
    "corptxt = MyCorporaText(\"The quick brown fox jumped over the lazy dogs! yes, yes he did!!\" )\n",
    "printCorpora( corptxt , showtext=True) \n"
   ]
  },
  {
   "cell_type": "code",
   "execution_count": 9,
   "metadata": {
    "scrolled": false
   },
   "outputs": [
    {
     "name": "stdout",
     "output_type": "stream",
     "text": [
      "--- Encoder <class 'sklearn.feature_extraction.text.CountVectorizer'>--- \n",
      "--- ---\n",
      "CountVectorizer(analyzer='word', binary=False, decode_error='strict',\n",
      "                dtype=<class 'numpy.int64'>, encoding='utf-8', input='content',\n",
      "                lowercase=True, max_df=1.0, max_features=None, min_df=1,\n",
      "                ngram_range=(1, 1), preprocessor=None, stop_words='english',\n",
      "                strip_accents=None, token_pattern='(?u)\\\\b\\\\w\\\\w+\\\\b',\n",
      "                tokenizer=None, vocabulary=None) \n",
      "--- Vocab size: 8--- \n",
      "--- Features size: 8--- \n",
      "--- Stopwords size: 318--- \n",
      "--- ---\n",
      "  (0, 6)\t1\n",
      "  (0, 0)\t1\n",
      "  (0, 3)\t1\n",
      "  (0, 4)\t1\n",
      "  (0, 5)\t1\n",
      "  (0, 2)\t1 \n"
     ]
    }
   ],
   "source": [
    "encoder = TextEncoder( ngram_range=(1,1) )\n",
    "encoder.encode_bow( corptxt.sentences )\n",
    "printEncoder( encoder , showtext=False)"
   ]
  },
  {
   "cell_type": "code",
   "execution_count": 10,
   "metadata": {},
   "outputs": [
    {
     "name": "stdout",
     "output_type": "stream",
     "text": [
      "  (0, 6)\t1\n",
      "  (0, 0)\t1\n",
      "  (0, 3)\t1\n",
      "  (0, 4)\t1\n",
      "  (0, 5)\t1\n",
      "  (0, 2)\t1\n",
      "  (1, 7)\t2\n",
      "  (1, 1)\t1\n",
      "(3, 8)\n"
     ]
    },
    {
     "data": {
      "text/plain": [
       "<3x8 sparse matrix of type '<class 'numpy.int64'>'\n",
       "\twith 8 stored elements in Compressed Sparse Row format>"
      ]
     },
     "execution_count": 10,
     "metadata": {},
     "output_type": "execute_result"
    }
   ],
   "source": [
    "print(encoder.encoded_matrix)\n",
    "print( encoder.encoded_matrix.toarray().shape )\n",
    "encoder.encoded_matrix"
   ]
  },
  {
   "cell_type": "code",
   "execution_count": 11,
   "metadata": {},
   "outputs": [
    {
     "name": "stdout",
     "output_type": "stream",
     "text": [
      "['brown', 'did', 'dogs', 'fox', 'jumped', 'lazy', 'quick', 'yes']\n",
      "{'quick': 6, 'brown': 0, 'fox': 3, 'jumped': 4, 'lazy': 5, 'dogs': 2, 'yes': 7, 'did': 1}\n"
     ]
    }
   ],
   "source": [
    "print( encoder.encoder_features )#== 'yes, yes he did!'.split(' ')\n",
    "print( encoder.encoder_vocab )\n"
   ]
  },
  {
   "cell_type": "code",
   "execution_count": 12,
   "metadata": {},
   "outputs": [
    {
     "data": {
      "text/plain": [
       "array([[0, 0, 0, 0, 0, 0, 0, 0],\n",
       "       [0, 0, 0, 1, 0, 0, 1, 0]])"
      ]
     },
     "execution_count": 12,
     "metadata": {},
     "output_type": "execute_result"
    }
   ],
   "source": [
    "encoder.transform(MyCorporaText('Holly cow! The dog ate the quick fox').sentences ).toarray()"
   ]
  },
  {
   "cell_type": "markdown",
   "metadata": {},
   "source": [
    "# 2. Pipelines\n",
    "Things \n",
    "- preprocessing, dimensionality reduction, \n",
    "- Custom transformers, models,, \n",
    "    - Keras/Tensor support\n",
    "    - Pandas dataframes \n",
    "- parameter tuning, model selection, \n",
    "- reporting "
   ]
  },
  {
   "cell_type": "code",
   "execution_count": 106,
   "metadata": {},
   "outputs": [],
   "source": [
    "from sklearn import datasets\n",
    "\n",
    "from sklearn.pipeline import Pipeline , FeatureUnion \n",
    "from sklearn.model_selection import train_test_split \n",
    "\n",
    "from sklearn.preprocessing import FunctionTransformer #, TransformerMixin \n",
    "from sklearn.preprocessing import MinMaxScaler, LabelEncoder, StandardScaler\n",
    "\n",
    "from sklearn.linear_model import LogisticRegression\n",
    "from sklearn.neural_network import MLPClassifier\n",
    "from sklearn.ensemble import RandomForestClassifier\n",
    "from sklearn.svm import SVC\n",
    "\n",
    "from sklearn.metrics import accuracy_score, roc_auc_score, confusion_matrix, classification_report\n"
   ]
  },
  {
   "cell_type": "code",
   "execution_count": 103,
   "metadata": {
    "scrolled": false
   },
   "outputs": [
    {
     "name": "stdout",
     "output_type": "stream",
     "text": [
      "[0 1 0 1 0]\n",
      "[1 0 2 2 2]\n",
      "[0.9238095238095239, 0.9238095238095239, 0.9238095238095239, 0.9238095238095239, 0.9238095238095239]\n"
     ]
    },
    {
     "data": {
      "image/png": "[encoded data removed]",
      "text/plain": [
       "<Figure size 432x288 with 1 Axes>"
      ]
     },
     "metadata": {
      "needs_background": "light"
     },
     "output_type": "display_data"
    }
   ],
   "source": [
    "db = datasets.load_iris()\n",
    "X = db.data\n",
    "y = db.target\n",
    "X_train, X_test, y_train, y_test = train_test_split( X, y, test_size=0.3, random_state=59)\n",
    "y_baseline = [y_train.mean() ]*len( y_test ) \n",
    "\n",
    "print( y_train[:5] )\n",
    "\n",
    "print( y_test[:5] )\n",
    "print( y_baseline[:5] ) \n",
    "\n",
    "plt.hist( db.target ); "
   ]
  },
  {
   "cell_type": "code",
   "execution_count": 104,
   "metadata": {},
   "outputs": [
    {
     "data": {
      "text/html": [
       "<div>\n",
       "<style scoped>\n",
       "    .dataframe tbody tr th:only-of-type {\n",
       "        vertical-align: middle;\n",
       "    }\n",
       "\n",
       "    .dataframe tbody tr th {\n",
       "        vertical-align: top;\n",
       "    }\n",
       "\n",
       "    .dataframe thead th {\n",
       "        text-align: right;\n",
       "    }\n",
       "</style>\n",
       "<table border=\"1\" class=\"dataframe\">\n",
       "  <thead>\n",
       "    <tr style=\"text-align: right;\">\n",
       "      <th></th>\n",
       "      <th>0</th>\n",
       "      <th>1</th>\n",
       "      <th>2</th>\n",
       "      <th>3</th>\n",
       "    </tr>\n",
       "  </thead>\n",
       "  <tbody>\n",
       "    <tr>\n",
       "      <th>count</th>\n",
       "      <td>150.000000</td>\n",
       "      <td>150.000000</td>\n",
       "      <td>150.000000</td>\n",
       "      <td>150.000000</td>\n",
       "    </tr>\n",
       "    <tr>\n",
       "      <th>mean</th>\n",
       "      <td>5.843333</td>\n",
       "      <td>3.057333</td>\n",
       "      <td>3.758000</td>\n",
       "      <td>1.199333</td>\n",
       "    </tr>\n",
       "    <tr>\n",
       "      <th>std</th>\n",
       "      <td>0.828066</td>\n",
       "      <td>0.435866</td>\n",
       "      <td>1.765298</td>\n",
       "      <td>0.762238</td>\n",
       "    </tr>\n",
       "    <tr>\n",
       "      <th>min</th>\n",
       "      <td>4.300000</td>\n",
       "      <td>2.000000</td>\n",
       "      <td>1.000000</td>\n",
       "      <td>0.100000</td>\n",
       "    </tr>\n",
       "    <tr>\n",
       "      <th>25%</th>\n",
       "      <td>5.100000</td>\n",
       "      <td>2.800000</td>\n",
       "      <td>1.600000</td>\n",
       "      <td>0.300000</td>\n",
       "    </tr>\n",
       "    <tr>\n",
       "      <th>50%</th>\n",
       "      <td>5.800000</td>\n",
       "      <td>3.000000</td>\n",
       "      <td>4.350000</td>\n",
       "      <td>1.300000</td>\n",
       "    </tr>\n",
       "    <tr>\n",
       "      <th>75%</th>\n",
       "      <td>6.400000</td>\n",
       "      <td>3.300000</td>\n",
       "      <td>5.100000</td>\n",
       "      <td>1.800000</td>\n",
       "    </tr>\n",
       "    <tr>\n",
       "      <th>max</th>\n",
       "      <td>7.900000</td>\n",
       "      <td>4.400000</td>\n",
       "      <td>6.900000</td>\n",
       "      <td>2.500000</td>\n",
       "    </tr>\n",
       "  </tbody>\n",
       "</table>\n",
       "</div>"
      ],
      "text/plain": [
       "                0           1           2           3\n",
       "count  150.000000  150.000000  150.000000  150.000000\n",
       "mean     5.843333    3.057333    3.758000    1.199333\n",
       "std      0.828066    0.435866    1.765298    0.762238\n",
       "min      4.300000    2.000000    1.000000    0.100000\n",
       "25%      5.100000    2.800000    1.600000    0.300000\n",
       "50%      5.800000    3.000000    4.350000    1.300000\n",
       "75%      6.400000    3.300000    5.100000    1.800000\n",
       "max      7.900000    4.400000    6.900000    2.500000"
      ]
     },
     "execution_count": 104,
     "metadata": {},
     "output_type": "execute_result"
    }
   ],
   "source": [
    "pd.DataFrame.from_records( db.data ).describe()"
   ]
  },
  {
   "cell_type": "code",
   "execution_count": 56,
   "metadata": {},
   "outputs": [],
   "source": [
    "## Preprocessing\n",
    "#   - Imputer, Quadratic, PolynomialFeatures, \n",
    "#\n",
    "#######\n",
    "## Transformers: fit, transform   << StandardScaler, MinMaxScaler, \n",
    "## Estimators: fit, predict       << LogisticRegression, \n",
    "#### \n"
   ]
  },
  {
   "cell_type": "code",
   "execution_count": 92,
   "metadata": {},
   "outputs": [],
   "source": [
    "# df = corptbl.dframe[ ['Age', 'First name', 'Last name']]\n",
    "# df.dropna(inplace=True)\n",
    "# df.info()\n",
    "# df.isnull().sum()\n",
    "# df['age_bins'].unique\n",
    "\n",
    "# df['age_bins'] = pd.cut(df['Age'], bins=(2, 20, 103), labels=['young', 'mature'])\n",
    "# age_lbl = LabelEncoder()\n",
    "# df['maturity'] = age_lbl.fit_transform( df['age_bins'])\n",
    "# df\n",
    "\n",
    "# df['age_bins'].value_counts()\n",
    "# plt.hist( df['age_bins'])"
   ]
  },
  {
   "cell_type": "code",
   "execution_count": 163,
   "metadata": {},
   "outputs": [],
   "source": [
    "def run_with(pip2,name, y_base=y_baseline, logit=True):    \n",
    "    # a. train \n",
    "    pip2.fit( X_train, y_train )\n",
    "    # b. predict\n",
    "    y_predz = pip2.predict(X_test)\n",
    "\n",
    "    # c. results \n",
    "    if logit:\n",
    "        print(f\"\\n\\n{'='*10} {name.upper()} {'='*10}\\n\")\n",
    "        print( f\"Training accuracy: {pip2.score(X_train, y_train)}\" )\n",
    "        print( f\"Test accuracy: {pip2.score(X_test, y_test)}\" )\n",
    "    #     print( f\"--\")\n",
    "    #     print( f\"Baseline Report\\n{ classification_report(y_test, y_base)}\")\n",
    "        print( f\"--\")\n",
    "        print( f\"Classification Report\\n{ classification_report(y_test, y_predz)}\")\n",
    "        print( f\"--\")\n",
    "        print( f\"Confuision Matrix\\n{ confusion_matrix(y_test, y_predz)}\")    \n",
    "        #print(f\"\\n{'='*30}\\n\")\n",
    "    return (pip2.score(X_train, y_train), pip2.score(X_test, y_test))"
   ]
  },
  {
   "cell_type": "code",
   "execution_count": null,
   "metadata": {
    "scrolled": false
   },
   "outputs": [],
   "source": [
    "modelz = [\n",
    "    ('logit', LogisticRegression()),\n",
    "    ('rfc', RandomForestClassifier(n_estimators=200) ),   ##small-med size data, smaller number of classes/bins\n",
    "    ('svm', SVC() ) , ##  faster than random forest if larger raw data \n",
    "    ('dnn', MLPClassifier(\n",
    "        hidden_layer_sizes=(11,11,11), max_iter=500\n",
    "        ) ), # nlp, sequence/series data, tonnes of data, variety, images\n",
    "]\n",
    "     \n",
    "acc= []\n",
    "for i, model in enumerate(modelz):\n",
    "     #('minmax', MinMaxScaler()),\n",
    "    res = run_with ( Pipeline([\n",
    "                    ('std', StandardScaler()),\n",
    "                    model\n",
    "                     ]) ,\n",
    "                    \n",
    "                    f\"{i+1}. {model[0]}\",\n",
    "                    logit=False\n",
    "             )\n",
    "    acc.append( [model[0], *res] )\n",
    "    \n",
    "    \n",
    "d = pd.DataFrame.from_records(acc)\n",
    "d.columns = ['model', 'train_acc', 'test_acc']\n",
    "d = pd.melt(d, id_vars=['model'], \n",
    "               value_vars=['train_acc', 'test_acc'], \n",
    "               var_name='acc', value_name='score')\n",
    "# d\n",
    "sns.lineplot(x='model', y='score', hue='acc',data=d)"
   ]
  },
  {
   "cell_type": "code",
   "execution_count": null,
   "metadata": {},
   "outputs": [],
   "source": []
  },
  {
   "cell_type": "code",
   "execution_count": null,
   "metadata": {},
   "outputs": [],
   "source": []
  }
 ],
 "metadata": {
  "kernelspec": {
   "display_name": "Python 3",
   "language": "python",
   "name": "python3"
  },
  "language_info": {
   "codemirror_mode": {
    "name": "ipython",
    "version": 3
   },
   "file_extension": ".py",
   "mimetype": "text/x-python",
   "name": "python",
   "nbconvert_exporter": "python",
   "pygments_lexer": "ipython3",
   "version": "3.7.6"
  }
 },
 "nbformat": 4,
 "nbformat_minor": 4
}
